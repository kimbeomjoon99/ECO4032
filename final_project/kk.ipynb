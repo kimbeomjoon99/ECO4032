{
 "cells": [
  {
   "cell_type": "code",
   "execution_count": 1,
   "metadata": {},
   "outputs": [],
   "source": [
    "import numpy as np\n",
    "import pandas as pd\n",
    "import matplotlib.pyplot as plt\n",
    "import statsmodels.api as sm\n",
    "from statsmodels.tsa import stattools\n",
    "import pmdarima\n",
    "from arch import arch_model"
   ]
  },
  {
   "cell_type": "code",
   "execution_count": 84,
   "metadata": {},
   "outputs": [],
   "source": [
    "def best_AR_MA_checker(df,lower,upper):\n",
    "    from statsmodels.tsa.stattools import adfuller\n",
    "    arg=np.arange(lower,upper)\n",
    "    arg1=np.arange(lower,upper)\n",
    "    best_param_i=0\n",
    "    best_param_j=0\n",
    "    temp=12000000\n",
    "    rs=99\n",
    "    for i in arg:\n",
    "        for j in arg1:\n",
    "            model=sm.tsa.ARIMA(df, order=(i,0,j))\n",
    "            result=model.fit()\n",
    "            resid=adfuller(result.resid)\n",
    "            if (result.aic<temp and  adfuller(result.resid)[1]<0.05):\n",
    "                temp=result.aic\n",
    "                best_param_i=i\n",
    "                best_param_j=j\n",
    "                rs=resid[1]\n",
    "                \n",
    "                \n",
    "            print (\"AR: %d, MA: %d, AIC: %d; resid stationarity check: %d\"%(i,j,result.aic,resid[1]))\n",
    "            \n",
    "    print(\"the following function prints AIC criteria and finds the paramters for minimum AIC criteria\")        \n",
    "    print(\"best AR: %d, best MA: %d, best AIC: %d;  resid stationarity check:%d\"%(best_param_i, best_param_j, temp, rs))  "
   ]
  },
  {
   "cell_type": "markdown",
   "metadata": {},
   "source": [
    "1. lotte"
   ]
  },
  {
   "cell_type": "code",
   "execution_count": 172,
   "metadata": {},
   "outputs": [
    {
     "data": {
      "text/html": [
       "<div>\n",
       "<style scoped>\n",
       "    .dataframe tbody tr th:only-of-type {\n",
       "        vertical-align: middle;\n",
       "    }\n",
       "\n",
       "    .dataframe tbody tr th {\n",
       "        vertical-align: top;\n",
       "    }\n",
       "\n",
       "    .dataframe thead th {\n",
       "        text-align: right;\n",
       "    }\n",
       "</style>\n",
       "<table border=\"1\" class=\"dataframe\">\n",
       "  <thead>\n",
       "    <tr style=\"text-align: right;\">\n",
       "      <th></th>\n",
       "      <th>일자</th>\n",
       "      <th>종가</th>\n",
       "      <th>대비</th>\n",
       "      <th>등락률</th>\n",
       "      <th>시가</th>\n",
       "      <th>고가</th>\n",
       "      <th>저가</th>\n",
       "      <th>거래량</th>\n",
       "      <th>거래대금</th>\n",
       "      <th>시가총액</th>\n",
       "      <th>상장주식수</th>\n",
       "    </tr>\n",
       "  </thead>\n",
       "  <tbody>\n",
       "    <tr>\n",
       "      <th>0</th>\n",
       "      <td>2022/12/09</td>\n",
       "      <td>118000</td>\n",
       "      <td>2500</td>\n",
       "      <td>2.16</td>\n",
       "      <td>116500</td>\n",
       "      <td>118500</td>\n",
       "      <td>115500</td>\n",
       "      <td>113335</td>\n",
       "      <td>13309788000</td>\n",
       "      <td>4665263576000</td>\n",
       "      <td>39536132</td>\n",
       "    </tr>\n",
       "    <tr>\n",
       "      <th>1</th>\n",
       "      <td>2022/12/08</td>\n",
       "      <td>115500</td>\n",
       "      <td>0</td>\n",
       "      <td>0.00</td>\n",
       "      <td>115500</td>\n",
       "      <td>116000</td>\n",
       "      <td>114000</td>\n",
       "      <td>89520</td>\n",
       "      <td>10305658500</td>\n",
       "      <td>4566423246000</td>\n",
       "      <td>39536132</td>\n",
       "    </tr>\n",
       "    <tr>\n",
       "      <th>2</th>\n",
       "      <td>2022/12/07</td>\n",
       "      <td>115500</td>\n",
       "      <td>1500</td>\n",
       "      <td>1.32</td>\n",
       "      <td>114500</td>\n",
       "      <td>118000</td>\n",
       "      <td>114000</td>\n",
       "      <td>94624</td>\n",
       "      <td>10989776000</td>\n",
       "      <td>4566423246000</td>\n",
       "      <td>39536132</td>\n",
       "    </tr>\n",
       "    <tr>\n",
       "      <th>3</th>\n",
       "      <td>2022/12/06</td>\n",
       "      <td>114000</td>\n",
       "      <td>-2000</td>\n",
       "      <td>-1.72</td>\n",
       "      <td>115500</td>\n",
       "      <td>116500</td>\n",
       "      <td>112500</td>\n",
       "      <td>73947</td>\n",
       "      <td>8458677000</td>\n",
       "      <td>4507119048000</td>\n",
       "      <td>39536132</td>\n",
       "    </tr>\n",
       "    <tr>\n",
       "      <th>4</th>\n",
       "      <td>2022/12/05</td>\n",
       "      <td>116000</td>\n",
       "      <td>500</td>\n",
       "      <td>0.43</td>\n",
       "      <td>115500</td>\n",
       "      <td>117000</td>\n",
       "      <td>112500</td>\n",
       "      <td>82660</td>\n",
       "      <td>9512392000</td>\n",
       "      <td>4586191312000</td>\n",
       "      <td>39536132</td>\n",
       "    </tr>\n",
       "    <tr>\n",
       "      <th>...</th>\n",
       "      <td>...</td>\n",
       "      <td>...</td>\n",
       "      <td>...</td>\n",
       "      <td>...</td>\n",
       "      <td>...</td>\n",
       "      <td>...</td>\n",
       "      <td>...</td>\n",
       "      <td>...</td>\n",
       "      <td>...</td>\n",
       "      <td>...</td>\n",
       "      <td>...</td>\n",
       "    </tr>\n",
       "    <tr>\n",
       "      <th>929</th>\n",
       "      <td>2019/03/11</td>\n",
       "      <td>105500</td>\n",
       "      <td>2500</td>\n",
       "      <td>2.43</td>\n",
       "      <td>104000</td>\n",
       "      <td>107500</td>\n",
       "      <td>103500</td>\n",
       "      <td>156146</td>\n",
       "      <td>16406756500</td>\n",
       "      <td>4171061926000</td>\n",
       "      <td>39536132</td>\n",
       "    </tr>\n",
       "    <tr>\n",
       "      <th>930</th>\n",
       "      <td>2019/03/08</td>\n",
       "      <td>103000</td>\n",
       "      <td>-3000</td>\n",
       "      <td>-2.83</td>\n",
       "      <td>105500</td>\n",
       "      <td>105500</td>\n",
       "      <td>102500</td>\n",
       "      <td>189904</td>\n",
       "      <td>19642923500</td>\n",
       "      <td>4072221596000</td>\n",
       "      <td>39536132</td>\n",
       "    </tr>\n",
       "    <tr>\n",
       "      <th>931</th>\n",
       "      <td>2019/03/07</td>\n",
       "      <td>106000</td>\n",
       "      <td>-1500</td>\n",
       "      <td>-1.40</td>\n",
       "      <td>108000</td>\n",
       "      <td>108000</td>\n",
       "      <td>105000</td>\n",
       "      <td>90729</td>\n",
       "      <td>9681747250</td>\n",
       "      <td>4190829992000</td>\n",
       "      <td>39536132</td>\n",
       "    </tr>\n",
       "    <tr>\n",
       "      <th>932</th>\n",
       "      <td>2019/03/06</td>\n",
       "      <td>107500</td>\n",
       "      <td>-2000</td>\n",
       "      <td>-1.83</td>\n",
       "      <td>109000</td>\n",
       "      <td>109500</td>\n",
       "      <td>107000</td>\n",
       "      <td>144852</td>\n",
       "      <td>15622827000</td>\n",
       "      <td>4250134190000</td>\n",
       "      <td>39536132</td>\n",
       "    </tr>\n",
       "    <tr>\n",
       "      <th>933</th>\n",
       "      <td>2019/03/05</td>\n",
       "      <td>109500</td>\n",
       "      <td>-1000</td>\n",
       "      <td>-0.90</td>\n",
       "      <td>110000</td>\n",
       "      <td>110000</td>\n",
       "      <td>108500</td>\n",
       "      <td>98167</td>\n",
       "      <td>10713711500</td>\n",
       "      <td>4329206454000</td>\n",
       "      <td>39536132</td>\n",
       "    </tr>\n",
       "  </tbody>\n",
       "</table>\n",
       "<p>934 rows × 11 columns</p>\n",
       "</div>"
      ],
      "text/plain": [
       "             일자      종가    대비   등락률      시가      고가      저가     거래량  \\\n",
       "0    2022/12/09  118000  2500  2.16  116500  118500  115500  113335   \n",
       "1    2022/12/08  115500     0  0.00  115500  116000  114000   89520   \n",
       "2    2022/12/07  115500  1500  1.32  114500  118000  114000   94624   \n",
       "3    2022/12/06  114000 -2000 -1.72  115500  116500  112500   73947   \n",
       "4    2022/12/05  116000   500  0.43  115500  117000  112500   82660   \n",
       "..          ...     ...   ...   ...     ...     ...     ...     ...   \n",
       "929  2019/03/11  105500  2500  2.43  104000  107500  103500  156146   \n",
       "930  2019/03/08  103000 -3000 -2.83  105500  105500  102500  189904   \n",
       "931  2019/03/07  106000 -1500 -1.40  108000  108000  105000   90729   \n",
       "932  2019/03/06  107500 -2000 -1.83  109000  109500  107000  144852   \n",
       "933  2019/03/05  109500 -1000 -0.90  110000  110000  108500   98167   \n",
       "\n",
       "            거래대금           시가총액     상장주식수  \n",
       "0    13309788000  4665263576000  39536132  \n",
       "1    10305658500  4566423246000  39536132  \n",
       "2    10989776000  4566423246000  39536132  \n",
       "3     8458677000  4507119048000  39536132  \n",
       "4     9512392000  4586191312000  39536132  \n",
       "..           ...            ...       ...  \n",
       "929  16406756500  4171061926000  39536132  \n",
       "930  19642923500  4072221596000  39536132  \n",
       "931   9681747250  4190829992000  39536132  \n",
       "932  15622827000  4250134190000  39536132  \n",
       "933  10713711500  4329206454000  39536132  \n",
       "\n",
       "[934 rows x 11 columns]"
      ]
     },
     "execution_count": 172,
     "metadata": {},
     "output_type": "execute_result"
    }
   ],
   "source": [
    "orion_data = pd.read_csv(\"data_orion.csv\", encoding='cp949')\n",
    "orion_data"
   ]
  },
  {
   "cell_type": "code",
   "execution_count": 174,
   "metadata": {},
   "outputs": [
    {
     "data": {
      "text/html": [
       "<div>\n",
       "<style scoped>\n",
       "    .dataframe tbody tr th:only-of-type {\n",
       "        vertical-align: middle;\n",
       "    }\n",
       "\n",
       "    .dataframe tbody tr th {\n",
       "        vertical-align: top;\n",
       "    }\n",
       "\n",
       "    .dataframe thead th {\n",
       "        text-align: right;\n",
       "    }\n",
       "</style>\n",
       "<table border=\"1\" class=\"dataframe\">\n",
       "  <thead>\n",
       "    <tr style=\"text-align: right;\">\n",
       "      <th></th>\n",
       "      <th>일자</th>\n",
       "      <th>종가</th>\n",
       "      <th>대비</th>\n",
       "      <th>등락률</th>\n",
       "      <th>시가</th>\n",
       "      <th>고가</th>\n",
       "      <th>저가</th>\n",
       "      <th>거래량</th>\n",
       "      <th>거래대금</th>\n",
       "      <th>시가총액</th>\n",
       "      <th>상장주식수</th>\n",
       "    </tr>\n",
       "  </thead>\n",
       "  <tbody>\n",
       "    <tr>\n",
       "      <th>0</th>\n",
       "      <td>2022/12/09</td>\n",
       "      <td>10150</td>\n",
       "      <td>190</td>\n",
       "      <td>1.91</td>\n",
       "      <td>9960</td>\n",
       "      <td>10150</td>\n",
       "      <td>9950</td>\n",
       "      <td>59320</td>\n",
       "      <td>596096150</td>\n",
       "      <td>190361707200</td>\n",
       "      <td>18754848</td>\n",
       "    </tr>\n",
       "    <tr>\n",
       "      <th>1</th>\n",
       "      <td>2022/12/08</td>\n",
       "      <td>9960</td>\n",
       "      <td>-90</td>\n",
       "      <td>-0.90</td>\n",
       "      <td>10050</td>\n",
       "      <td>10100</td>\n",
       "      <td>9900</td>\n",
       "      <td>112214</td>\n",
       "      <td>1118637780</td>\n",
       "      <td>186798286080</td>\n",
       "      <td>18754848</td>\n",
       "    </tr>\n",
       "    <tr>\n",
       "      <th>2</th>\n",
       "      <td>2022/12/07</td>\n",
       "      <td>10050</td>\n",
       "      <td>0</td>\n",
       "      <td>0.00</td>\n",
       "      <td>10000</td>\n",
       "      <td>10150</td>\n",
       "      <td>9980</td>\n",
       "      <td>54289</td>\n",
       "      <td>544586350</td>\n",
       "      <td>188486222400</td>\n",
       "      <td>18754848</td>\n",
       "    </tr>\n",
       "    <tr>\n",
       "      <th>3</th>\n",
       "      <td>2022/12/06</td>\n",
       "      <td>10050</td>\n",
       "      <td>-150</td>\n",
       "      <td>-1.47</td>\n",
       "      <td>10100</td>\n",
       "      <td>10300</td>\n",
       "      <td>10000</td>\n",
       "      <td>80793</td>\n",
       "      <td>815535750</td>\n",
       "      <td>188486222400</td>\n",
       "      <td>18754848</td>\n",
       "    </tr>\n",
       "    <tr>\n",
       "      <th>4</th>\n",
       "      <td>2022/12/05</td>\n",
       "      <td>10200</td>\n",
       "      <td>0</td>\n",
       "      <td>0.00</td>\n",
       "      <td>10150</td>\n",
       "      <td>10300</td>\n",
       "      <td>10000</td>\n",
       "      <td>107238</td>\n",
       "      <td>1090371000</td>\n",
       "      <td>191299449600</td>\n",
       "      <td>18754848</td>\n",
       "    </tr>\n",
       "    <tr>\n",
       "      <th>...</th>\n",
       "      <td>...</td>\n",
       "      <td>...</td>\n",
       "      <td>...</td>\n",
       "      <td>...</td>\n",
       "      <td>...</td>\n",
       "      <td>...</td>\n",
       "      <td>...</td>\n",
       "      <td>...</td>\n",
       "      <td>...</td>\n",
       "      <td>...</td>\n",
       "      <td>...</td>\n",
       "    </tr>\n",
       "    <tr>\n",
       "      <th>929</th>\n",
       "      <td>2019/03/11</td>\n",
       "      <td>11762</td>\n",
       "      <td>1454</td>\n",
       "      <td>14.11</td>\n",
       "      <td>10516</td>\n",
       "      <td>11762</td>\n",
       "      <td>10438</td>\n",
       "      <td>1075934</td>\n",
       "      <td>23464904650</td>\n",
       "      <td>203934711000</td>\n",
       "      <td>9003740</td>\n",
       "    </tr>\n",
       "    <tr>\n",
       "      <th>930</th>\n",
       "      <td>2019/03/08</td>\n",
       "      <td>10308</td>\n",
       "      <td>52</td>\n",
       "      <td>0.51</td>\n",
       "      <td>10256</td>\n",
       "      <td>10671</td>\n",
       "      <td>10048</td>\n",
       "      <td>138594</td>\n",
       "      <td>2781642550</td>\n",
       "      <td>178724239000</td>\n",
       "      <td>9003740</td>\n",
       "    </tr>\n",
       "    <tr>\n",
       "      <th>931</th>\n",
       "      <td>2019/03/07</td>\n",
       "      <td>10256</td>\n",
       "      <td>52</td>\n",
       "      <td>0.51</td>\n",
       "      <td>10074</td>\n",
       "      <td>10593</td>\n",
       "      <td>10074</td>\n",
       "      <td>144751</td>\n",
       "      <td>2890662350</td>\n",
       "      <td>177823865000</td>\n",
       "      <td>9003740</td>\n",
       "    </tr>\n",
       "    <tr>\n",
       "      <th>932</th>\n",
       "      <td>2019/03/06</td>\n",
       "      <td>10204</td>\n",
       "      <td>-78</td>\n",
       "      <td>-0.76</td>\n",
       "      <td>10490</td>\n",
       "      <td>10645</td>\n",
       "      <td>9996</td>\n",
       "      <td>110209</td>\n",
       "      <td>2170752900</td>\n",
       "      <td>176923491000</td>\n",
       "      <td>9003740</td>\n",
       "    </tr>\n",
       "    <tr>\n",
       "      <th>933</th>\n",
       "      <td>2019/03/05</td>\n",
       "      <td>10282</td>\n",
       "      <td>52</td>\n",
       "      <td>0.51</td>\n",
       "      <td>10230</td>\n",
       "      <td>10438</td>\n",
       "      <td>10074</td>\n",
       "      <td>81109</td>\n",
       "      <td>1597273700</td>\n",
       "      <td>178274052000</td>\n",
       "      <td>9003740</td>\n",
       "    </tr>\n",
       "  </tbody>\n",
       "</table>\n",
       "<p>934 rows × 11 columns</p>\n",
       "</div>"
      ],
      "text/plain": [
       "             일자     종가    대비    등락률     시가     고가     저가      거래량  \\\n",
       "0    2022/12/09  10150   190   1.91   9960  10150   9950    59320   \n",
       "1    2022/12/08   9960   -90  -0.90  10050  10100   9900   112214   \n",
       "2    2022/12/07  10050     0   0.00  10000  10150   9980    54289   \n",
       "3    2022/12/06  10050  -150  -1.47  10100  10300  10000    80793   \n",
       "4    2022/12/05  10200     0   0.00  10150  10300  10000   107238   \n",
       "..          ...    ...   ...    ...    ...    ...    ...      ...   \n",
       "929  2019/03/11  11762  1454  14.11  10516  11762  10438  1075934   \n",
       "930  2019/03/08  10308    52   0.51  10256  10671  10048   138594   \n",
       "931  2019/03/07  10256    52   0.51  10074  10593  10074   144751   \n",
       "932  2019/03/06  10204   -78  -0.76  10490  10645   9996   110209   \n",
       "933  2019/03/05  10282    52   0.51  10230  10438  10074    81109   \n",
       "\n",
       "            거래대금          시가총액     상장주식수  \n",
       "0      596096150  190361707200  18754848  \n",
       "1     1118637780  186798286080  18754848  \n",
       "2      544586350  188486222400  18754848  \n",
       "3      815535750  188486222400  18754848  \n",
       "4     1090371000  191299449600  18754848  \n",
       "..           ...           ...       ...  \n",
       "929  23464904650  203934711000   9003740  \n",
       "930   2781642550  178724239000   9003740  \n",
       "931   2890662350  177823865000   9003740  \n",
       "932   2170752900  176923491000   9003740  \n",
       "933   1597273700  178274052000   9003740  \n",
       "\n",
       "[934 rows x 11 columns]"
      ]
     },
     "execution_count": 174,
     "metadata": {},
     "output_type": "execute_result"
    }
   ],
   "source": [
    "nova_data = pd.read_csv(\"data_nova.csv\", encoding='cp949')\n",
    "nova_data"
   ]
  },
  {
   "cell_type": "code",
   "execution_count": 77,
   "metadata": {},
   "outputs": [
    {
     "data": {
      "text/html": [
       "<div>\n",
       "<style scoped>\n",
       "    .dataframe tbody tr th:only-of-type {\n",
       "        vertical-align: middle;\n",
       "    }\n",
       "\n",
       "    .dataframe tbody tr th {\n",
       "        vertical-align: top;\n",
       "    }\n",
       "\n",
       "    .dataframe thead th {\n",
       "        text-align: right;\n",
       "    }\n",
       "</style>\n",
       "<table border=\"1\" class=\"dataframe\">\n",
       "  <thead>\n",
       "    <tr style=\"text-align: right;\">\n",
       "      <th></th>\n",
       "      <th>일자</th>\n",
       "      <th>종가</th>\n",
       "      <th>대비</th>\n",
       "      <th>등락률</th>\n",
       "      <th>시가</th>\n",
       "      <th>고가</th>\n",
       "      <th>저가</th>\n",
       "      <th>거래량</th>\n",
       "      <th>거래대금</th>\n",
       "      <th>시가총액</th>\n",
       "      <th>상장주식수</th>\n",
       "    </tr>\n",
       "  </thead>\n",
       "  <tbody>\n",
       "    <tr>\n",
       "      <th>0</th>\n",
       "      <td>2022/12/09</td>\n",
       "      <td>90100</td>\n",
       "      <td>1900</td>\n",
       "      <td>2.15</td>\n",
       "      <td>88700</td>\n",
       "      <td>90400</td>\n",
       "      <td>88200</td>\n",
       "      <td>87009</td>\n",
       "      <td>7807481200</td>\n",
       "      <td>2548816825500</td>\n",
       "      <td>28288755</td>\n",
       "    </tr>\n",
       "    <tr>\n",
       "      <th>1</th>\n",
       "      <td>2022/12/08</td>\n",
       "      <td>88200</td>\n",
       "      <td>-2300</td>\n",
       "      <td>-2.54</td>\n",
       "      <td>90200</td>\n",
       "      <td>90400</td>\n",
       "      <td>87800</td>\n",
       "      <td>103301</td>\n",
       "      <td>9131482200</td>\n",
       "      <td>2495068191000</td>\n",
       "      <td>28288755</td>\n",
       "    </tr>\n",
       "    <tr>\n",
       "      <th>2</th>\n",
       "      <td>2022/12/07</td>\n",
       "      <td>90500</td>\n",
       "      <td>4700</td>\n",
       "      <td>5.48</td>\n",
       "      <td>85900</td>\n",
       "      <td>90700</td>\n",
       "      <td>85600</td>\n",
       "      <td>202934</td>\n",
       "      <td>18132611400</td>\n",
       "      <td>2560132327500</td>\n",
       "      <td>28288755</td>\n",
       "    </tr>\n",
       "    <tr>\n",
       "      <th>3</th>\n",
       "      <td>2022/12/06</td>\n",
       "      <td>85800</td>\n",
       "      <td>700</td>\n",
       "      <td>0.82</td>\n",
       "      <td>84700</td>\n",
       "      <td>86900</td>\n",
       "      <td>84300</td>\n",
       "      <td>87333</td>\n",
       "      <td>7515273500</td>\n",
       "      <td>2427175179000</td>\n",
       "      <td>28288755</td>\n",
       "    </tr>\n",
       "    <tr>\n",
       "      <th>4</th>\n",
       "      <td>2022/12/05</td>\n",
       "      <td>85100</td>\n",
       "      <td>1200</td>\n",
       "      <td>1.43</td>\n",
       "      <td>83900</td>\n",
       "      <td>86000</td>\n",
       "      <td>83500</td>\n",
       "      <td>73324</td>\n",
       "      <td>6239190700</td>\n",
       "      <td>2407373050500</td>\n",
       "      <td>28288755</td>\n",
       "    </tr>\n",
       "    <tr>\n",
       "      <th>...</th>\n",
       "      <td>...</td>\n",
       "      <td>...</td>\n",
       "      <td>...</td>\n",
       "      <td>...</td>\n",
       "      <td>...</td>\n",
       "      <td>...</td>\n",
       "      <td>...</td>\n",
       "      <td>...</td>\n",
       "      <td>...</td>\n",
       "      <td>...</td>\n",
       "      <td>...</td>\n",
       "    </tr>\n",
       "    <tr>\n",
       "      <th>929</th>\n",
       "      <td>2019/03/11</td>\n",
       "      <td>188500</td>\n",
       "      <td>-500</td>\n",
       "      <td>-0.26</td>\n",
       "      <td>190000</td>\n",
       "      <td>190000</td>\n",
       "      <td>187500</td>\n",
       "      <td>52760</td>\n",
       "      <td>9947621500</td>\n",
       "      <td>5332430317500</td>\n",
       "      <td>28288755</td>\n",
       "    </tr>\n",
       "    <tr>\n",
       "      <th>930</th>\n",
       "      <td>2019/03/08</td>\n",
       "      <td>189000</td>\n",
       "      <td>500</td>\n",
       "      <td>0.27</td>\n",
       "      <td>188500</td>\n",
       "      <td>193000</td>\n",
       "      <td>187500</td>\n",
       "      <td>64773</td>\n",
       "      <td>12361392500</td>\n",
       "      <td>5346574695000</td>\n",
       "      <td>28288755</td>\n",
       "    </tr>\n",
       "    <tr>\n",
       "      <th>931</th>\n",
       "      <td>2019/03/07</td>\n",
       "      <td>188500</td>\n",
       "      <td>-500</td>\n",
       "      <td>-0.26</td>\n",
       "      <td>188500</td>\n",
       "      <td>190000</td>\n",
       "      <td>187000</td>\n",
       "      <td>73133</td>\n",
       "      <td>13749816000</td>\n",
       "      <td>5332430317500</td>\n",
       "      <td>28288755</td>\n",
       "    </tr>\n",
       "    <tr>\n",
       "      <th>932</th>\n",
       "      <td>2019/03/06</td>\n",
       "      <td>189000</td>\n",
       "      <td>-1500</td>\n",
       "      <td>-0.79</td>\n",
       "      <td>190500</td>\n",
       "      <td>190500</td>\n",
       "      <td>188500</td>\n",
       "      <td>60949</td>\n",
       "      <td>11534360000</td>\n",
       "      <td>5346574695000</td>\n",
       "      <td>28288755</td>\n",
       "    </tr>\n",
       "    <tr>\n",
       "      <th>933</th>\n",
       "      <td>2019/03/05</td>\n",
       "      <td>190500</td>\n",
       "      <td>-500</td>\n",
       "      <td>-0.26</td>\n",
       "      <td>191000</td>\n",
       "      <td>191000</td>\n",
       "      <td>188500</td>\n",
       "      <td>39158</td>\n",
       "      <td>7439531500</td>\n",
       "      <td>5389007827500</td>\n",
       "      <td>28288755</td>\n",
       "    </tr>\n",
       "  </tbody>\n",
       "</table>\n",
       "<p>934 rows × 11 columns</p>\n",
       "</div>"
      ],
      "text/plain": [
       "             일자      종가    대비   등락률      시가      고가      저가     거래량  \\\n",
       "0    2022/12/09   90100  1900  2.15   88700   90400   88200   87009   \n",
       "1    2022/12/08   88200 -2300 -2.54   90200   90400   87800  103301   \n",
       "2    2022/12/07   90500  4700  5.48   85900   90700   85600  202934   \n",
       "3    2022/12/06   85800   700  0.82   84700   86900   84300   87333   \n",
       "4    2022/12/05   85100  1200  1.43   83900   86000   83500   73324   \n",
       "..          ...     ...   ...   ...     ...     ...     ...     ...   \n",
       "929  2019/03/11  188500  -500 -0.26  190000  190000  187500   52760   \n",
       "930  2019/03/08  189000   500  0.27  188500  193000  187500   64773   \n",
       "931  2019/03/07  188500  -500 -0.26  188500  190000  187000   73133   \n",
       "932  2019/03/06  189000 -1500 -0.79  190500  190500  188500   60949   \n",
       "933  2019/03/05  190500  -500 -0.26  191000  191000  188500   39158   \n",
       "\n",
       "            거래대금           시가총액     상장주식수  \n",
       "0     7807481200  2548816825500  28288755  \n",
       "1     9131482200  2495068191000  28288755  \n",
       "2    18132611400  2560132327500  28288755  \n",
       "3     7515273500  2427175179000  28288755  \n",
       "4     6239190700  2407373050500  28288755  \n",
       "..           ...            ...       ...  \n",
       "929   9947621500  5332430317500  28288755  \n",
       "930  12361392500  5346574695000  28288755  \n",
       "931  13749816000  5332430317500  28288755  \n",
       "932  11534360000  5346574695000  28288755  \n",
       "933   7439531500  5389007827500  28288755  \n",
       "\n",
       "[934 rows x 11 columns]"
      ]
     },
     "execution_count": 77,
     "metadata": {},
     "output_type": "execute_result"
    }
   ],
   "source": [
    "lotte_data = pd.read_csv(\"data_lotte_f.csv\", encoding = 'cp949')\n",
    "lotte_data"
   ]
  },
  {
   "cell_type": "code",
   "execution_count": 175,
   "metadata": {},
   "outputs": [
    {
     "data": {
      "text/html": [
       "<div>\n",
       "<style scoped>\n",
       "    .dataframe tbody tr th:only-of-type {\n",
       "        vertical-align: middle;\n",
       "    }\n",
       "\n",
       "    .dataframe tbody tr th {\n",
       "        vertical-align: top;\n",
       "    }\n",
       "\n",
       "    .dataframe thead th {\n",
       "        text-align: right;\n",
       "    }\n",
       "</style>\n",
       "<table border=\"1\" class=\"dataframe\">\n",
       "  <thead>\n",
       "    <tr style=\"text-align: right;\">\n",
       "      <th></th>\n",
       "      <th>종가</th>\n",
       "    </tr>\n",
       "    <tr>\n",
       "      <th>일자</th>\n",
       "      <th></th>\n",
       "    </tr>\n",
       "  </thead>\n",
       "  <tbody>\n",
       "    <tr>\n",
       "      <th>2019/03/05</th>\n",
       "      <td>109500</td>\n",
       "    </tr>\n",
       "    <tr>\n",
       "      <th>2019/03/06</th>\n",
       "      <td>107500</td>\n",
       "    </tr>\n",
       "    <tr>\n",
       "      <th>2019/03/07</th>\n",
       "      <td>106000</td>\n",
       "    </tr>\n",
       "    <tr>\n",
       "      <th>2019/03/08</th>\n",
       "      <td>103000</td>\n",
       "    </tr>\n",
       "    <tr>\n",
       "      <th>2019/03/11</th>\n",
       "      <td>105500</td>\n",
       "    </tr>\n",
       "    <tr>\n",
       "      <th>...</th>\n",
       "      <td>...</td>\n",
       "    </tr>\n",
       "    <tr>\n",
       "      <th>2022/12/05</th>\n",
       "      <td>116000</td>\n",
       "    </tr>\n",
       "    <tr>\n",
       "      <th>2022/12/06</th>\n",
       "      <td>114000</td>\n",
       "    </tr>\n",
       "    <tr>\n",
       "      <th>2022/12/07</th>\n",
       "      <td>115500</td>\n",
       "    </tr>\n",
       "    <tr>\n",
       "      <th>2022/12/08</th>\n",
       "      <td>115500</td>\n",
       "    </tr>\n",
       "    <tr>\n",
       "      <th>2022/12/09</th>\n",
       "      <td>118000</td>\n",
       "    </tr>\n",
       "  </tbody>\n",
       "</table>\n",
       "<p>934 rows × 1 columns</p>\n",
       "</div>"
      ],
      "text/plain": [
       "                종가\n",
       "일자                \n",
       "2019/03/05  109500\n",
       "2019/03/06  107500\n",
       "2019/03/07  106000\n",
       "2019/03/08  103000\n",
       "2019/03/11  105500\n",
       "...            ...\n",
       "2022/12/05  116000\n",
       "2022/12/06  114000\n",
       "2022/12/07  115500\n",
       "2022/12/08  115500\n",
       "2022/12/09  118000\n",
       "\n",
       "[934 rows x 1 columns]"
      ]
     },
     "execution_count": 175,
     "metadata": {},
     "output_type": "execute_result"
    }
   ],
   "source": [
    "orion_value = orion_data.iloc[933::-1, 0:2]\n",
    "orion_value = orion_value.set_index('일자')\n",
    "orion_value"
   ]
  },
  {
   "cell_type": "code",
   "execution_count": 176,
   "metadata": {},
   "outputs": [
    {
     "data": {
      "text/html": [
       "<div>\n",
       "<style scoped>\n",
       "    .dataframe tbody tr th:only-of-type {\n",
       "        vertical-align: middle;\n",
       "    }\n",
       "\n",
       "    .dataframe tbody tr th {\n",
       "        vertical-align: top;\n",
       "    }\n",
       "\n",
       "    .dataframe thead th {\n",
       "        text-align: right;\n",
       "    }\n",
       "</style>\n",
       "<table border=\"1\" class=\"dataframe\">\n",
       "  <thead>\n",
       "    <tr style=\"text-align: right;\">\n",
       "      <th></th>\n",
       "      <th>종가</th>\n",
       "    </tr>\n",
       "    <tr>\n",
       "      <th>일자</th>\n",
       "      <th></th>\n",
       "    </tr>\n",
       "  </thead>\n",
       "  <tbody>\n",
       "    <tr>\n",
       "      <th>2019/03/05</th>\n",
       "      <td>10282</td>\n",
       "    </tr>\n",
       "    <tr>\n",
       "      <th>2019/03/06</th>\n",
       "      <td>10204</td>\n",
       "    </tr>\n",
       "    <tr>\n",
       "      <th>2019/03/07</th>\n",
       "      <td>10256</td>\n",
       "    </tr>\n",
       "    <tr>\n",
       "      <th>2019/03/08</th>\n",
       "      <td>10308</td>\n",
       "    </tr>\n",
       "    <tr>\n",
       "      <th>2019/03/11</th>\n",
       "      <td>11762</td>\n",
       "    </tr>\n",
       "    <tr>\n",
       "      <th>...</th>\n",
       "      <td>...</td>\n",
       "    </tr>\n",
       "    <tr>\n",
       "      <th>2022/12/05</th>\n",
       "      <td>10200</td>\n",
       "    </tr>\n",
       "    <tr>\n",
       "      <th>2022/12/06</th>\n",
       "      <td>10050</td>\n",
       "    </tr>\n",
       "    <tr>\n",
       "      <th>2022/12/07</th>\n",
       "      <td>10050</td>\n",
       "    </tr>\n",
       "    <tr>\n",
       "      <th>2022/12/08</th>\n",
       "      <td>9960</td>\n",
       "    </tr>\n",
       "    <tr>\n",
       "      <th>2022/12/09</th>\n",
       "      <td>10150</td>\n",
       "    </tr>\n",
       "  </tbody>\n",
       "</table>\n",
       "<p>934 rows × 1 columns</p>\n",
       "</div>"
      ],
      "text/plain": [
       "               종가\n",
       "일자               \n",
       "2019/03/05  10282\n",
       "2019/03/06  10204\n",
       "2019/03/07  10256\n",
       "2019/03/08  10308\n",
       "2019/03/11  11762\n",
       "...           ...\n",
       "2022/12/05  10200\n",
       "2022/12/06  10050\n",
       "2022/12/07  10050\n",
       "2022/12/08   9960\n",
       "2022/12/09  10150\n",
       "\n",
       "[934 rows x 1 columns]"
      ]
     },
     "execution_count": 176,
     "metadata": {},
     "output_type": "execute_result"
    }
   ],
   "source": [
    "nova_value = nova_data.iloc[933::-1, 0:2]\n",
    "nova_value = nova_value.set_index('일자')\n",
    "nova_value"
   ]
  },
  {
   "cell_type": "code",
   "execution_count": 80,
   "metadata": {},
   "outputs": [
    {
     "data": {
      "text/html": [
       "<div>\n",
       "<style scoped>\n",
       "    .dataframe tbody tr th:only-of-type {\n",
       "        vertical-align: middle;\n",
       "    }\n",
       "\n",
       "    .dataframe tbody tr th {\n",
       "        vertical-align: top;\n",
       "    }\n",
       "\n",
       "    .dataframe thead th {\n",
       "        text-align: right;\n",
       "    }\n",
       "</style>\n",
       "<table border=\"1\" class=\"dataframe\">\n",
       "  <thead>\n",
       "    <tr style=\"text-align: right;\">\n",
       "      <th></th>\n",
       "      <th>종가</th>\n",
       "    </tr>\n",
       "    <tr>\n",
       "      <th>일자</th>\n",
       "      <th></th>\n",
       "    </tr>\n",
       "  </thead>\n",
       "  <tbody>\n",
       "    <tr>\n",
       "      <th>2019/03/05</th>\n",
       "      <td>190500</td>\n",
       "    </tr>\n",
       "    <tr>\n",
       "      <th>2019/03/06</th>\n",
       "      <td>189000</td>\n",
       "    </tr>\n",
       "    <tr>\n",
       "      <th>2019/03/07</th>\n",
       "      <td>188500</td>\n",
       "    </tr>\n",
       "    <tr>\n",
       "      <th>2019/03/08</th>\n",
       "      <td>189000</td>\n",
       "    </tr>\n",
       "    <tr>\n",
       "      <th>2019/03/11</th>\n",
       "      <td>188500</td>\n",
       "    </tr>\n",
       "    <tr>\n",
       "      <th>...</th>\n",
       "      <td>...</td>\n",
       "    </tr>\n",
       "    <tr>\n",
       "      <th>2022/12/05</th>\n",
       "      <td>85100</td>\n",
       "    </tr>\n",
       "    <tr>\n",
       "      <th>2022/12/06</th>\n",
       "      <td>85800</td>\n",
       "    </tr>\n",
       "    <tr>\n",
       "      <th>2022/12/07</th>\n",
       "      <td>90500</td>\n",
       "    </tr>\n",
       "    <tr>\n",
       "      <th>2022/12/08</th>\n",
       "      <td>88200</td>\n",
       "    </tr>\n",
       "    <tr>\n",
       "      <th>2022/12/09</th>\n",
       "      <td>90100</td>\n",
       "    </tr>\n",
       "  </tbody>\n",
       "</table>\n",
       "<p>934 rows × 1 columns</p>\n",
       "</div>"
      ],
      "text/plain": [
       "                종가\n",
       "일자                \n",
       "2019/03/05  190500\n",
       "2019/03/06  189000\n",
       "2019/03/07  188500\n",
       "2019/03/08  189000\n",
       "2019/03/11  188500\n",
       "...            ...\n",
       "2022/12/05   85100\n",
       "2022/12/06   85800\n",
       "2022/12/07   90500\n",
       "2022/12/08   88200\n",
       "2022/12/09   90100\n",
       "\n",
       "[934 rows x 1 columns]"
      ]
     },
     "execution_count": 80,
     "metadata": {},
     "output_type": "execute_result"
    }
   ],
   "source": [
    "lotte_value = lotte_data.iloc[933::-1, 0:2]\n",
    "lotte_value = lotte_value.set_index('일자')\n",
    "lotte_value"
   ]
  },
  {
   "cell_type": "code",
   "execution_count": 78,
   "metadata": {},
   "outputs": [
    {
     "data": {
      "text/html": [
       "<div>\n",
       "<style scoped>\n",
       "    .dataframe tbody tr th:only-of-type {\n",
       "        vertical-align: middle;\n",
       "    }\n",
       "\n",
       "    .dataframe tbody tr th {\n",
       "        vertical-align: top;\n",
       "    }\n",
       "\n",
       "    .dataframe thead th {\n",
       "        text-align: right;\n",
       "    }\n",
       "</style>\n",
       "<table border=\"1\" class=\"dataframe\">\n",
       "  <thead>\n",
       "    <tr style=\"text-align: right;\">\n",
       "      <th></th>\n",
       "      <th>종가</th>\n",
       "    </tr>\n",
       "    <tr>\n",
       "      <th>일자</th>\n",
       "      <th></th>\n",
       "    </tr>\n",
       "  </thead>\n",
       "  <tbody>\n",
       "    <tr>\n",
       "      <th>2019/03/05</th>\n",
       "      <td>190500</td>\n",
       "    </tr>\n",
       "    <tr>\n",
       "      <th>2019/03/06</th>\n",
       "      <td>189000</td>\n",
       "    </tr>\n",
       "    <tr>\n",
       "      <th>2019/03/07</th>\n",
       "      <td>188500</td>\n",
       "    </tr>\n",
       "    <tr>\n",
       "      <th>2019/03/08</th>\n",
       "      <td>189000</td>\n",
       "    </tr>\n",
       "    <tr>\n",
       "      <th>2019/03/11</th>\n",
       "      <td>188500</td>\n",
       "    </tr>\n",
       "    <tr>\n",
       "      <th>...</th>\n",
       "      <td>...</td>\n",
       "    </tr>\n",
       "    <tr>\n",
       "      <th>2022/06/17</th>\n",
       "      <td>97900</td>\n",
       "    </tr>\n",
       "    <tr>\n",
       "      <th>2022/06/20</th>\n",
       "      <td>98100</td>\n",
       "    </tr>\n",
       "    <tr>\n",
       "      <th>2022/06/21</th>\n",
       "      <td>103000</td>\n",
       "    </tr>\n",
       "    <tr>\n",
       "      <th>2022/06/22</th>\n",
       "      <td>99200</td>\n",
       "    </tr>\n",
       "    <tr>\n",
       "      <th>2022/06/23</th>\n",
       "      <td>98900</td>\n",
       "    </tr>\n",
       "  </tbody>\n",
       "</table>\n",
       "<p>818 rows × 1 columns</p>\n",
       "</div>"
      ],
      "text/plain": [
       "                종가\n",
       "일자                \n",
       "2019/03/05  190500\n",
       "2019/03/06  189000\n",
       "2019/03/07  188500\n",
       "2019/03/08  189000\n",
       "2019/03/11  188500\n",
       "...            ...\n",
       "2022/06/17   97900\n",
       "2022/06/20   98100\n",
       "2022/06/21  103000\n",
       "2022/06/22   99200\n",
       "2022/06/23   98900\n",
       "\n",
       "[818 rows x 1 columns]"
      ]
     },
     "execution_count": 78,
     "metadata": {},
     "output_type": "execute_result"
    }
   ],
   "source": [
    "lotte_v = lotte_data.iloc[933:115:-1, 0:2]\n",
    "lotte_v = lotte_v.set_index('일자')\n",
    "lotte_v"
   ]
  },
  {
   "cell_type": "code",
   "execution_count": 79,
   "metadata": {},
   "outputs": [
    {
     "data": {
      "text/html": [
       "<div>\n",
       "<style scoped>\n",
       "    .dataframe tbody tr th:only-of-type {\n",
       "        vertical-align: middle;\n",
       "    }\n",
       "\n",
       "    .dataframe tbody tr th {\n",
       "        vertical-align: top;\n",
       "    }\n",
       "\n",
       "    .dataframe thead th {\n",
       "        text-align: right;\n",
       "    }\n",
       "</style>\n",
       "<table border=\"1\" class=\"dataframe\">\n",
       "  <thead>\n",
       "    <tr style=\"text-align: right;\">\n",
       "      <th></th>\n",
       "      <th>종가</th>\n",
       "    </tr>\n",
       "    <tr>\n",
       "      <th>일자</th>\n",
       "      <th></th>\n",
       "    </tr>\n",
       "  </thead>\n",
       "  <tbody>\n",
       "    <tr>\n",
       "      <th>2022/06/24</th>\n",
       "      <td>101000</td>\n",
       "    </tr>\n",
       "    <tr>\n",
       "      <th>2022/06/27</th>\n",
       "      <td>103500</td>\n",
       "    </tr>\n",
       "    <tr>\n",
       "      <th>2022/06/28</th>\n",
       "      <td>103000</td>\n",
       "    </tr>\n",
       "    <tr>\n",
       "      <th>2022/06/29</th>\n",
       "      <td>102000</td>\n",
       "    </tr>\n",
       "    <tr>\n",
       "      <th>2022/06/30</th>\n",
       "      <td>104000</td>\n",
       "    </tr>\n",
       "    <tr>\n",
       "      <th>...</th>\n",
       "      <td>...</td>\n",
       "    </tr>\n",
       "    <tr>\n",
       "      <th>2022/12/02</th>\n",
       "      <td>83900</td>\n",
       "    </tr>\n",
       "    <tr>\n",
       "      <th>2022/12/05</th>\n",
       "      <td>85100</td>\n",
       "    </tr>\n",
       "    <tr>\n",
       "      <th>2022/12/06</th>\n",
       "      <td>85800</td>\n",
       "    </tr>\n",
       "    <tr>\n",
       "      <th>2022/12/07</th>\n",
       "      <td>90500</td>\n",
       "    </tr>\n",
       "    <tr>\n",
       "      <th>2022/12/08</th>\n",
       "      <td>88200</td>\n",
       "    </tr>\n",
       "  </tbody>\n",
       "</table>\n",
       "<p>115 rows × 1 columns</p>\n",
       "</div>"
      ],
      "text/plain": [
       "                종가\n",
       "일자                \n",
       "2022/06/24  101000\n",
       "2022/06/27  103500\n",
       "2022/06/28  103000\n",
       "2022/06/29  102000\n",
       "2022/06/30  104000\n",
       "...            ...\n",
       "2022/12/02   83900\n",
       "2022/12/05   85100\n",
       "2022/12/06   85800\n",
       "2022/12/07   90500\n",
       "2022/12/08   88200\n",
       "\n",
       "[115 rows x 1 columns]"
      ]
     },
     "execution_count": 79,
     "metadata": {},
     "output_type": "execute_result"
    }
   ],
   "source": [
    "lotte_real = lotte_data.iloc[115:0:-1, 0:2]\n",
    "lotte_real = lotte_real.set_index('일자')\n",
    "lotte_real"
   ]
  },
  {
   "cell_type": "code",
   "execution_count": 81,
   "metadata": {},
   "outputs": [
    {
     "data": {
      "image/png": "[encoded data removed]",
      "text/plain": [
       "<Figure size 432x288 with 1 Axes>"
      ]
     },
     "metadata": {
      "needs_background": "light"
     },
     "output_type": "display_data"
    }
   ],
   "source": [
    "acfl = stattools.acf(np.array(lotte_v), nlags=50, qstat=True, fft=False)\n",
    "plt.bar(range(51), acfl[0])\n",
    "plt.show()"
   ]
  },
  {
   "cell_type": "code",
   "execution_count": 82,
   "metadata": {},
   "outputs": [
    {
     "name": "stdout",
     "output_type": "stream",
     "text": [
      "[1.63051559e-177 0.00000000e+000 0.00000000e+000 0.00000000e+000\n",
      " 0.00000000e+000 0.00000000e+000 0.00000000e+000 0.00000000e+000\n",
      " 0.00000000e+000 0.00000000e+000 0.00000000e+000 0.00000000e+000\n",
      " 0.00000000e+000 0.00000000e+000 0.00000000e+000 0.00000000e+000\n",
      " 0.00000000e+000 0.00000000e+000 0.00000000e+000 0.00000000e+000\n",
      " 0.00000000e+000 0.00000000e+000 0.00000000e+000 0.00000000e+000\n",
      " 0.00000000e+000 0.00000000e+000 0.00000000e+000 0.00000000e+000\n",
      " 0.00000000e+000 0.00000000e+000 0.00000000e+000 0.00000000e+000\n",
      " 0.00000000e+000 0.00000000e+000 0.00000000e+000 0.00000000e+000\n",
      " 0.00000000e+000 0.00000000e+000 0.00000000e+000 0.00000000e+000\n",
      " 0.00000000e+000 0.00000000e+000 0.00000000e+000 0.00000000e+000\n",
      " 0.00000000e+000 0.00000000e+000 0.00000000e+000 0.00000000e+000\n",
      " 0.00000000e+000 0.00000000e+000]\n"
     ]
    }
   ],
   "source": [
    "print(acfl[2])"
   ]
  },
  {
   "cell_type": "code",
   "execution_count": 85,
   "metadata": {},
   "outputs": [
    {
     "name": "stdout",
     "output_type": "stream",
     "text": [
      "추정된 차수 d = 1\n"
     ]
    }
   ],
   "source": [
    "kpss_diffs = pmdarima.arima.ndiffs(lotte_v, alpha=0.05, test='kpss', max_d=6)\n",
    "adf_diffs = pmdarima.arima.ndiffs(lotte_v, alpha=0.05, test='adf', max_d=6)\n",
    "n_diffs = max(adf_diffs, kpss_diffs)\n",
    "\n",
    "print(f\"추정된 차수 d = {n_diffs}\")"
   ]
  },
  {
   "cell_type": "code",
   "execution_count": 86,
   "metadata": {},
   "outputs": [
    {
     "name": "stderr",
     "output_type": "stream",
     "text": [
      "C:\\Users\\Kimbeomjoon.DESKTOP-5T6FIPU\\AppData\\Roaming\\Python\\Python39\\site-packages\\statsmodels\\tsa\\base\\tsa_model.py:471: ValueWarning: A date index has been provided, but it has no associated frequency information and so will be ignored when e.g. forecasting.\n",
      "  self._init_dates(dates, freq)\n",
      "C:\\Users\\Kimbeomjoon.DESKTOP-5T6FIPU\\AppData\\Roaming\\Python\\Python39\\site-packages\\statsmodels\\tsa\\base\\tsa_model.py:471: ValueWarning: A date index has been provided, but it has no associated frequency information and so will be ignored when e.g. forecasting.\n",
      "  self._init_dates(dates, freq)\n",
      "C:\\Users\\Kimbeomjoon.DESKTOP-5T6FIPU\\AppData\\Roaming\\Python\\Python39\\site-packages\\statsmodels\\tsa\\base\\tsa_model.py:471: ValueWarning: A date index has been provided, but it has no associated frequency information and so will be ignored when e.g. forecasting.\n",
      "  self._init_dates(dates, freq)\n",
      "C:\\Users\\Kimbeomjoon.DESKTOP-5T6FIPU\\AppData\\Roaming\\Python\\Python39\\site-packages\\statsmodels\\tsa\\base\\tsa_model.py:471: ValueWarning: A date index has been provided, but it has no associated frequency information and so will be ignored when e.g. forecasting.\n",
      "  self._init_dates(dates, freq)\n",
      "C:\\Users\\Kimbeomjoon.DESKTOP-5T6FIPU\\AppData\\Roaming\\Python\\Python39\\site-packages\\statsmodels\\tsa\\base\\tsa_model.py:471: ValueWarning: A date index has been provided, but it has no associated frequency information and so will be ignored when e.g. forecasting.\n",
      "  self._init_dates(dates, freq)\n",
      "C:\\Users\\Kimbeomjoon.DESKTOP-5T6FIPU\\AppData\\Roaming\\Python\\Python39\\site-packages\\statsmodels\\tsa\\base\\tsa_model.py:471: ValueWarning: A date index has been provided, but it has no associated frequency information and so will be ignored when e.g. forecasting.\n",
      "  self._init_dates(dates, freq)\n",
      "C:\\Users\\Kimbeomjoon.DESKTOP-5T6FIPU\\AppData\\Roaming\\Python\\Python39\\site-packages\\statsmodels\\tsa\\base\\tsa_model.py:471: ValueWarning: A date index has been provided, but it has no associated frequency information and so will be ignored when e.g. forecasting.\n",
      "  self._init_dates(dates, freq)\n",
      "C:\\Users\\Kimbeomjoon.DESKTOP-5T6FIPU\\AppData\\Roaming\\Python\\Python39\\site-packages\\statsmodels\\tsa\\base\\tsa_model.py:471: ValueWarning: A date index has been provided, but it has no associated frequency information and so will be ignored when e.g. forecasting.\n",
      "  self._init_dates(dates, freq)\n",
      "C:\\Users\\Kimbeomjoon.DESKTOP-5T6FIPU\\AppData\\Roaming\\Python\\Python39\\site-packages\\statsmodels\\tsa\\base\\tsa_model.py:471: ValueWarning: A date index has been provided, but it has no associated frequency information and so will be ignored when e.g. forecasting.\n",
      "  self._init_dates(dates, freq)\n"
     ]
    },
    {
     "name": "stdout",
     "output_type": "stream",
     "text": [
      "AR: 0, MA: 0, AIC: 15018; resid stationarity check: 0\n",
      "AR: 0, MA: 1, AIC: 15020; resid stationarity check: 0\n",
      "AR: 0, MA: 2, AIC: 15022; resid stationarity check: 0\n"
     ]
    },
    {
     "name": "stderr",
     "output_type": "stream",
     "text": [
      "C:\\Users\\Kimbeomjoon.DESKTOP-5T6FIPU\\AppData\\Roaming\\Python\\Python39\\site-packages\\statsmodels\\tsa\\base\\tsa_model.py:471: ValueWarning: A date index has been provided, but it has no associated frequency information and so will be ignored when e.g. forecasting.\n",
      "  self._init_dates(dates, freq)\n",
      "C:\\Users\\Kimbeomjoon.DESKTOP-5T6FIPU\\AppData\\Roaming\\Python\\Python39\\site-packages\\statsmodels\\tsa\\base\\tsa_model.py:471: ValueWarning: A date index has been provided, but it has no associated frequency information and so will be ignored when e.g. forecasting.\n",
      "  self._init_dates(dates, freq)\n",
      "C:\\Users\\Kimbeomjoon.DESKTOP-5T6FIPU\\AppData\\Roaming\\Python\\Python39\\site-packages\\statsmodels\\tsa\\base\\tsa_model.py:471: ValueWarning: A date index has been provided, but it has no associated frequency information and so will be ignored when e.g. forecasting.\n",
      "  self._init_dates(dates, freq)\n",
      "C:\\Users\\Kimbeomjoon.DESKTOP-5T6FIPU\\AppData\\Roaming\\Python\\Python39\\site-packages\\statsmodels\\tsa\\base\\tsa_model.py:471: ValueWarning: A date index has been provided, but it has no associated frequency information and so will be ignored when e.g. forecasting.\n",
      "  self._init_dates(dates, freq)\n",
      "C:\\Users\\Kimbeomjoon.DESKTOP-5T6FIPU\\AppData\\Roaming\\Python\\Python39\\site-packages\\statsmodels\\tsa\\base\\tsa_model.py:471: ValueWarning: A date index has been provided, but it has no associated frequency information and so will be ignored when e.g. forecasting.\n",
      "  self._init_dates(dates, freq)\n",
      "C:\\Users\\Kimbeomjoon.DESKTOP-5T6FIPU\\AppData\\Roaming\\Python\\Python39\\site-packages\\statsmodels\\tsa\\base\\tsa_model.py:471: ValueWarning: A date index has been provided, but it has no associated frequency information and so will be ignored when e.g. forecasting.\n",
      "  self._init_dates(dates, freq)\n"
     ]
    },
    {
     "name": "stdout",
     "output_type": "stream",
     "text": [
      "AR: 0, MA: 3, AIC: 15024; resid stationarity check: 0\n",
      "AR: 0, MA: 4, AIC: 15026; resid stationarity check: 0\n",
      "AR: 1, MA: 0, AIC: 15020; resid stationarity check: 0\n"
     ]
    },
    {
     "name": "stderr",
     "output_type": "stream",
     "text": [
      "C:\\Users\\Kimbeomjoon.DESKTOP-5T6FIPU\\AppData\\Roaming\\Python\\Python39\\site-packages\\statsmodels\\tsa\\base\\tsa_model.py:471: ValueWarning: A date index has been provided, but it has no associated frequency information and so will be ignored when e.g. forecasting.\n",
      "  self._init_dates(dates, freq)\n",
      "C:\\Users\\Kimbeomjoon.DESKTOP-5T6FIPU\\AppData\\Roaming\\Python\\Python39\\site-packages\\statsmodels\\tsa\\base\\tsa_model.py:471: ValueWarning: A date index has been provided, but it has no associated frequency information and so will be ignored when e.g. forecasting.\n",
      "  self._init_dates(dates, freq)\n",
      "C:\\Users\\Kimbeomjoon.DESKTOP-5T6FIPU\\AppData\\Roaming\\Python\\Python39\\site-packages\\statsmodels\\tsa\\base\\tsa_model.py:471: ValueWarning: A date index has been provided, but it has no associated frequency information and so will be ignored when e.g. forecasting.\n",
      "  self._init_dates(dates, freq)\n",
      "C:\\Users\\Kimbeomjoon.DESKTOP-5T6FIPU\\AppData\\Roaming\\Python\\Python39\\site-packages\\statsmodels\\tsa\\base\\tsa_model.py:471: ValueWarning: A date index has been provided, but it has no associated frequency information and so will be ignored when e.g. forecasting.\n",
      "  self._init_dates(dates, freq)\n",
      "C:\\Users\\Kimbeomjoon.DESKTOP-5T6FIPU\\AppData\\Roaming\\Python\\Python39\\site-packages\\statsmodels\\tsa\\base\\tsa_model.py:471: ValueWarning: A date index has been provided, but it has no associated frequency information and so will be ignored when e.g. forecasting.\n",
      "  self._init_dates(dates, freq)\n",
      "C:\\Users\\Kimbeomjoon.DESKTOP-5T6FIPU\\AppData\\Roaming\\Python\\Python39\\site-packages\\statsmodels\\tsa\\base\\tsa_model.py:471: ValueWarning: A date index has been provided, but it has no associated frequency information and so will be ignored when e.g. forecasting.\n",
      "  self._init_dates(dates, freq)\n",
      "C:\\Users\\Kimbeomjoon.DESKTOP-5T6FIPU\\AppData\\Roaming\\Python\\Python39\\site-packages\\statsmodels\\tsa\\base\\tsa_model.py:471: ValueWarning: A date index has been provided, but it has no associated frequency information and so will be ignored when e.g. forecasting.\n",
      "  self._init_dates(dates, freq)\n",
      "C:\\Users\\Kimbeomjoon.DESKTOP-5T6FIPU\\AppData\\Roaming\\Python\\Python39\\site-packages\\statsmodels\\tsa\\base\\tsa_model.py:471: ValueWarning: A date index has been provided, but it has no associated frequency information and so will be ignored when e.g. forecasting.\n",
      "  self._init_dates(dates, freq)\n",
      "C:\\Users\\Kimbeomjoon.DESKTOP-5T6FIPU\\AppData\\Roaming\\Python\\Python39\\site-packages\\statsmodels\\tsa\\base\\tsa_model.py:471: ValueWarning: A date index has been provided, but it has no associated frequency information and so will be ignored when e.g. forecasting.\n",
      "  self._init_dates(dates, freq)\n"
     ]
    },
    {
     "name": "stdout",
     "output_type": "stream",
     "text": [
      "AR: 1, MA: 1, AIC: 15022; resid stationarity check: 0\n",
      "AR: 1, MA: 2, AIC: 15024; resid stationarity check: 0\n"
     ]
    },
    {
     "name": "stderr",
     "output_type": "stream",
     "text": [
      "C:\\Users\\Kimbeomjoon.DESKTOP-5T6FIPU\\AppData\\Roaming\\Python\\Python39\\site-packages\\statsmodels\\tsa\\base\\tsa_model.py:471: ValueWarning: A date index has been provided, but it has no associated frequency information and so will be ignored when e.g. forecasting.\n",
      "  self._init_dates(dates, freq)\n",
      "C:\\Users\\Kimbeomjoon.DESKTOP-5T6FIPU\\AppData\\Roaming\\Python\\Python39\\site-packages\\statsmodels\\tsa\\base\\tsa_model.py:471: ValueWarning: A date index has been provided, but it has no associated frequency information and so will be ignored when e.g. forecasting.\n",
      "  self._init_dates(dates, freq)\n",
      "C:\\Users\\Kimbeomjoon.DESKTOP-5T6FIPU\\AppData\\Roaming\\Python\\Python39\\site-packages\\statsmodels\\tsa\\base\\tsa_model.py:471: ValueWarning: A date index has been provided, but it has no associated frequency information and so will be ignored when e.g. forecasting.\n",
      "  self._init_dates(dates, freq)\n",
      "C:\\Users\\Kimbeomjoon.DESKTOP-5T6FIPU\\AppData\\Roaming\\Python\\Python39\\site-packages\\statsmodels\\tsa\\base\\tsa_model.py:471: ValueWarning: A date index has been provided, but it has no associated frequency information and so will be ignored when e.g. forecasting.\n",
      "  self._init_dates(dates, freq)\n",
      "C:\\Users\\Kimbeomjoon.DESKTOP-5T6FIPU\\AppData\\Roaming\\Python\\Python39\\site-packages\\statsmodels\\tsa\\base\\tsa_model.py:471: ValueWarning: A date index has been provided, but it has no associated frequency information and so will be ignored when e.g. forecasting.\n",
      "  self._init_dates(dates, freq)\n",
      "C:\\Users\\Kimbeomjoon.DESKTOP-5T6FIPU\\AppData\\Roaming\\Python\\Python39\\site-packages\\statsmodels\\tsa\\base\\tsa_model.py:471: ValueWarning: A date index has been provided, but it has no associated frequency information and so will be ignored when e.g. forecasting.\n",
      "  self._init_dates(dates, freq)\n"
     ]
    },
    {
     "name": "stdout",
     "output_type": "stream",
     "text": [
      "AR: 1, MA: 3, AIC: 15026; resid stationarity check: 0\n",
      "AR: 1, MA: 4, AIC: 15028; resid stationarity check: 0\n",
      "AR: 2, MA: 0, AIC: 15022; resid stationarity check: 0\n"
     ]
    },
    {
     "name": "stderr",
     "output_type": "stream",
     "text": [
      "C:\\Users\\Kimbeomjoon.DESKTOP-5T6FIPU\\AppData\\Roaming\\Python\\Python39\\site-packages\\statsmodels\\tsa\\base\\tsa_model.py:471: ValueWarning: A date index has been provided, but it has no associated frequency information and so will be ignored when e.g. forecasting.\n",
      "  self._init_dates(dates, freq)\n",
      "C:\\Users\\Kimbeomjoon.DESKTOP-5T6FIPU\\AppData\\Roaming\\Python\\Python39\\site-packages\\statsmodels\\tsa\\base\\tsa_model.py:471: ValueWarning: A date index has been provided, but it has no associated frequency information and so will be ignored when e.g. forecasting.\n",
      "  self._init_dates(dates, freq)\n",
      "C:\\Users\\Kimbeomjoon.DESKTOP-5T6FIPU\\AppData\\Roaming\\Python\\Python39\\site-packages\\statsmodels\\tsa\\base\\tsa_model.py:471: ValueWarning: A date index has been provided, but it has no associated frequency information and so will be ignored when e.g. forecasting.\n",
      "  self._init_dates(dates, freq)\n",
      "C:\\Users\\Kimbeomjoon.DESKTOP-5T6FIPU\\AppData\\Roaming\\Python\\Python39\\site-packages\\statsmodels\\tsa\\base\\tsa_model.py:471: ValueWarning: A date index has been provided, but it has no associated frequency information and so will be ignored when e.g. forecasting.\n",
      "  self._init_dates(dates, freq)\n",
      "C:\\Users\\Kimbeomjoon.DESKTOP-5T6FIPU\\AppData\\Roaming\\Python\\Python39\\site-packages\\statsmodels\\tsa\\base\\tsa_model.py:471: ValueWarning: A date index has been provided, but it has no associated frequency information and so will be ignored when e.g. forecasting.\n",
      "  self._init_dates(dates, freq)\n",
      "C:\\Users\\Kimbeomjoon.DESKTOP-5T6FIPU\\AppData\\Roaming\\Python\\Python39\\site-packages\\statsmodels\\tsa\\base\\tsa_model.py:471: ValueWarning: A date index has been provided, but it has no associated frequency information and so will be ignored when e.g. forecasting.\n",
      "  self._init_dates(dates, freq)\n"
     ]
    },
    {
     "name": "stdout",
     "output_type": "stream",
     "text": [
      "AR: 2, MA: 1, AIC: 15024; resid stationarity check: 0\n",
      "AR: 2, MA: 2, AIC: 15026; resid stationarity check: 0\n"
     ]
    },
    {
     "name": "stderr",
     "output_type": "stream",
     "text": [
      "C:\\Users\\Kimbeomjoon.DESKTOP-5T6FIPU\\AppData\\Roaming\\Python\\Python39\\site-packages\\statsmodels\\tsa\\base\\tsa_model.py:471: ValueWarning: A date index has been provided, but it has no associated frequency information and so will be ignored when e.g. forecasting.\n",
      "  self._init_dates(dates, freq)\n",
      "C:\\Users\\Kimbeomjoon.DESKTOP-5T6FIPU\\AppData\\Roaming\\Python\\Python39\\site-packages\\statsmodels\\tsa\\base\\tsa_model.py:471: ValueWarning: A date index has been provided, but it has no associated frequency information and so will be ignored when e.g. forecasting.\n",
      "  self._init_dates(dates, freq)\n",
      "C:\\Users\\Kimbeomjoon.DESKTOP-5T6FIPU\\AppData\\Roaming\\Python\\Python39\\site-packages\\statsmodels\\tsa\\base\\tsa_model.py:471: ValueWarning: A date index has been provided, but it has no associated frequency information and so will be ignored when e.g. forecasting.\n",
      "  self._init_dates(dates, freq)\n",
      "C:\\Users\\Kimbeomjoon.DESKTOP-5T6FIPU\\AppData\\Roaming\\Python\\Python39\\site-packages\\statsmodels\\tsa\\base\\tsa_model.py:471: ValueWarning: A date index has been provided, but it has no associated frequency information and so will be ignored when e.g. forecasting.\n",
      "  self._init_dates(dates, freq)\n",
      "C:\\Users\\Kimbeomjoon.DESKTOP-5T6FIPU\\AppData\\Roaming\\Python\\Python39\\site-packages\\statsmodels\\tsa\\base\\tsa_model.py:471: ValueWarning: A date index has been provided, but it has no associated frequency information and so will be ignored when e.g. forecasting.\n",
      "  self._init_dates(dates, freq)\n",
      "C:\\Users\\Kimbeomjoon.DESKTOP-5T6FIPU\\AppData\\Roaming\\Python\\Python39\\site-packages\\statsmodels\\tsa\\base\\tsa_model.py:471: ValueWarning: A date index has been provided, but it has no associated frequency information and so will be ignored when e.g. forecasting.\n",
      "  self._init_dates(dates, freq)\n"
     ]
    },
    {
     "name": "stdout",
     "output_type": "stream",
     "text": [
      "AR: 2, MA: 3, AIC: 15028; resid stationarity check: 0\n",
      "AR: 2, MA: 4, AIC: 15030; resid stationarity check: 0\n"
     ]
    },
    {
     "name": "stderr",
     "output_type": "stream",
     "text": [
      "C:\\Users\\Kimbeomjoon.DESKTOP-5T6FIPU\\AppData\\Roaming\\Python\\Python39\\site-packages\\statsmodels\\tsa\\base\\tsa_model.py:471: ValueWarning: A date index has been provided, but it has no associated frequency information and so will be ignored when e.g. forecasting.\n",
      "  self._init_dates(dates, freq)\n",
      "C:\\Users\\Kimbeomjoon.DESKTOP-5T6FIPU\\AppData\\Roaming\\Python\\Python39\\site-packages\\statsmodels\\tsa\\base\\tsa_model.py:471: ValueWarning: A date index has been provided, but it has no associated frequency information and so will be ignored when e.g. forecasting.\n",
      "  self._init_dates(dates, freq)\n",
      "C:\\Users\\Kimbeomjoon.DESKTOP-5T6FIPU\\AppData\\Roaming\\Python\\Python39\\site-packages\\statsmodels\\tsa\\base\\tsa_model.py:471: ValueWarning: A date index has been provided, but it has no associated frequency information and so will be ignored when e.g. forecasting.\n",
      "  self._init_dates(dates, freq)\n",
      "C:\\Users\\Kimbeomjoon.DESKTOP-5T6FIPU\\AppData\\Roaming\\Python\\Python39\\site-packages\\statsmodels\\tsa\\base\\tsa_model.py:471: ValueWarning: A date index has been provided, but it has no associated frequency information and so will be ignored when e.g. forecasting.\n",
      "  self._init_dates(dates, freq)\n",
      "C:\\Users\\Kimbeomjoon.DESKTOP-5T6FIPU\\AppData\\Roaming\\Python\\Python39\\site-packages\\statsmodels\\tsa\\base\\tsa_model.py:471: ValueWarning: A date index has been provided, but it has no associated frequency information and so will be ignored when e.g. forecasting.\n",
      "  self._init_dates(dates, freq)\n",
      "C:\\Users\\Kimbeomjoon.DESKTOP-5T6FIPU\\AppData\\Roaming\\Python\\Python39\\site-packages\\statsmodels\\tsa\\base\\tsa_model.py:471: ValueWarning: A date index has been provided, but it has no associated frequency information and so will be ignored when e.g. forecasting.\n",
      "  self._init_dates(dates, freq)\n"
     ]
    },
    {
     "name": "stdout",
     "output_type": "stream",
     "text": [
      "AR: 3, MA: 0, AIC: 15024; resid stationarity check: 0\n",
      "AR: 3, MA: 1, AIC: 15026; resid stationarity check: 0\n"
     ]
    },
    {
     "name": "stderr",
     "output_type": "stream",
     "text": [
      "C:\\Users\\Kimbeomjoon.DESKTOP-5T6FIPU\\AppData\\Roaming\\Python\\Python39\\site-packages\\statsmodels\\tsa\\base\\tsa_model.py:471: ValueWarning: A date index has been provided, but it has no associated frequency information and so will be ignored when e.g. forecasting.\n",
      "  self._init_dates(dates, freq)\n",
      "C:\\Users\\Kimbeomjoon.DESKTOP-5T6FIPU\\AppData\\Roaming\\Python\\Python39\\site-packages\\statsmodels\\tsa\\base\\tsa_model.py:471: ValueWarning: A date index has been provided, but it has no associated frequency information and so will be ignored when e.g. forecasting.\n",
      "  self._init_dates(dates, freq)\n",
      "C:\\Users\\Kimbeomjoon.DESKTOP-5T6FIPU\\AppData\\Roaming\\Python\\Python39\\site-packages\\statsmodels\\tsa\\base\\tsa_model.py:471: ValueWarning: A date index has been provided, but it has no associated frequency information and so will be ignored when e.g. forecasting.\n",
      "  self._init_dates(dates, freq)\n",
      "C:\\Users\\Kimbeomjoon.DESKTOP-5T6FIPU\\AppData\\Roaming\\Python\\Python39\\site-packages\\statsmodels\\tsa\\base\\tsa_model.py:471: ValueWarning: A date index has been provided, but it has no associated frequency information and so will be ignored when e.g. forecasting.\n",
      "  self._init_dates(dates, freq)\n",
      "C:\\Users\\Kimbeomjoon.DESKTOP-5T6FIPU\\AppData\\Roaming\\Python\\Python39\\site-packages\\statsmodels\\tsa\\base\\tsa_model.py:471: ValueWarning: A date index has been provided, but it has no associated frequency information and so will be ignored when e.g. forecasting.\n",
      "  self._init_dates(dates, freq)\n",
      "C:\\Users\\Kimbeomjoon.DESKTOP-5T6FIPU\\AppData\\Roaming\\Python\\Python39\\site-packages\\statsmodels\\tsa\\base\\tsa_model.py:471: ValueWarning: A date index has been provided, but it has no associated frequency information and so will be ignored when e.g. forecasting.\n",
      "  self._init_dates(dates, freq)\n"
     ]
    },
    {
     "name": "stdout",
     "output_type": "stream",
     "text": [
      "AR: 3, MA: 2, AIC: 15028; resid stationarity check: 0\n",
      "AR: 3, MA: 3, AIC: 15030; resid stationarity check: 0\n"
     ]
    },
    {
     "name": "stderr",
     "output_type": "stream",
     "text": [
      "C:\\Users\\Kimbeomjoon.DESKTOP-5T6FIPU\\AppData\\Roaming\\Python\\Python39\\site-packages\\statsmodels\\tsa\\base\\tsa_model.py:471: ValueWarning: A date index has been provided, but it has no associated frequency information and so will be ignored when e.g. forecasting.\n",
      "  self._init_dates(dates, freq)\n",
      "C:\\Users\\Kimbeomjoon.DESKTOP-5T6FIPU\\AppData\\Roaming\\Python\\Python39\\site-packages\\statsmodels\\tsa\\base\\tsa_model.py:471: ValueWarning: A date index has been provided, but it has no associated frequency information and so will be ignored when e.g. forecasting.\n",
      "  self._init_dates(dates, freq)\n",
      "C:\\Users\\Kimbeomjoon.DESKTOP-5T6FIPU\\AppData\\Roaming\\Python\\Python39\\site-packages\\statsmodels\\tsa\\base\\tsa_model.py:471: ValueWarning: A date index has been provided, but it has no associated frequency information and so will be ignored when e.g. forecasting.\n",
      "  self._init_dates(dates, freq)\n",
      "C:\\Users\\Kimbeomjoon.DESKTOP-5T6FIPU\\AppData\\Roaming\\Python\\Python39\\site-packages\\statsmodels\\tsa\\base\\tsa_model.py:471: ValueWarning: A date index has been provided, but it has no associated frequency information and so will be ignored when e.g. forecasting.\n",
      "  self._init_dates(dates, freq)\n",
      "C:\\Users\\Kimbeomjoon.DESKTOP-5T6FIPU\\AppData\\Roaming\\Python\\Python39\\site-packages\\statsmodels\\tsa\\base\\tsa_model.py:471: ValueWarning: A date index has been provided, but it has no associated frequency information and so will be ignored when e.g. forecasting.\n",
      "  self._init_dates(dates, freq)\n",
      "C:\\Users\\Kimbeomjoon.DESKTOP-5T6FIPU\\AppData\\Roaming\\Python\\Python39\\site-packages\\statsmodels\\tsa\\base\\tsa_model.py:471: ValueWarning: A date index has been provided, but it has no associated frequency information and so will be ignored when e.g. forecasting.\n",
      "  self._init_dates(dates, freq)\n"
     ]
    },
    {
     "name": "stdout",
     "output_type": "stream",
     "text": [
      "AR: 3, MA: 4, AIC: 15032; resid stationarity check: 0\n",
      "AR: 4, MA: 0, AIC: 15026; resid stationarity check: 0\n",
      "AR: 4, MA: 1, AIC: 15028; resid stationarity check: 0\n"
     ]
    },
    {
     "name": "stderr",
     "output_type": "stream",
     "text": [
      "C:\\Users\\Kimbeomjoon.DESKTOP-5T6FIPU\\AppData\\Roaming\\Python\\Python39\\site-packages\\statsmodels\\tsa\\base\\tsa_model.py:471: ValueWarning: A date index has been provided, but it has no associated frequency information and so will be ignored when e.g. forecasting.\n",
      "  self._init_dates(dates, freq)\n",
      "C:\\Users\\Kimbeomjoon.DESKTOP-5T6FIPU\\AppData\\Roaming\\Python\\Python39\\site-packages\\statsmodels\\tsa\\base\\tsa_model.py:471: ValueWarning: A date index has been provided, but it has no associated frequency information and so will be ignored when e.g. forecasting.\n",
      "  self._init_dates(dates, freq)\n",
      "C:\\Users\\Kimbeomjoon.DESKTOP-5T6FIPU\\AppData\\Roaming\\Python\\Python39\\site-packages\\statsmodels\\tsa\\base\\tsa_model.py:471: ValueWarning: A date index has been provided, but it has no associated frequency information and so will be ignored when e.g. forecasting.\n",
      "  self._init_dates(dates, freq)\n",
      "C:\\Users\\Kimbeomjoon.DESKTOP-5T6FIPU\\AppData\\Roaming\\Python\\Python39\\site-packages\\statsmodels\\tsa\\base\\tsa_model.py:471: ValueWarning: A date index has been provided, but it has no associated frequency information and so will be ignored when e.g. forecasting.\n",
      "  self._init_dates(dates, freq)\n",
      "C:\\Users\\Kimbeomjoon.DESKTOP-5T6FIPU\\AppData\\Roaming\\Python\\Python39\\site-packages\\statsmodels\\tsa\\base\\tsa_model.py:471: ValueWarning: A date index has been provided, but it has no associated frequency information and so will be ignored when e.g. forecasting.\n",
      "  self._init_dates(dates, freq)\n",
      "C:\\Users\\Kimbeomjoon.DESKTOP-5T6FIPU\\AppData\\Roaming\\Python\\Python39\\site-packages\\statsmodels\\tsa\\base\\tsa_model.py:471: ValueWarning: A date index has been provided, but it has no associated frequency information and so will be ignored when e.g. forecasting.\n",
      "  self._init_dates(dates, freq)\n",
      "C:\\Users\\Kimbeomjoon.DESKTOP-5T6FIPU\\AppData\\Roaming\\Python\\Python39\\site-packages\\statsmodels\\tsa\\base\\tsa_model.py:471: ValueWarning: A date index has been provided, but it has no associated frequency information and so will be ignored when e.g. forecasting.\n",
      "  self._init_dates(dates, freq)\n",
      "C:\\Users\\Kimbeomjoon.DESKTOP-5T6FIPU\\AppData\\Roaming\\Python\\Python39\\site-packages\\statsmodels\\tsa\\base\\tsa_model.py:471: ValueWarning: A date index has been provided, but it has no associated frequency information and so will be ignored when e.g. forecasting.\n",
      "  self._init_dates(dates, freq)\n",
      "C:\\Users\\Kimbeomjoon.DESKTOP-5T6FIPU\\AppData\\Roaming\\Python\\Python39\\site-packages\\statsmodels\\tsa\\base\\tsa_model.py:471: ValueWarning: A date index has been provided, but it has no associated frequency information and so will be ignored when e.g. forecasting.\n",
      "  self._init_dates(dates, freq)\n",
      "C:\\Users\\Kimbeomjoon.DESKTOP-5T6FIPU\\AppData\\Roaming\\Python\\Python39\\site-packages\\statsmodels\\tsa\\base\\tsa_model.py:471: ValueWarning: A date index has been provided, but it has no associated frequency information and so will be ignored when e.g. forecasting.\n",
      "  self._init_dates(dates, freq)\n",
      "C:\\Users\\Kimbeomjoon.DESKTOP-5T6FIPU\\AppData\\Roaming\\Python\\Python39\\site-packages\\statsmodels\\tsa\\base\\tsa_model.py:471: ValueWarning: A date index has been provided, but it has no associated frequency information and so will be ignored when e.g. forecasting.\n",
      "  self._init_dates(dates, freq)\n",
      "C:\\Users\\Kimbeomjoon.DESKTOP-5T6FIPU\\AppData\\Roaming\\Python\\Python39\\site-packages\\statsmodels\\tsa\\base\\tsa_model.py:471: ValueWarning: A date index has been provided, but it has no associated frequency information and so will be ignored when e.g. forecasting.\n",
      "  self._init_dates(dates, freq)\n"
     ]
    },
    {
     "name": "stdout",
     "output_type": "stream",
     "text": [
      "AR: 4, MA: 2, AIC: 15030; resid stationarity check: 0\n",
      "AR: 4, MA: 3, AIC: 15026; resid stationarity check: 0\n",
      "AR: 4, MA: 4, AIC: 15034; resid stationarity check: 0\n",
      "the following function prints AIC criteria and finds the paramters for minimum AIC criteria\n",
      "best AR: 0, best MA: 0, best AIC: 15018;  resid stationarity check:0\n"
     ]
    },
    {
     "name": "stderr",
     "output_type": "stream",
     "text": [
      "C:\\Users\\Kimbeomjoon.DESKTOP-5T6FIPU\\AppData\\Roaming\\Python\\Python39\\site-packages\\statsmodels\\tsa\\base\\tsa_model.py:471: ValueWarning: A date index has been provided, but it has no associated frequency information and so will be ignored when e.g. forecasting.\n",
      "  self._init_dates(dates, freq)\n",
      "C:\\Users\\Kimbeomjoon.DESKTOP-5T6FIPU\\AppData\\Roaming\\Python\\Python39\\site-packages\\statsmodels\\tsa\\base\\tsa_model.py:471: ValueWarning: A date index has been provided, but it has no associated frequency information and so will be ignored when e.g. forecasting.\n",
      "  self._init_dates(dates, freq)\n",
      "C:\\Users\\Kimbeomjoon.DESKTOP-5T6FIPU\\AppData\\Roaming\\Python\\Python39\\site-packages\\statsmodels\\tsa\\base\\tsa_model.py:471: ValueWarning: A date index has been provided, but it has no associated frequency information and so will be ignored when e.g. forecasting.\n",
      "  self._init_dates(dates, freq)\n"
     ]
    }
   ],
   "source": [
    "best_AR_MA_checker(lotte_v, 0, 5)"
   ]
  },
  {
   "cell_type": "code",
   "execution_count": 87,
   "metadata": {},
   "outputs": [
    {
     "name": "stdout",
     "output_type": "stream",
     "text": [
      "                               SARIMAX Results                                \n",
      "==============================================================================\n",
      "Dep. Variable:                     종가   No. Observations:                  818\n",
      "Model:                 ARIMA(0, 1, 0)   Log Likelihood               -7508.254\n",
      "Date:                Sun, 11 Dec 2022   AIC                          15018.509\n",
      "Time:                        13:54:29   BIC                          15023.214\n",
      "Sample:                             0   HQIC                         15020.315\n",
      "                                - 818                                         \n",
      "Covariance Type:                  opg                                         \n",
      "==============================================================================\n",
      "                 coef    std err          z      P>|z|      [0.025      0.975]\n",
      "------------------------------------------------------------------------------\n",
      "sigma2      5.615e+06    1.9e+05     29.569      0.000    5.24e+06    5.99e+06\n",
      "===================================================================================\n",
      "Ljung-Box (L1) (Q):                   0.38   Jarque-Bera (JB):               197.00\n",
      "Prob(Q):                              0.53   Prob(JB):                         0.00\n",
      "Heteroskedasticity (H):               0.51   Skew:                             0.29\n",
      "Prob(H) (two-sided):                  0.00   Kurtosis:                         5.34\n",
      "===================================================================================\n",
      "\n",
      "Warnings:\n",
      "[1] Covariance matrix calculated using the outer product of gradients (complex-step).\n"
     ]
    },
    {
     "name": "stderr",
     "output_type": "stream",
     "text": [
      "C:\\Users\\Kimbeomjoon.DESKTOP-5T6FIPU\\AppData\\Roaming\\Python\\Python39\\site-packages\\statsmodels\\tsa\\base\\tsa_model.py:471: ValueWarning: A date index has been provided, but it has no associated frequency information and so will be ignored when e.g. forecasting.\n",
      "  self._init_dates(dates, freq)\n",
      "C:\\Users\\Kimbeomjoon.DESKTOP-5T6FIPU\\AppData\\Roaming\\Python\\Python39\\site-packages\\statsmodels\\tsa\\base\\tsa_model.py:471: ValueWarning: A date index has been provided, but it has no associated frequency information and so will be ignored when e.g. forecasting.\n",
      "  self._init_dates(dates, freq)\n",
      "C:\\Users\\Kimbeomjoon.DESKTOP-5T6FIPU\\AppData\\Roaming\\Python\\Python39\\site-packages\\statsmodels\\tsa\\base\\tsa_model.py:471: ValueWarning: A date index has been provided, but it has no associated frequency information and so will be ignored when e.g. forecasting.\n",
      "  self._init_dates(dates, freq)\n"
     ]
    }
   ],
   "source": [
    "lotte_model = sm.tsa.ARIMA(lotte_v, order=(0,1,0))\n",
    "lotte_res = lotte_model.fit()\n",
    "print(lotte_res.summary())"
   ]
  },
  {
   "cell_type": "code",
   "execution_count": 88,
   "metadata": {},
   "outputs": [
    {
     "name": "stderr",
     "output_type": "stream",
     "text": [
      "c:\\ProgramData\\Anaconda3\\lib\\site-packages\\matplotlib\\backends\\backend_agg.py:240: RuntimeWarning: Glyph 51333 missing from current font.\n",
      "  font.set_text(s, 0.0, flags=flags)\n",
      "c:\\ProgramData\\Anaconda3\\lib\\site-packages\\matplotlib\\backends\\backend_agg.py:203: RuntimeWarning: Glyph 51333 missing from current font.\n",
      "  font.set_text(s, 0, flags=flags)\n"
     ]
    },
    {
     "data": {
      "image/png": "[encoded data removed]",
      "text/plain": [
       "<Figure size 1152x576 with 4 Axes>"
      ]
     },
     "metadata": {
      "needs_background": "light"
     },
     "output_type": "display_data"
    }
   ],
   "source": [
    "lotte_res.plot_diagnostics(figsize=(16, 8))\n",
    "plt.show()"
   ]
  },
  {
   "cell_type": "code",
   "execution_count": 89,
   "metadata": {},
   "outputs": [
    {
     "name": "stderr",
     "output_type": "stream",
     "text": [
      "C:\\Users\\Kimbeomjoon.DESKTOP-5T6FIPU\\AppData\\Roaming\\Python\\Python39\\site-packages\\statsmodels\\tsa\\base\\tsa_model.py:834: ValueWarning: No supported index is available. Prediction results will be given with an integer index beginning at `start`.\n",
      "  return get_prediction_index(\n"
     ]
    },
    {
     "data": {
      "text/html": [
       "<div>\n",
       "<style scoped>\n",
       "    .dataframe tbody tr th:only-of-type {\n",
       "        vertical-align: middle;\n",
       "    }\n",
       "\n",
       "    .dataframe tbody tr th {\n",
       "        vertical-align: top;\n",
       "    }\n",
       "\n",
       "    .dataframe thead th {\n",
       "        text-align: right;\n",
       "    }\n",
       "</style>\n",
       "<table border=\"1\" class=\"dataframe\">\n",
       "  <thead>\n",
       "    <tr style=\"text-align: right;\">\n",
       "      <th></th>\n",
       "      <th>predicted_mean</th>\n",
       "    </tr>\n",
       "    <tr>\n",
       "      <th>일자</th>\n",
       "      <th></th>\n",
       "    </tr>\n",
       "  </thead>\n",
       "  <tbody>\n",
       "    <tr>\n",
       "      <th>2022/06/24</th>\n",
       "      <td>98900.0</td>\n",
       "    </tr>\n",
       "    <tr>\n",
       "      <th>2022/06/27</th>\n",
       "      <td>98900.0</td>\n",
       "    </tr>\n",
       "    <tr>\n",
       "      <th>2022/06/28</th>\n",
       "      <td>98900.0</td>\n",
       "    </tr>\n",
       "    <tr>\n",
       "      <th>2022/06/29</th>\n",
       "      <td>98900.0</td>\n",
       "    </tr>\n",
       "    <tr>\n",
       "      <th>2022/06/30</th>\n",
       "      <td>98900.0</td>\n",
       "    </tr>\n",
       "    <tr>\n",
       "      <th>...</th>\n",
       "      <td>...</td>\n",
       "    </tr>\n",
       "    <tr>\n",
       "      <th>2022/12/02</th>\n",
       "      <td>98900.0</td>\n",
       "    </tr>\n",
       "    <tr>\n",
       "      <th>2022/12/05</th>\n",
       "      <td>98900.0</td>\n",
       "    </tr>\n",
       "    <tr>\n",
       "      <th>2022/12/06</th>\n",
       "      <td>98900.0</td>\n",
       "    </tr>\n",
       "    <tr>\n",
       "      <th>2022/12/07</th>\n",
       "      <td>98900.0</td>\n",
       "    </tr>\n",
       "    <tr>\n",
       "      <th>2022/12/08</th>\n",
       "      <td>98900.0</td>\n",
       "    </tr>\n",
       "  </tbody>\n",
       "</table>\n",
       "<p>115 rows × 1 columns</p>\n",
       "</div>"
      ],
      "text/plain": [
       "            predicted_mean\n",
       "일자                        \n",
       "2022/06/24         98900.0\n",
       "2022/06/27         98900.0\n",
       "2022/06/28         98900.0\n",
       "2022/06/29         98900.0\n",
       "2022/06/30         98900.0\n",
       "...                    ...\n",
       "2022/12/02         98900.0\n",
       "2022/12/05         98900.0\n",
       "2022/12/06         98900.0\n",
       "2022/12/07         98900.0\n",
       "2022/12/08         98900.0\n",
       "\n",
       "[115 rows x 1 columns]"
      ]
     },
     "execution_count": 89,
     "metadata": {},
     "output_type": "execute_result"
    }
   ],
   "source": [
    "lotte_predict = lotte_res.forecast(steps = 115) \n",
    "#lotte_predict = pd.DataFrame(lotte_predict, index=lotte_real.index)\n",
    "lotte_predict_data = pd.DataFrame(lotte_predict)\n",
    "lotte_predict_data = lotte_predict_data.set_index(lotte_real.index)\n",
    "lotte_predict_data"
   ]
  },
  {
   "cell_type": "code",
   "execution_count": 90,
   "metadata": {},
   "outputs": [
    {
     "data": {
      "image/png": "[encoded data removed]",
      "text/plain": [
       "<Figure size 2160x720 with 1 Axes>"
      ]
     },
     "metadata": {
      "needs_background": "light"
     },
     "output_type": "display_data"
    }
   ],
   "source": [
    "fig, axes = plt.subplots(1, 1, figsize=(30, 10))\n",
    "plt.plot(lotte_v, label = 'data')\n",
    "plt.plot(lotte_real, label = 'realdata')\n",
    "plt.plot(lotte_predict_data, label='Prediction')  # 예측 데이터\n",
    "plt.legend()\n",
    "plt.show()"
   ]
  },
  {
   "cell_type": "markdown",
   "metadata": {},
   "source": [
    "2. 에코프로비엠"
   ]
  },
  {
   "cell_type": "code",
   "execution_count": 91,
   "metadata": {},
   "outputs": [
    {
     "data": {
      "text/html": [
       "<div>\n",
       "<style scoped>\n",
       "    .dataframe tbody tr th:only-of-type {\n",
       "        vertical-align: middle;\n",
       "    }\n",
       "\n",
       "    .dataframe tbody tr th {\n",
       "        vertical-align: top;\n",
       "    }\n",
       "\n",
       "    .dataframe thead th {\n",
       "        text-align: right;\n",
       "    }\n",
       "</style>\n",
       "<table border=\"1\" class=\"dataframe\">\n",
       "  <thead>\n",
       "    <tr style=\"text-align: right;\">\n",
       "      <th></th>\n",
       "      <th>일자</th>\n",
       "      <th>종가</th>\n",
       "      <th>대비</th>\n",
       "      <th>등락률</th>\n",
       "      <th>시가</th>\n",
       "      <th>고가</th>\n",
       "      <th>저가</th>\n",
       "      <th>거래량</th>\n",
       "      <th>거래대금</th>\n",
       "      <th>시가총액</th>\n",
       "      <th>상장주식수</th>\n",
       "    </tr>\n",
       "  </thead>\n",
       "  <tbody>\n",
       "    <tr>\n",
       "      <th>0</th>\n",
       "      <td>2022/12/09</td>\n",
       "      <td>101000</td>\n",
       "      <td>-2500</td>\n",
       "      <td>-2.42</td>\n",
       "      <td>104500</td>\n",
       "      <td>105000</td>\n",
       "      <td>99100</td>\n",
       "      <td>1493777</td>\n",
       "      <td>149827864500</td>\n",
       "      <td>9877935744000</td>\n",
       "      <td>97801344</td>\n",
       "    </tr>\n",
       "    <tr>\n",
       "      <th>1</th>\n",
       "      <td>2022/12/08</td>\n",
       "      <td>103500</td>\n",
       "      <td>-1500</td>\n",
       "      <td>-1.43</td>\n",
       "      <td>104700</td>\n",
       "      <td>105600</td>\n",
       "      <td>103300</td>\n",
       "      <td>604990</td>\n",
       "      <td>62989629400</td>\n",
       "      <td>10122439104000</td>\n",
       "      <td>97801344</td>\n",
       "    </tr>\n",
       "    <tr>\n",
       "      <th>2</th>\n",
       "      <td>2022/12/07</td>\n",
       "      <td>105000</td>\n",
       "      <td>600</td>\n",
       "      <td>0.57</td>\n",
       "      <td>103100</td>\n",
       "      <td>106000</td>\n",
       "      <td>103100</td>\n",
       "      <td>596945</td>\n",
       "      <td>62512406900</td>\n",
       "      <td>10269141120000</td>\n",
       "      <td>97801344</td>\n",
       "    </tr>\n",
       "    <tr>\n",
       "      <th>3</th>\n",
       "      <td>2022/12/06</td>\n",
       "      <td>104400</td>\n",
       "      <td>-2300</td>\n",
       "      <td>-2.16</td>\n",
       "      <td>105000</td>\n",
       "      <td>105900</td>\n",
       "      <td>103700</td>\n",
       "      <td>787926</td>\n",
       "      <td>82434859000</td>\n",
       "      <td>10210460313600</td>\n",
       "      <td>97801344</td>\n",
       "    </tr>\n",
       "    <tr>\n",
       "      <th>4</th>\n",
       "      <td>2022/12/05</td>\n",
       "      <td>106700</td>\n",
       "      <td>-3200</td>\n",
       "      <td>-2.91</td>\n",
       "      <td>110000</td>\n",
       "      <td>110900</td>\n",
       "      <td>106000</td>\n",
       "      <td>878090</td>\n",
       "      <td>94596832000</td>\n",
       "      <td>10435403404800</td>\n",
       "      <td>97801344</td>\n",
       "    </tr>\n",
       "    <tr>\n",
       "      <th>...</th>\n",
       "      <td>...</td>\n",
       "      <td>...</td>\n",
       "      <td>...</td>\n",
       "      <td>...</td>\n",
       "      <td>...</td>\n",
       "      <td>...</td>\n",
       "      <td>...</td>\n",
       "      <td>...</td>\n",
       "      <td>...</td>\n",
       "      <td>...</td>\n",
       "      <td>...</td>\n",
       "    </tr>\n",
       "    <tr>\n",
       "      <th>929</th>\n",
       "      <td>2019/03/11</td>\n",
       "      <td>17098</td>\n",
       "      <td>-173</td>\n",
       "      <td>-1.00</td>\n",
       "      <td>17197</td>\n",
       "      <td>17370</td>\n",
       "      <td>16332</td>\n",
       "      <td>394610</td>\n",
       "      <td>26878052900</td>\n",
       "      <td>1373620000000</td>\n",
       "      <td>19850000</td>\n",
       "    </tr>\n",
       "    <tr>\n",
       "      <th>930</th>\n",
       "      <td>2019/03/08</td>\n",
       "      <td>17271</td>\n",
       "      <td>-25</td>\n",
       "      <td>-0.14</td>\n",
       "      <td>17296</td>\n",
       "      <td>17493</td>\n",
       "      <td>16703</td>\n",
       "      <td>472140</td>\n",
       "      <td>32596959300</td>\n",
       "      <td>1387515000000</td>\n",
       "      <td>19850000</td>\n",
       "    </tr>\n",
       "    <tr>\n",
       "      <th>931</th>\n",
       "      <td>2019/03/07</td>\n",
       "      <td>17296</td>\n",
       "      <td>321</td>\n",
       "      <td>1.89</td>\n",
       "      <td>17370</td>\n",
       "      <td>17889</td>\n",
       "      <td>17098</td>\n",
       "      <td>1019641</td>\n",
       "      <td>72305267800</td>\n",
       "      <td>1389500000000</td>\n",
       "      <td>19850000</td>\n",
       "    </tr>\n",
       "    <tr>\n",
       "      <th>932</th>\n",
       "      <td>2019/03/06</td>\n",
       "      <td>16975</td>\n",
       "      <td>1359</td>\n",
       "      <td>8.70</td>\n",
       "      <td>15912</td>\n",
       "      <td>17197</td>\n",
       "      <td>15739</td>\n",
       "      <td>1484460</td>\n",
       "      <td>98263979300</td>\n",
       "      <td>1363695000000</td>\n",
       "      <td>19850000</td>\n",
       "    </tr>\n",
       "    <tr>\n",
       "      <th>933</th>\n",
       "      <td>2019/03/05</td>\n",
       "      <td>15616</td>\n",
       "      <td>519</td>\n",
       "      <td>3.44</td>\n",
       "      <td>15097</td>\n",
       "      <td>16209</td>\n",
       "      <td>14800</td>\n",
       "      <td>3952178</td>\n",
       "      <td>246165256900</td>\n",
       "      <td>1254520000000</td>\n",
       "      <td>19850000</td>\n",
       "    </tr>\n",
       "  </tbody>\n",
       "</table>\n",
       "<p>934 rows × 11 columns</p>\n",
       "</div>"
      ],
      "text/plain": [
       "             일자      종가    대비   등락률      시가      고가      저가      거래량  \\\n",
       "0    2022/12/09  101000 -2500 -2.42  104500  105000   99100  1493777   \n",
       "1    2022/12/08  103500 -1500 -1.43  104700  105600  103300   604990   \n",
       "2    2022/12/07  105000   600  0.57  103100  106000  103100   596945   \n",
       "3    2022/12/06  104400 -2300 -2.16  105000  105900  103700   787926   \n",
       "4    2022/12/05  106700 -3200 -2.91  110000  110900  106000   878090   \n",
       "..          ...     ...   ...   ...     ...     ...     ...      ...   \n",
       "929  2019/03/11   17098  -173 -1.00   17197   17370   16332   394610   \n",
       "930  2019/03/08   17271   -25 -0.14   17296   17493   16703   472140   \n",
       "931  2019/03/07   17296   321  1.89   17370   17889   17098  1019641   \n",
       "932  2019/03/06   16975  1359  8.70   15912   17197   15739  1484460   \n",
       "933  2019/03/05   15616   519  3.44   15097   16209   14800  3952178   \n",
       "\n",
       "             거래대금            시가총액     상장주식수  \n",
       "0    149827864500   9877935744000  97801344  \n",
       "1     62989629400  10122439104000  97801344  \n",
       "2     62512406900  10269141120000  97801344  \n",
       "3     82434859000  10210460313600  97801344  \n",
       "4     94596832000  10435403404800  97801344  \n",
       "..            ...             ...       ...  \n",
       "929   26878052900   1373620000000  19850000  \n",
       "930   32596959300   1387515000000  19850000  \n",
       "931   72305267800   1389500000000  19850000  \n",
       "932   98263979300   1363695000000  19850000  \n",
       "933  246165256900   1254520000000  19850000  \n",
       "\n",
       "[934 rows x 11 columns]"
      ]
     },
     "execution_count": 91,
     "metadata": {},
     "output_type": "execute_result"
    }
   ],
   "source": [
    "eco_data = pd.read_csv(\"data_ecopbm_f.csv\", encoding = 'cp949')\n",
    "eco_data"
   ]
  },
  {
   "cell_type": "code",
   "execution_count": 92,
   "metadata": {},
   "outputs": [
    {
     "data": {
      "text/plain": [
       "0     2022-12-09\n",
       "1     2022-12-08\n",
       "2     2022-12-07\n",
       "3     2022-12-06\n",
       "4     2022-12-05\n",
       "         ...    \n",
       "929   2019-03-11\n",
       "930   2019-03-08\n",
       "931   2019-03-07\n",
       "932   2019-03-06\n",
       "933   2019-03-05\n",
       "Name: 일자, Length: 934, dtype: datetime64[ns]"
      ]
     },
     "execution_count": 92,
     "metadata": {},
     "output_type": "execute_result"
    }
   ],
   "source": [
    "eco_data['일자'] = pd.to_datetime(eco_data['일자'])\n",
    "eco_data['일자']"
   ]
  },
  {
   "cell_type": "code",
   "execution_count": 94,
   "metadata": {},
   "outputs": [
    {
     "data": {
      "text/html": [
       "<div>\n",
       "<style scoped>\n",
       "    .dataframe tbody tr th:only-of-type {\n",
       "        vertical-align: middle;\n",
       "    }\n",
       "\n",
       "    .dataframe tbody tr th {\n",
       "        vertical-align: top;\n",
       "    }\n",
       "\n",
       "    .dataframe thead th {\n",
       "        text-align: right;\n",
       "    }\n",
       "</style>\n",
       "<table border=\"1\" class=\"dataframe\">\n",
       "  <thead>\n",
       "    <tr style=\"text-align: right;\">\n",
       "      <th></th>\n",
       "      <th>종가</th>\n",
       "    </tr>\n",
       "    <tr>\n",
       "      <th>일자</th>\n",
       "      <th></th>\n",
       "    </tr>\n",
       "  </thead>\n",
       "  <tbody>\n",
       "    <tr>\n",
       "      <th>2019-03-05</th>\n",
       "      <td>15616</td>\n",
       "    </tr>\n",
       "    <tr>\n",
       "      <th>2019-03-06</th>\n",
       "      <td>16975</td>\n",
       "    </tr>\n",
       "    <tr>\n",
       "      <th>2019-03-07</th>\n",
       "      <td>17296</td>\n",
       "    </tr>\n",
       "    <tr>\n",
       "      <th>2019-03-08</th>\n",
       "      <td>17271</td>\n",
       "    </tr>\n",
       "    <tr>\n",
       "      <th>2019-03-11</th>\n",
       "      <td>17098</td>\n",
       "    </tr>\n",
       "    <tr>\n",
       "      <th>...</th>\n",
       "      <td>...</td>\n",
       "    </tr>\n",
       "    <tr>\n",
       "      <th>2022-12-05</th>\n",
       "      <td>106700</td>\n",
       "    </tr>\n",
       "    <tr>\n",
       "      <th>2022-12-06</th>\n",
       "      <td>104400</td>\n",
       "    </tr>\n",
       "    <tr>\n",
       "      <th>2022-12-07</th>\n",
       "      <td>105000</td>\n",
       "    </tr>\n",
       "    <tr>\n",
       "      <th>2022-12-08</th>\n",
       "      <td>103500</td>\n",
       "    </tr>\n",
       "    <tr>\n",
       "      <th>2022-12-09</th>\n",
       "      <td>101000</td>\n",
       "    </tr>\n",
       "  </tbody>\n",
       "</table>\n",
       "<p>934 rows × 1 columns</p>\n",
       "</div>"
      ],
      "text/plain": [
       "                종가\n",
       "일자                \n",
       "2019-03-05   15616\n",
       "2019-03-06   16975\n",
       "2019-03-07   17296\n",
       "2019-03-08   17271\n",
       "2019-03-11   17098\n",
       "...            ...\n",
       "2022-12-05  106700\n",
       "2022-12-06  104400\n",
       "2022-12-07  105000\n",
       "2022-12-08  103500\n",
       "2022-12-09  101000\n",
       "\n",
       "[934 rows x 1 columns]"
      ]
     },
     "execution_count": 94,
     "metadata": {},
     "output_type": "execute_result"
    }
   ],
   "source": [
    "eco_value = eco_data.iloc[933::-1, 0:2]\n",
    "eco_value = eco_value.set_index('일자')\n",
    "eco_value"
   ]
  },
  {
   "cell_type": "code",
   "execution_count": 93,
   "metadata": {},
   "outputs": [
    {
     "data": {
      "text/html": [
       "<div>\n",
       "<style scoped>\n",
       "    .dataframe tbody tr th:only-of-type {\n",
       "        vertical-align: middle;\n",
       "    }\n",
       "\n",
       "    .dataframe tbody tr th {\n",
       "        vertical-align: top;\n",
       "    }\n",
       "\n",
       "    .dataframe thead th {\n",
       "        text-align: right;\n",
       "    }\n",
       "</style>\n",
       "<table border=\"1\" class=\"dataframe\">\n",
       "  <thead>\n",
       "    <tr style=\"text-align: right;\">\n",
       "      <th></th>\n",
       "      <th>종가</th>\n",
       "    </tr>\n",
       "    <tr>\n",
       "      <th>일자</th>\n",
       "      <th></th>\n",
       "    </tr>\n",
       "  </thead>\n",
       "  <tbody>\n",
       "    <tr>\n",
       "      <th>2019-03-05</th>\n",
       "      <td>15616</td>\n",
       "    </tr>\n",
       "    <tr>\n",
       "      <th>2019-03-06</th>\n",
       "      <td>16975</td>\n",
       "    </tr>\n",
       "    <tr>\n",
       "      <th>2019-03-07</th>\n",
       "      <td>17296</td>\n",
       "    </tr>\n",
       "    <tr>\n",
       "      <th>2019-03-08</th>\n",
       "      <td>17271</td>\n",
       "    </tr>\n",
       "    <tr>\n",
       "      <th>2019-03-11</th>\n",
       "      <td>17098</td>\n",
       "    </tr>\n",
       "    <tr>\n",
       "      <th>...</th>\n",
       "      <td>...</td>\n",
       "    </tr>\n",
       "    <tr>\n",
       "      <th>2022-06-17</th>\n",
       "      <td>130291</td>\n",
       "    </tr>\n",
       "    <tr>\n",
       "      <th>2022-06-20</th>\n",
       "      <td>130090</td>\n",
       "    </tr>\n",
       "    <tr>\n",
       "      <th>2022-06-21</th>\n",
       "      <td>131118</td>\n",
       "    </tr>\n",
       "    <tr>\n",
       "      <th>2022-06-22</th>\n",
       "      <td>130867</td>\n",
       "    </tr>\n",
       "    <tr>\n",
       "      <th>2022-06-23</th>\n",
       "      <td>118132</td>\n",
       "    </tr>\n",
       "  </tbody>\n",
       "</table>\n",
       "<p>818 rows × 1 columns</p>\n",
       "</div>"
      ],
      "text/plain": [
       "                종가\n",
       "일자                \n",
       "2019-03-05   15616\n",
       "2019-03-06   16975\n",
       "2019-03-07   17296\n",
       "2019-03-08   17271\n",
       "2019-03-11   17098\n",
       "...            ...\n",
       "2022-06-17  130291\n",
       "2022-06-20  130090\n",
       "2022-06-21  131118\n",
       "2022-06-22  130867\n",
       "2022-06-23  118132\n",
       "\n",
       "[818 rows x 1 columns]"
      ]
     },
     "execution_count": 93,
     "metadata": {},
     "output_type": "execute_result"
    }
   ],
   "source": [
    "eco_v = eco_data.iloc[933:115:-1, 0:2]\n",
    "eco_v = eco_v.set_index('일자')\n",
    "eco_cp = eco_v\n",
    "eco_v"
   ]
  },
  {
   "cell_type": "code",
   "execution_count": 95,
   "metadata": {},
   "outputs": [
    {
     "data": {
      "text/html": [
       "<div>\n",
       "<style scoped>\n",
       "    .dataframe tbody tr th:only-of-type {\n",
       "        vertical-align: middle;\n",
       "    }\n",
       "\n",
       "    .dataframe tbody tr th {\n",
       "        vertical-align: top;\n",
       "    }\n",
       "\n",
       "    .dataframe thead th {\n",
       "        text-align: right;\n",
       "    }\n",
       "</style>\n",
       "<table border=\"1\" class=\"dataframe\">\n",
       "  <thead>\n",
       "    <tr style=\"text-align: right;\">\n",
       "      <th></th>\n",
       "      <th>종가</th>\n",
       "    </tr>\n",
       "    <tr>\n",
       "      <th>일자</th>\n",
       "      <th></th>\n",
       "    </tr>\n",
       "  </thead>\n",
       "  <tbody>\n",
       "    <tr>\n",
       "      <th>2022-06-24</th>\n",
       "      <td>124700</td>\n",
       "    </tr>\n",
       "    <tr>\n",
       "      <th>2022-06-27</th>\n",
       "      <td>135900</td>\n",
       "    </tr>\n",
       "    <tr>\n",
       "      <th>2022-06-28</th>\n",
       "      <td>127900</td>\n",
       "    </tr>\n",
       "    <tr>\n",
       "      <th>2022-06-29</th>\n",
       "      <td>121400</td>\n",
       "    </tr>\n",
       "    <tr>\n",
       "      <th>2022-06-30</th>\n",
       "      <td>113500</td>\n",
       "    </tr>\n",
       "    <tr>\n",
       "      <th>...</th>\n",
       "      <td>...</td>\n",
       "    </tr>\n",
       "    <tr>\n",
       "      <th>2022-12-02</th>\n",
       "      <td>109900</td>\n",
       "    </tr>\n",
       "    <tr>\n",
       "      <th>2022-12-05</th>\n",
       "      <td>106700</td>\n",
       "    </tr>\n",
       "    <tr>\n",
       "      <th>2022-12-06</th>\n",
       "      <td>104400</td>\n",
       "    </tr>\n",
       "    <tr>\n",
       "      <th>2022-12-07</th>\n",
       "      <td>105000</td>\n",
       "    </tr>\n",
       "    <tr>\n",
       "      <th>2022-12-08</th>\n",
       "      <td>103500</td>\n",
       "    </tr>\n",
       "  </tbody>\n",
       "</table>\n",
       "<p>115 rows × 1 columns</p>\n",
       "</div>"
      ],
      "text/plain": [
       "                종가\n",
       "일자                \n",
       "2022-06-24  124700\n",
       "2022-06-27  135900\n",
       "2022-06-28  127900\n",
       "2022-06-29  121400\n",
       "2022-06-30  113500\n",
       "...            ...\n",
       "2022-12-02  109900\n",
       "2022-12-05  106700\n",
       "2022-12-06  104400\n",
       "2022-12-07  105000\n",
       "2022-12-08  103500\n",
       "\n",
       "[115 rows x 1 columns]"
      ]
     },
     "execution_count": 95,
     "metadata": {},
     "output_type": "execute_result"
    }
   ],
   "source": [
    "eco_real = eco_data.iloc[115:0:-1, 0:2]\n",
    "eco_real = eco_real.set_index('일자')\n",
    "eco_real"
   ]
  },
  {
   "cell_type": "code",
   "execution_count": 96,
   "metadata": {},
   "outputs": [
    {
     "name": "stdout",
     "output_type": "stream",
     "text": [
      "추정된 차수 d = 1\n"
     ]
    }
   ],
   "source": [
    "kpss_diffs = pmdarima.arima.ndiffs(eco_v, alpha=0.05, test='kpss', max_d=6)\n",
    "adf_diffs = pmdarima.arima.ndiffs(eco_v, alpha=0.05, test='adf', max_d=6)\n",
    "n_diffs = max(adf_diffs, kpss_diffs)\n",
    "\n",
    "print(f\"추정된 차수 d = {n_diffs}\")"
   ]
  },
  {
   "cell_type": "code",
   "execution_count": 97,
   "metadata": {},
   "outputs": [
    {
     "name": "stderr",
     "output_type": "stream",
     "text": [
      "C:\\Users\\Kimbeomjoon.DESKTOP-5T6FIPU\\AppData\\Roaming\\Python\\Python39\\site-packages\\statsmodels\\tsa\\base\\tsa_model.py:471: ValueWarning: A date index has been provided, but it has no associated frequency information and so will be ignored when e.g. forecasting.\n",
      "  self._init_dates(dates, freq)\n",
      "C:\\Users\\Kimbeomjoon.DESKTOP-5T6FIPU\\AppData\\Roaming\\Python\\Python39\\site-packages\\statsmodels\\tsa\\base\\tsa_model.py:471: ValueWarning: A date index has been provided, but it has no associated frequency information and so will be ignored when e.g. forecasting.\n",
      "  self._init_dates(dates, freq)\n",
      "C:\\Users\\Kimbeomjoon.DESKTOP-5T6FIPU\\AppData\\Roaming\\Python\\Python39\\site-packages\\statsmodels\\tsa\\base\\tsa_model.py:471: ValueWarning: A date index has been provided, but it has no associated frequency information and so will be ignored when e.g. forecasting.\n",
      "  self._init_dates(dates, freq)\n",
      "C:\\Users\\Kimbeomjoon.DESKTOP-5T6FIPU\\AppData\\Roaming\\Python\\Python39\\site-packages\\statsmodels\\tsa\\base\\tsa_model.py:471: ValueWarning: A date index has been provided, but it has no associated frequency information and so will be ignored when e.g. forecasting.\n",
      "  self._init_dates(dates, freq)\n",
      "C:\\Users\\Kimbeomjoon.DESKTOP-5T6FIPU\\AppData\\Roaming\\Python\\Python39\\site-packages\\statsmodels\\tsa\\base\\tsa_model.py:471: ValueWarning: A date index has been provided, but it has no associated frequency information and so will be ignored when e.g. forecasting.\n",
      "  self._init_dates(dates, freq)\n",
      "C:\\Users\\Kimbeomjoon.DESKTOP-5T6FIPU\\AppData\\Roaming\\Python\\Python39\\site-packages\\statsmodels\\tsa\\base\\tsa_model.py:471: ValueWarning: A date index has been provided, but it has no associated frequency information and so will be ignored when e.g. forecasting.\n",
      "  self._init_dates(dates, freq)\n",
      "C:\\Users\\Kimbeomjoon.DESKTOP-5T6FIPU\\AppData\\Roaming\\Python\\Python39\\site-packages\\statsmodels\\tsa\\base\\tsa_model.py:471: ValueWarning: A date index has been provided, but it has no associated frequency information and so will be ignored when e.g. forecasting.\n",
      "  self._init_dates(dates, freq)\n",
      "C:\\Users\\Kimbeomjoon.DESKTOP-5T6FIPU\\AppData\\Roaming\\Python\\Python39\\site-packages\\statsmodels\\tsa\\base\\tsa_model.py:471: ValueWarning: A date index has been provided, but it has no associated frequency information and so will be ignored when e.g. forecasting.\n",
      "  self._init_dates(dates, freq)\n",
      "C:\\Users\\Kimbeomjoon.DESKTOP-5T6FIPU\\AppData\\Roaming\\Python\\Python39\\site-packages\\statsmodels\\tsa\\base\\tsa_model.py:471: ValueWarning: A date index has been provided, but it has no associated frequency information and so will be ignored when e.g. forecasting.\n",
      "  self._init_dates(dates, freq)\n"
     ]
    },
    {
     "name": "stdout",
     "output_type": "stream",
     "text": [
      "AR: 0, MA: 0, AIC: 14880; resid stationarity check: 0\n",
      "AR: 0, MA: 1, AIC: 14882; resid stationarity check: 0\n",
      "AR: 0, MA: 2, AIC: 14869; resid stationarity check: 0\n"
     ]
    },
    {
     "name": "stderr",
     "output_type": "stream",
     "text": [
      "C:\\Users\\Kimbeomjoon.DESKTOP-5T6FIPU\\AppData\\Roaming\\Python\\Python39\\site-packages\\statsmodels\\tsa\\base\\tsa_model.py:471: ValueWarning: A date index has been provided, but it has no associated frequency information and so will be ignored when e.g. forecasting.\n",
      "  self._init_dates(dates, freq)\n",
      "C:\\Users\\Kimbeomjoon.DESKTOP-5T6FIPU\\AppData\\Roaming\\Python\\Python39\\site-packages\\statsmodels\\tsa\\base\\tsa_model.py:471: ValueWarning: A date index has been provided, but it has no associated frequency information and so will be ignored when e.g. forecasting.\n",
      "  self._init_dates(dates, freq)\n",
      "C:\\Users\\Kimbeomjoon.DESKTOP-5T6FIPU\\AppData\\Roaming\\Python\\Python39\\site-packages\\statsmodels\\tsa\\base\\tsa_model.py:471: ValueWarning: A date index has been provided, but it has no associated frequency information and so will be ignored when e.g. forecasting.\n",
      "  self._init_dates(dates, freq)\n",
      "C:\\Users\\Kimbeomjoon.DESKTOP-5T6FIPU\\AppData\\Roaming\\Python\\Python39\\site-packages\\statsmodels\\tsa\\base\\tsa_model.py:471: ValueWarning: A date index has been provided, but it has no associated frequency information and so will be ignored when e.g. forecasting.\n",
      "  self._init_dates(dates, freq)\n",
      "C:\\Users\\Kimbeomjoon.DESKTOP-5T6FIPU\\AppData\\Roaming\\Python\\Python39\\site-packages\\statsmodels\\tsa\\base\\tsa_model.py:471: ValueWarning: A date index has been provided, but it has no associated frequency information and so will be ignored when e.g. forecasting.\n",
      "  self._init_dates(dates, freq)\n",
      "C:\\Users\\Kimbeomjoon.DESKTOP-5T6FIPU\\AppData\\Roaming\\Python\\Python39\\site-packages\\statsmodels\\tsa\\base\\tsa_model.py:471: ValueWarning: A date index has been provided, but it has no associated frequency information and so will be ignored when e.g. forecasting.\n",
      "  self._init_dates(dates, freq)\n",
      "C:\\Users\\Kimbeomjoon.DESKTOP-5T6FIPU\\AppData\\Roaming\\Python\\Python39\\site-packages\\statsmodels\\tsa\\base\\tsa_model.py:471: ValueWarning: A date index has been provided, but it has no associated frequency information and so will be ignored when e.g. forecasting.\n",
      "  self._init_dates(dates, freq)\n",
      "C:\\Users\\Kimbeomjoon.DESKTOP-5T6FIPU\\AppData\\Roaming\\Python\\Python39\\site-packages\\statsmodels\\tsa\\base\\tsa_model.py:471: ValueWarning: A date index has been provided, but it has no associated frequency information and so will be ignored when e.g. forecasting.\n",
      "  self._init_dates(dates, freq)\n",
      "C:\\Users\\Kimbeomjoon.DESKTOP-5T6FIPU\\AppData\\Roaming\\Python\\Python39\\site-packages\\statsmodels\\tsa\\base\\tsa_model.py:471: ValueWarning: A date index has been provided, but it has no associated frequency information and so will be ignored when e.g. forecasting.\n",
      "  self._init_dates(dates, freq)\n"
     ]
    },
    {
     "name": "stdout",
     "output_type": "stream",
     "text": [
      "AR: 0, MA: 3, AIC: 14864; resid stationarity check: 0\n",
      "AR: 0, MA: 4, AIC: 14865; resid stationarity check: 0\n",
      "AR: 1, MA: 0, AIC: 14882; resid stationarity check: 0\n"
     ]
    },
    {
     "name": "stderr",
     "output_type": "stream",
     "text": [
      "C:\\Users\\Kimbeomjoon.DESKTOP-5T6FIPU\\AppData\\Roaming\\Python\\Python39\\site-packages\\statsmodels\\tsa\\base\\tsa_model.py:471: ValueWarning: A date index has been provided, but it has no associated frequency information and so will be ignored when e.g. forecasting.\n",
      "  self._init_dates(dates, freq)\n",
      "C:\\Users\\Kimbeomjoon.DESKTOP-5T6FIPU\\AppData\\Roaming\\Python\\Python39\\site-packages\\statsmodels\\tsa\\base\\tsa_model.py:471: ValueWarning: A date index has been provided, but it has no associated frequency information and so will be ignored when e.g. forecasting.\n",
      "  self._init_dates(dates, freq)\n",
      "C:\\Users\\Kimbeomjoon.DESKTOP-5T6FIPU\\AppData\\Roaming\\Python\\Python39\\site-packages\\statsmodels\\tsa\\base\\tsa_model.py:471: ValueWarning: A date index has been provided, but it has no associated frequency information and so will be ignored when e.g. forecasting.\n",
      "  self._init_dates(dates, freq)\n",
      "C:\\Users\\Kimbeomjoon.DESKTOP-5T6FIPU\\AppData\\Roaming\\Python\\Python39\\site-packages\\statsmodels\\tsa\\base\\tsa_model.py:471: ValueWarning: A date index has been provided, but it has no associated frequency information and so will be ignored when e.g. forecasting.\n",
      "  self._init_dates(dates, freq)\n",
      "C:\\Users\\Kimbeomjoon.DESKTOP-5T6FIPU\\AppData\\Roaming\\Python\\Python39\\site-packages\\statsmodels\\tsa\\base\\tsa_model.py:471: ValueWarning: A date index has been provided, but it has no associated frequency information and so will be ignored when e.g. forecasting.\n",
      "  self._init_dates(dates, freq)\n",
      "C:\\Users\\Kimbeomjoon.DESKTOP-5T6FIPU\\AppData\\Roaming\\Python\\Python39\\site-packages\\statsmodels\\tsa\\base\\tsa_model.py:471: ValueWarning: A date index has been provided, but it has no associated frequency information and so will be ignored when e.g. forecasting.\n",
      "  self._init_dates(dates, freq)\n"
     ]
    },
    {
     "name": "stdout",
     "output_type": "stream",
     "text": [
      "AR: 1, MA: 1, AIC: 14878; resid stationarity check: 0\n",
      "AR: 1, MA: 2, AIC: 14867; resid stationarity check: 0\n"
     ]
    },
    {
     "name": "stderr",
     "output_type": "stream",
     "text": [
      "C:\\Users\\Kimbeomjoon.DESKTOP-5T6FIPU\\AppData\\Roaming\\Python\\Python39\\site-packages\\statsmodels\\tsa\\base\\tsa_model.py:471: ValueWarning: A date index has been provided, but it has no associated frequency information and so will be ignored when e.g. forecasting.\n",
      "  self._init_dates(dates, freq)\n",
      "C:\\Users\\Kimbeomjoon.DESKTOP-5T6FIPU\\AppData\\Roaming\\Python\\Python39\\site-packages\\statsmodels\\tsa\\base\\tsa_model.py:471: ValueWarning: A date index has been provided, but it has no associated frequency information and so will be ignored when e.g. forecasting.\n",
      "  self._init_dates(dates, freq)\n",
      "C:\\Users\\Kimbeomjoon.DESKTOP-5T6FIPU\\AppData\\Roaming\\Python\\Python39\\site-packages\\statsmodels\\tsa\\base\\tsa_model.py:471: ValueWarning: A date index has been provided, but it has no associated frequency information and so will be ignored when e.g. forecasting.\n",
      "  self._init_dates(dates, freq)\n",
      "C:\\Users\\Kimbeomjoon.DESKTOP-5T6FIPU\\AppData\\Roaming\\Python\\Python39\\site-packages\\statsmodels\\tsa\\base\\tsa_model.py:471: ValueWarning: A date index has been provided, but it has no associated frequency information and so will be ignored when e.g. forecasting.\n",
      "  self._init_dates(dates, freq)\n",
      "C:\\Users\\Kimbeomjoon.DESKTOP-5T6FIPU\\AppData\\Roaming\\Python\\Python39\\site-packages\\statsmodels\\tsa\\base\\tsa_model.py:471: ValueWarning: A date index has been provided, but it has no associated frequency information and so will be ignored when e.g. forecasting.\n",
      "  self._init_dates(dates, freq)\n"
     ]
    },
    {
     "name": "stdout",
     "output_type": "stream",
     "text": [
      "AR: 1, MA: 3, AIC: 14864; resid stationarity check: 0\n"
     ]
    },
    {
     "name": "stderr",
     "output_type": "stream",
     "text": [
      "C:\\Users\\Kimbeomjoon.DESKTOP-5T6FIPU\\AppData\\Roaming\\Python\\Python39\\site-packages\\statsmodels\\tsa\\base\\tsa_model.py:471: ValueWarning: A date index has been provided, but it has no associated frequency information and so will be ignored when e.g. forecasting.\n",
      "  self._init_dates(dates, freq)\n"
     ]
    },
    {
     "name": "stdout",
     "output_type": "stream",
     "text": [
      "AR: 1, MA: 4, AIC: 14866; resid stationarity check: 0\n",
      "AR: 2, MA: 0, AIC: 14871; resid stationarity check: 0\n"
     ]
    },
    {
     "name": "stderr",
     "output_type": "stream",
     "text": [
      "C:\\Users\\Kimbeomjoon.DESKTOP-5T6FIPU\\AppData\\Roaming\\Python\\Python39\\site-packages\\statsmodels\\tsa\\base\\tsa_model.py:471: ValueWarning: A date index has been provided, but it has no associated frequency information and so will be ignored when e.g. forecasting.\n",
      "  self._init_dates(dates, freq)\n",
      "C:\\Users\\Kimbeomjoon.DESKTOP-5T6FIPU\\AppData\\Roaming\\Python\\Python39\\site-packages\\statsmodels\\tsa\\base\\tsa_model.py:471: ValueWarning: A date index has been provided, but it has no associated frequency information and so will be ignored when e.g. forecasting.\n",
      "  self._init_dates(dates, freq)\n",
      "C:\\Users\\Kimbeomjoon.DESKTOP-5T6FIPU\\AppData\\Roaming\\Python\\Python39\\site-packages\\statsmodels\\tsa\\base\\tsa_model.py:471: ValueWarning: A date index has been provided, but it has no associated frequency information and so will be ignored when e.g. forecasting.\n",
      "  self._init_dates(dates, freq)\n",
      "C:\\Users\\Kimbeomjoon.DESKTOP-5T6FIPU\\AppData\\Roaming\\Python\\Python39\\site-packages\\statsmodels\\tsa\\base\\tsa_model.py:471: ValueWarning: A date index has been provided, but it has no associated frequency information and so will be ignored when e.g. forecasting.\n",
      "  self._init_dates(dates, freq)\n",
      "C:\\Users\\Kimbeomjoon.DESKTOP-5T6FIPU\\AppData\\Roaming\\Python\\Python39\\site-packages\\statsmodels\\tsa\\base\\tsa_model.py:471: ValueWarning: A date index has been provided, but it has no associated frequency information and so will be ignored when e.g. forecasting.\n",
      "  self._init_dates(dates, freq)\n",
      "C:\\Users\\Kimbeomjoon.DESKTOP-5T6FIPU\\AppData\\Roaming\\Python\\Python39\\site-packages\\statsmodels\\tsa\\base\\tsa_model.py:471: ValueWarning: A date index has been provided, but it has no associated frequency information and so will be ignored when e.g. forecasting.\n",
      "  self._init_dates(dates, freq)\n"
     ]
    },
    {
     "name": "stdout",
     "output_type": "stream",
     "text": [
      "AR: 2, MA: 1, AIC: 14870; resid stationarity check: 0\n",
      "AR: 2, MA: 2, AIC: 14867; resid stationarity check: 0\n"
     ]
    },
    {
     "name": "stderr",
     "output_type": "stream",
     "text": [
      "C:\\Users\\Kimbeomjoon.DESKTOP-5T6FIPU\\AppData\\Roaming\\Python\\Python39\\site-packages\\statsmodels\\tsa\\base\\tsa_model.py:471: ValueWarning: A date index has been provided, but it has no associated frequency information and so will be ignored when e.g. forecasting.\n",
      "  self._init_dates(dates, freq)\n",
      "C:\\Users\\Kimbeomjoon.DESKTOP-5T6FIPU\\AppData\\Roaming\\Python\\Python39\\site-packages\\statsmodels\\tsa\\base\\tsa_model.py:471: ValueWarning: A date index has been provided, but it has no associated frequency information and so will be ignored when e.g. forecasting.\n",
      "  self._init_dates(dates, freq)\n",
      "C:\\Users\\Kimbeomjoon.DESKTOP-5T6FIPU\\AppData\\Roaming\\Python\\Python39\\site-packages\\statsmodels\\tsa\\base\\tsa_model.py:471: ValueWarning: A date index has been provided, but it has no associated frequency information and so will be ignored when e.g. forecasting.\n",
      "  self._init_dates(dates, freq)\n",
      "C:\\Users\\Kimbeomjoon.DESKTOP-5T6FIPU\\AppData\\Roaming\\Python\\Python39\\site-packages\\statsmodels\\tsa\\base\\tsa_model.py:471: ValueWarning: A date index has been provided, but it has no associated frequency information and so will be ignored when e.g. forecasting.\n",
      "  self._init_dates(dates, freq)\n",
      "C:\\Users\\Kimbeomjoon.DESKTOP-5T6FIPU\\AppData\\Roaming\\Python\\Python39\\site-packages\\statsmodels\\tsa\\base\\tsa_model.py:471: ValueWarning: A date index has been provided, but it has no associated frequency information and so will be ignored when e.g. forecasting.\n",
      "  self._init_dates(dates, freq)\n",
      "C:\\Users\\Kimbeomjoon.DESKTOP-5T6FIPU\\AppData\\Roaming\\Python\\Python39\\site-packages\\statsmodels\\tsa\\base\\tsa_model.py:471: ValueWarning: A date index has been provided, but it has no associated frequency information and so will be ignored when e.g. forecasting.\n",
      "  self._init_dates(dates, freq)\n"
     ]
    },
    {
     "name": "stdout",
     "output_type": "stream",
     "text": [
      "AR: 2, MA: 3, AIC: 14866; resid stationarity check: 0\n"
     ]
    },
    {
     "name": "stderr",
     "output_type": "stream",
     "text": [
      "C:\\Users\\Kimbeomjoon.DESKTOP-5T6FIPU\\AppData\\Roaming\\Python\\Python39\\site-packages\\statsmodels\\tsa\\base\\tsa_model.py:471: ValueWarning: A date index has been provided, but it has no associated frequency information and so will be ignored when e.g. forecasting.\n",
      "  self._init_dates(dates, freq)\n",
      "C:\\Users\\Kimbeomjoon.DESKTOP-5T6FIPU\\AppData\\Roaming\\Python\\Python39\\site-packages\\statsmodels\\tsa\\base\\tsa_model.py:471: ValueWarning: A date index has been provided, but it has no associated frequency information and so will be ignored when e.g. forecasting.\n",
      "  self._init_dates(dates, freq)\n",
      "C:\\Users\\Kimbeomjoon.DESKTOP-5T6FIPU\\AppData\\Roaming\\Python\\Python39\\site-packages\\statsmodels\\tsa\\base\\tsa_model.py:471: ValueWarning: A date index has been provided, but it has no associated frequency information and so will be ignored when e.g. forecasting.\n",
      "  self._init_dates(dates, freq)\n"
     ]
    },
    {
     "name": "stdout",
     "output_type": "stream",
     "text": [
      "AR: 2, MA: 4, AIC: 14868; resid stationarity check: 0\n",
      "AR: 3, MA: 0, AIC: 14866; resid stationarity check: 0\n"
     ]
    },
    {
     "name": "stderr",
     "output_type": "stream",
     "text": [
      "C:\\Users\\Kimbeomjoon.DESKTOP-5T6FIPU\\AppData\\Roaming\\Python\\Python39\\site-packages\\statsmodels\\tsa\\base\\tsa_model.py:471: ValueWarning: A date index has been provided, but it has no associated frequency information and so will be ignored when e.g. forecasting.\n",
      "  self._init_dates(dates, freq)\n",
      "C:\\Users\\Kimbeomjoon.DESKTOP-5T6FIPU\\AppData\\Roaming\\Python\\Python39\\site-packages\\statsmodels\\tsa\\base\\tsa_model.py:471: ValueWarning: A date index has been provided, but it has no associated frequency information and so will be ignored when e.g. forecasting.\n",
      "  self._init_dates(dates, freq)\n",
      "C:\\Users\\Kimbeomjoon.DESKTOP-5T6FIPU\\AppData\\Roaming\\Python\\Python39\\site-packages\\statsmodels\\tsa\\base\\tsa_model.py:471: ValueWarning: A date index has been provided, but it has no associated frequency information and so will be ignored when e.g. forecasting.\n",
      "  self._init_dates(dates, freq)\n",
      "C:\\Users\\Kimbeomjoon.DESKTOP-5T6FIPU\\AppData\\Roaming\\Python\\Python39\\site-packages\\statsmodels\\tsa\\base\\tsa_model.py:471: ValueWarning: A date index has been provided, but it has no associated frequency information and so will be ignored when e.g. forecasting.\n",
      "  self._init_dates(dates, freq)\n",
      "C:\\Users\\Kimbeomjoon.DESKTOP-5T6FIPU\\AppData\\Roaming\\Python\\Python39\\site-packages\\statsmodels\\tsa\\base\\tsa_model.py:471: ValueWarning: A date index has been provided, but it has no associated frequency information and so will be ignored when e.g. forecasting.\n",
      "  self._init_dates(dates, freq)\n",
      "C:\\Users\\Kimbeomjoon.DESKTOP-5T6FIPU\\AppData\\Roaming\\Python\\Python39\\site-packages\\statsmodels\\tsa\\base\\tsa_model.py:471: ValueWarning: A date index has been provided, but it has no associated frequency information and so will be ignored when e.g. forecasting.\n",
      "  self._init_dates(dates, freq)\n"
     ]
    },
    {
     "name": "stdout",
     "output_type": "stream",
     "text": [
      "AR: 3, MA: 1, AIC: 14866; resid stationarity check: 0\n",
      "AR: 3, MA: 2, AIC: 14867; resid stationarity check: 0\n"
     ]
    },
    {
     "name": "stderr",
     "output_type": "stream",
     "text": [
      "C:\\Users\\Kimbeomjoon.DESKTOP-5T6FIPU\\AppData\\Roaming\\Python\\Python39\\site-packages\\statsmodels\\tsa\\base\\tsa_model.py:471: ValueWarning: A date index has been provided, but it has no associated frequency information and so will be ignored when e.g. forecasting.\n",
      "  self._init_dates(dates, freq)\n",
      "C:\\Users\\Kimbeomjoon.DESKTOP-5T6FIPU\\AppData\\Roaming\\Python\\Python39\\site-packages\\statsmodels\\tsa\\base\\tsa_model.py:471: ValueWarning: A date index has been provided, but it has no associated frequency information and so will be ignored when e.g. forecasting.\n",
      "  self._init_dates(dates, freq)\n",
      "C:\\Users\\Kimbeomjoon.DESKTOP-5T6FIPU\\AppData\\Roaming\\Python\\Python39\\site-packages\\statsmodels\\tsa\\base\\tsa_model.py:471: ValueWarning: A date index has been provided, but it has no associated frequency information and so will be ignored when e.g. forecasting.\n",
      "  self._init_dates(dates, freq)\n",
      "C:\\Users\\Kimbeomjoon.DESKTOP-5T6FIPU\\AppData\\Roaming\\Python\\Python39\\site-packages\\statsmodels\\tsa\\base\\tsa_model.py:471: ValueWarning: A date index has been provided, but it has no associated frequency information and so will be ignored when e.g. forecasting.\n",
      "  self._init_dates(dates, freq)\n",
      "C:\\Users\\Kimbeomjoon.DESKTOP-5T6FIPU\\AppData\\Roaming\\Python\\Python39\\site-packages\\statsmodels\\tsa\\base\\tsa_model.py:471: ValueWarning: A date index has been provided, but it has no associated frequency information and so will be ignored when e.g. forecasting.\n",
      "  self._init_dates(dates, freq)\n",
      "C:\\Users\\Kimbeomjoon.DESKTOP-5T6FIPU\\AppData\\Roaming\\Python\\Python39\\site-packages\\statsmodels\\tsa\\base\\tsa_model.py:471: ValueWarning: A date index has been provided, but it has no associated frequency information and so will be ignored when e.g. forecasting.\n",
      "  self._init_dates(dates, freq)\n"
     ]
    },
    {
     "name": "stdout",
     "output_type": "stream",
     "text": [
      "AR: 3, MA: 3, AIC: 14868; resid stationarity check: 0\n"
     ]
    },
    {
     "name": "stderr",
     "output_type": "stream",
     "text": [
      "C:\\Users\\Kimbeomjoon.DESKTOP-5T6FIPU\\AppData\\Roaming\\Python\\Python39\\site-packages\\statsmodels\\tsa\\base\\tsa_model.py:471: ValueWarning: A date index has been provided, but it has no associated frequency information and so will be ignored when e.g. forecasting.\n",
      "  self._init_dates(dates, freq)\n",
      "C:\\Users\\Kimbeomjoon.DESKTOP-5T6FIPU\\AppData\\Roaming\\Python\\Python39\\site-packages\\statsmodels\\tsa\\base\\tsa_model.py:471: ValueWarning: A date index has been provided, but it has no associated frequency information and so will be ignored when e.g. forecasting.\n",
      "  self._init_dates(dates, freq)\n",
      "C:\\Users\\Kimbeomjoon.DESKTOP-5T6FIPU\\AppData\\Roaming\\Python\\Python39\\site-packages\\statsmodels\\tsa\\base\\tsa_model.py:471: ValueWarning: A date index has been provided, but it has no associated frequency information and so will be ignored when e.g. forecasting.\n",
      "  self._init_dates(dates, freq)\n"
     ]
    },
    {
     "name": "stdout",
     "output_type": "stream",
     "text": [
      "AR: 3, MA: 4, AIC: 14870; resid stationarity check: 0\n",
      "AR: 4, MA: 0, AIC: 14865; resid stationarity check: 0\n"
     ]
    },
    {
     "name": "stderr",
     "output_type": "stream",
     "text": [
      "C:\\Users\\Kimbeomjoon.DESKTOP-5T6FIPU\\AppData\\Roaming\\Python\\Python39\\site-packages\\statsmodels\\tsa\\base\\tsa_model.py:471: ValueWarning: A date index has been provided, but it has no associated frequency information and so will be ignored when e.g. forecasting.\n",
      "  self._init_dates(dates, freq)\n",
      "C:\\Users\\Kimbeomjoon.DESKTOP-5T6FIPU\\AppData\\Roaming\\Python\\Python39\\site-packages\\statsmodels\\tsa\\base\\tsa_model.py:471: ValueWarning: A date index has been provided, but it has no associated frequency information and so will be ignored when e.g. forecasting.\n",
      "  self._init_dates(dates, freq)\n",
      "C:\\Users\\Kimbeomjoon.DESKTOP-5T6FIPU\\AppData\\Roaming\\Python\\Python39\\site-packages\\statsmodels\\tsa\\base\\tsa_model.py:471: ValueWarning: A date index has been provided, but it has no associated frequency information and so will be ignored when e.g. forecasting.\n",
      "  self._init_dates(dates, freq)\n",
      "C:\\Users\\Kimbeomjoon.DESKTOP-5T6FIPU\\AppData\\Roaming\\Python\\Python39\\site-packages\\statsmodels\\tsa\\base\\tsa_model.py:471: ValueWarning: A date index has been provided, but it has no associated frequency information and so will be ignored when e.g. forecasting.\n",
      "  self._init_dates(dates, freq)\n",
      "C:\\Users\\Kimbeomjoon.DESKTOP-5T6FIPU\\AppData\\Roaming\\Python\\Python39\\site-packages\\statsmodels\\tsa\\base\\tsa_model.py:471: ValueWarning: A date index has been provided, but it has no associated frequency information and so will be ignored when e.g. forecasting.\n",
      "  self._init_dates(dates, freq)\n",
      "C:\\Users\\Kimbeomjoon.DESKTOP-5T6FIPU\\AppData\\Roaming\\Python\\Python39\\site-packages\\statsmodels\\tsa\\base\\tsa_model.py:471: ValueWarning: A date index has been provided, but it has no associated frequency information and so will be ignored when e.g. forecasting.\n",
      "  self._init_dates(dates, freq)\n"
     ]
    },
    {
     "name": "stdout",
     "output_type": "stream",
     "text": [
      "AR: 4, MA: 1, AIC: 14866; resid stationarity check: 0\n"
     ]
    },
    {
     "name": "stderr",
     "output_type": "stream",
     "text": [
      "C:\\Users\\Kimbeomjoon.DESKTOP-5T6FIPU\\AppData\\Roaming\\Python\\Python39\\site-packages\\statsmodels\\tsa\\base\\tsa_model.py:471: ValueWarning: A date index has been provided, but it has no associated frequency information and so will be ignored when e.g. forecasting.\n",
      "  self._init_dates(dates, freq)\n",
      "C:\\Users\\Kimbeomjoon.DESKTOP-5T6FIPU\\AppData\\Roaming\\Python\\Python39\\site-packages\\statsmodels\\tsa\\base\\tsa_model.py:471: ValueWarning: A date index has been provided, but it has no associated frequency information and so will be ignored when e.g. forecasting.\n",
      "  self._init_dates(dates, freq)\n",
      "C:\\Users\\Kimbeomjoon.DESKTOP-5T6FIPU\\AppData\\Roaming\\Python\\Python39\\site-packages\\statsmodels\\tsa\\base\\tsa_model.py:471: ValueWarning: A date index has been provided, but it has no associated frequency information and so will be ignored when e.g. forecasting.\n",
      "  self._init_dates(dates, freq)\n"
     ]
    },
    {
     "name": "stdout",
     "output_type": "stream",
     "text": [
      "AR: 4, MA: 2, AIC: 14868; resid stationarity check: 0\n"
     ]
    },
    {
     "name": "stderr",
     "output_type": "stream",
     "text": [
      "C:\\Users\\Kimbeomjoon.DESKTOP-5T6FIPU\\AppData\\Roaming\\Python\\Python39\\site-packages\\statsmodels\\tsa\\base\\tsa_model.py:471: ValueWarning: A date index has been provided, but it has no associated frequency information and so will be ignored when e.g. forecasting.\n",
      "  self._init_dates(dates, freq)\n",
      "C:\\Users\\Kimbeomjoon.DESKTOP-5T6FIPU\\AppData\\Roaming\\Python\\Python39\\site-packages\\statsmodels\\tsa\\base\\tsa_model.py:471: ValueWarning: A date index has been provided, but it has no associated frequency information and so will be ignored when e.g. forecasting.\n",
      "  self._init_dates(dates, freq)\n",
      "C:\\Users\\Kimbeomjoon.DESKTOP-5T6FIPU\\AppData\\Roaming\\Python\\Python39\\site-packages\\statsmodels\\tsa\\base\\tsa_model.py:471: ValueWarning: A date index has been provided, but it has no associated frequency information and so will be ignored when e.g. forecasting.\n",
      "  self._init_dates(dates, freq)\n"
     ]
    },
    {
     "name": "stdout",
     "output_type": "stream",
     "text": [
      "AR: 4, MA: 3, AIC: 14871; resid stationarity check: 0\n"
     ]
    },
    {
     "name": "stderr",
     "output_type": "stream",
     "text": [
      "C:\\Users\\Kimbeomjoon.DESKTOP-5T6FIPU\\AppData\\Roaming\\Python\\Python39\\site-packages\\statsmodels\\tsa\\base\\tsa_model.py:471: ValueWarning: A date index has been provided, but it has no associated frequency information and so will be ignored when e.g. forecasting.\n",
      "  self._init_dates(dates, freq)\n",
      "C:\\Users\\Kimbeomjoon.DESKTOP-5T6FIPU\\AppData\\Roaming\\Python\\Python39\\site-packages\\statsmodels\\tsa\\base\\tsa_model.py:471: ValueWarning: A date index has been provided, but it has no associated frequency information and so will be ignored when e.g. forecasting.\n",
      "  self._init_dates(dates, freq)\n",
      "C:\\Users\\Kimbeomjoon.DESKTOP-5T6FIPU\\AppData\\Roaming\\Python\\Python39\\site-packages\\statsmodels\\tsa\\base\\tsa_model.py:471: ValueWarning: A date index has been provided, but it has no associated frequency information and so will be ignored when e.g. forecasting.\n",
      "  self._init_dates(dates, freq)\n"
     ]
    },
    {
     "name": "stdout",
     "output_type": "stream",
     "text": [
      "AR: 4, MA: 4, AIC: 14872; resid stationarity check: 0\n",
      "the following function prints AIC criteria and finds the paramters for minimum AIC criteria\n",
      "best AR: 0, best MA: 3, best AIC: 14864;  resid stationarity check:0\n"
     ]
    },
    {
     "name": "stderr",
     "output_type": "stream",
     "text": [
      "C:\\Users\\Kimbeomjoon.DESKTOP-5T6FIPU\\AppData\\Roaming\\Python\\Python39\\site-packages\\statsmodels\\base\\model.py:604: ConvergenceWarning: Maximum Likelihood optimization failed to converge. Check mle_retvals\n",
      "  warnings.warn(\"Maximum Likelihood optimization failed to \"\n"
     ]
    }
   ],
   "source": [
    "best_AR_MA_checker(eco_v, 0, 5)"
   ]
  },
  {
   "cell_type": "code",
   "execution_count": 99,
   "metadata": {},
   "outputs": [
    {
     "name": "stdout",
     "output_type": "stream",
     "text": [
      "                               SARIMAX Results                                \n",
      "==============================================================================\n",
      "Dep. Variable:                     종가   No. Observations:                  818\n",
      "Model:                 ARIMA(1, 1, 2)   Log Likelihood               -7429.781\n",
      "Date:                Sun, 11 Dec 2022   AIC                          14867.563\n",
      "Time:                        13:56:36   BIC                          14886.385\n",
      "Sample:                             0   HQIC                         14874.786\n",
      "                                - 818                                         \n",
      "Covariance Type:                  opg                                         \n",
      "==============================================================================\n",
      "                 coef    std err          z      P>|z|      [0.025      0.975]\n",
      "------------------------------------------------------------------------------\n",
      "ar.L1          0.3551      0.126      2.816      0.005       0.108       0.602\n",
      "ma.L1         -0.3565      0.126     -2.828      0.005      -0.604      -0.109\n",
      "ma.L2          0.1535      0.020      7.831      0.000       0.115       0.192\n",
      "sigma2      4.692e+06   1.03e+05     45.496      0.000    4.49e+06    4.89e+06\n",
      "===================================================================================\n",
      "Ljung-Box (L1) (Q):                   0.01   Jarque-Bera (JB):              4572.88\n",
      "Prob(Q):                              0.92   Prob(JB):                         0.00\n",
      "Heteroskedasticity (H):              37.41   Skew:                            -0.47\n",
      "Prob(H) (two-sided):                  0.00   Kurtosis:                        14.55\n",
      "===================================================================================\n",
      "\n",
      "Warnings:\n",
      "[1] Covariance matrix calculated using the outer product of gradients (complex-step).\n"
     ]
    },
    {
     "name": "stderr",
     "output_type": "stream",
     "text": [
      "C:\\Users\\Kimbeomjoon.DESKTOP-5T6FIPU\\AppData\\Roaming\\Python\\Python39\\site-packages\\statsmodels\\tsa\\base\\tsa_model.py:471: ValueWarning: A date index has been provided, but it has no associated frequency information and so will be ignored when e.g. forecasting.\n",
      "  self._init_dates(dates, freq)\n",
      "C:\\Users\\Kimbeomjoon.DESKTOP-5T6FIPU\\AppData\\Roaming\\Python\\Python39\\site-packages\\statsmodels\\tsa\\base\\tsa_model.py:471: ValueWarning: A date index has been provided, but it has no associated frequency information and so will be ignored when e.g. forecasting.\n",
      "  self._init_dates(dates, freq)\n",
      "C:\\Users\\Kimbeomjoon.DESKTOP-5T6FIPU\\AppData\\Roaming\\Python\\Python39\\site-packages\\statsmodels\\tsa\\base\\tsa_model.py:471: ValueWarning: A date index has been provided, but it has no associated frequency information and so will be ignored when e.g. forecasting.\n",
      "  self._init_dates(dates, freq)\n"
     ]
    }
   ],
   "source": [
    "eco_model = sm.tsa.ARIMA(eco_v, order=(1, 1, 2))\n",
    "eco_res = eco_model.fit()\n",
    "print(eco_res.summary())"
   ]
  },
  {
   "cell_type": "code",
   "execution_count": 100,
   "metadata": {},
   "outputs": [
    {
     "name": "stderr",
     "output_type": "stream",
     "text": [
      "c:\\ProgramData\\Anaconda3\\lib\\site-packages\\matplotlib\\backends\\backend_agg.py:240: RuntimeWarning: Glyph 51333 missing from current font.\n",
      "  font.set_text(s, 0.0, flags=flags)\n",
      "c:\\ProgramData\\Anaconda3\\lib\\site-packages\\matplotlib\\backends\\backend_agg.py:203: RuntimeWarning: Glyph 51333 missing from current font.\n",
      "  font.set_text(s, 0, flags=flags)\n"
     ]
    },
    {
     "data": {
      "image/png": "[encoded data removed]",
      "text/plain": [
       "<Figure size 1152x576 with 4 Axes>"
      ]
     },
     "metadata": {
      "needs_background": "light"
     },
     "output_type": "display_data"
    }
   ],
   "source": [
    "eco_res.plot_diagnostics(figsize=(16, 8))\n",
    "plt.show()"
   ]
  },
  {
   "cell_type": "code",
   "execution_count": 101,
   "metadata": {},
   "outputs": [
    {
     "data": {
      "text/plain": [
       "일자\n",
       "2019-03-05         0.000000\n",
       "2019-03-06     15714.955973\n",
       "2019-03-07     18951.494635\n",
       "2019-03-08     18186.515941\n",
       "2019-03-11     17336.214457\n",
       "                  ...      \n",
       "2022-06-17    130252.812484\n",
       "2022-06-20    130314.778474\n",
       "2022-06-21    130104.626629\n",
       "2022-06-22    131087.245154\n",
       "2022-06-23    131011.921319\n",
       "Name: predicted_mean, Length: 818, dtype: float64"
      ]
     },
     "execution_count": 101,
     "metadata": {},
     "output_type": "execute_result"
    }
   ],
   "source": [
    "ep = eco_res.predict()\n",
    "ep"
   ]
  },
  {
   "cell_type": "code",
   "execution_count": 102,
   "metadata": {},
   "outputs": [
    {
     "name": "stderr",
     "output_type": "stream",
     "text": [
      "C:\\Users\\Kimbeomjoon.DESKTOP-5T6FIPU\\AppData\\Roaming\\Python\\Python39\\site-packages\\statsmodels\\tsa\\base\\tsa_model.py:834: ValueWarning: No supported index is available. Prediction results will be given with an integer index beginning at `start`.\n",
      "  return get_prediction_index(\n"
     ]
    },
    {
     "data": {
      "text/html": [
       "<div>\n",
       "<style scoped>\n",
       "    .dataframe tbody tr th:only-of-type {\n",
       "        vertical-align: middle;\n",
       "    }\n",
       "\n",
       "    .dataframe tbody tr th {\n",
       "        vertical-align: top;\n",
       "    }\n",
       "\n",
       "    .dataframe thead th {\n",
       "        text-align: right;\n",
       "    }\n",
       "</style>\n",
       "<table border=\"1\" class=\"dataframe\">\n",
       "  <thead>\n",
       "    <tr style=\"text-align: right;\">\n",
       "      <th></th>\n",
       "      <th>predicted_mean</th>\n",
       "    </tr>\n",
       "    <tr>\n",
       "      <th>일자</th>\n",
       "      <th></th>\n",
       "    </tr>\n",
       "  </thead>\n",
       "  <tbody>\n",
       "    <tr>\n",
       "      <th>2022-06-24</th>\n",
       "      <td>118168.103665</td>\n",
       "    </tr>\n",
       "    <tr>\n",
       "      <th>2022-06-27</th>\n",
       "      <td>116204.181196</td>\n",
       "    </tr>\n",
       "    <tr>\n",
       "      <th>2022-06-28</th>\n",
       "      <td>115506.775076</td>\n",
       "    </tr>\n",
       "    <tr>\n",
       "      <th>2022-06-29</th>\n",
       "      <td>115259.120037</td>\n",
       "    </tr>\n",
       "    <tr>\n",
       "      <th>2022-06-30</th>\n",
       "      <td>115171.175557</td>\n",
       "    </tr>\n",
       "    <tr>\n",
       "      <th>...</th>\n",
       "      <td>...</td>\n",
       "    </tr>\n",
       "    <tr>\n",
       "      <th>2022-12-02</th>\n",
       "      <td>115122.749006</td>\n",
       "    </tr>\n",
       "    <tr>\n",
       "      <th>2022-12-05</th>\n",
       "      <td>115122.749006</td>\n",
       "    </tr>\n",
       "    <tr>\n",
       "      <th>2022-12-06</th>\n",
       "      <td>115122.749006</td>\n",
       "    </tr>\n",
       "    <tr>\n",
       "      <th>2022-12-07</th>\n",
       "      <td>115122.749006</td>\n",
       "    </tr>\n",
       "    <tr>\n",
       "      <th>2022-12-08</th>\n",
       "      <td>115122.749006</td>\n",
       "    </tr>\n",
       "  </tbody>\n",
       "</table>\n",
       "<p>115 rows × 1 columns</p>\n",
       "</div>"
      ],
      "text/plain": [
       "            predicted_mean\n",
       "일자                        \n",
       "2022-06-24   118168.103665\n",
       "2022-06-27   116204.181196\n",
       "2022-06-28   115506.775076\n",
       "2022-06-29   115259.120037\n",
       "2022-06-30   115171.175557\n",
       "...                    ...\n",
       "2022-12-02   115122.749006\n",
       "2022-12-05   115122.749006\n",
       "2022-12-06   115122.749006\n",
       "2022-12-07   115122.749006\n",
       "2022-12-08   115122.749006\n",
       "\n",
       "[115 rows x 1 columns]"
      ]
     },
     "execution_count": 102,
     "metadata": {},
     "output_type": "execute_result"
    }
   ],
   "source": [
    "eco_predict = eco_res.forecast(steps = 115) \n",
    "eco_predict_data = pd.DataFrame(eco_predict)\n",
    "eco_predict_data = eco_predict_data.set_index(eco_real.index)\n",
    "eco_predict_data"
   ]
  },
  {
   "cell_type": "code",
   "execution_count": 103,
   "metadata": {},
   "outputs": [
    {
     "data": {
      "image/png": "[encoded data removed]",
      "text/plain": [
       "<Figure size 2160x720 with 1 Axes>"
      ]
     },
     "metadata": {
      "needs_background": "light"
     },
     "output_type": "display_data"
    }
   ],
   "source": [
    "fig, axes = plt.subplots(1, 1, figsize=(30, 10))\n",
    "#plt.plot(eco_v, label = 'Past_Data')\n",
    "plt.plot(eco_real, label = 'Real_Data')\n",
    "plt.plot(eco_predict_data, label='Predicted_Data')  # 예측 데이터\n",
    "plt.legend()\n",
    "plt.show()"
   ]
  },
  {
   "cell_type": "code",
   "execution_count": 104,
   "metadata": {},
   "outputs": [
    {
     "name": "stderr",
     "output_type": "stream",
     "text": [
      "C:\\Users\\Kimbeomjoon.DESKTOP-5T6FIPU\\AppData\\Roaming\\Python\\Python39\\site-packages\\statsmodels\\tsa\\base\\tsa_model.py:834: ValueWarning: No supported index is available. Prediction results will be given with an integer index beginning at `start`.\n",
      "  return get_prediction_index(\n"
     ]
    },
    {
     "data": {
      "text/html": [
       "<div>\n",
       "<style scoped>\n",
       "    .dataframe tbody tr th:only-of-type {\n",
       "        vertical-align: middle;\n",
       "    }\n",
       "\n",
       "    .dataframe tbody tr th {\n",
       "        vertical-align: top;\n",
       "    }\n",
       "\n",
       "    .dataframe thead th {\n",
       "        text-align: right;\n",
       "    }\n",
       "</style>\n",
       "<table border=\"1\" class=\"dataframe\">\n",
       "  <thead>\n",
       "    <tr style=\"text-align: right;\">\n",
       "      <th></th>\n",
       "      <th>종가</th>\n",
       "    </tr>\n",
       "    <tr>\n",
       "      <th>일자</th>\n",
       "      <th></th>\n",
       "    </tr>\n",
       "  </thead>\n",
       "  <tbody>\n",
       "    <tr>\n",
       "      <th>2019-03-05</th>\n",
       "      <td>15616.000000</td>\n",
       "    </tr>\n",
       "    <tr>\n",
       "      <th>2019-03-06</th>\n",
       "      <td>16975.000000</td>\n",
       "    </tr>\n",
       "    <tr>\n",
       "      <th>2019-03-07</th>\n",
       "      <td>17296.000000</td>\n",
       "    </tr>\n",
       "    <tr>\n",
       "      <th>2019-03-08</th>\n",
       "      <td>17271.000000</td>\n",
       "    </tr>\n",
       "    <tr>\n",
       "      <th>2019-03-11</th>\n",
       "      <td>17098.000000</td>\n",
       "    </tr>\n",
       "    <tr>\n",
       "      <th>...</th>\n",
       "      <td>...</td>\n",
       "    </tr>\n",
       "    <tr>\n",
       "      <th>2022-06-20</th>\n",
       "      <td>130090.000000</td>\n",
       "    </tr>\n",
       "    <tr>\n",
       "      <th>2022-06-21</th>\n",
       "      <td>131118.000000</td>\n",
       "    </tr>\n",
       "    <tr>\n",
       "      <th>2022-06-22</th>\n",
       "      <td>130867.000000</td>\n",
       "    </tr>\n",
       "    <tr>\n",
       "      <th>2022-06-23</th>\n",
       "      <td>118132.000000</td>\n",
       "    </tr>\n",
       "    <tr>\n",
       "      <th>2022-06-24</th>\n",
       "      <td>118168.103665</td>\n",
       "    </tr>\n",
       "  </tbody>\n",
       "</table>\n",
       "<p>819 rows × 1 columns</p>\n",
       "</div>"
      ],
      "text/plain": [
       "                       종가\n",
       "일자                       \n",
       "2019-03-05   15616.000000\n",
       "2019-03-06   16975.000000\n",
       "2019-03-07   17296.000000\n",
       "2019-03-08   17271.000000\n",
       "2019-03-11   17098.000000\n",
       "...                   ...\n",
       "2022-06-20  130090.000000\n",
       "2022-06-21  131118.000000\n",
       "2022-06-22  130867.000000\n",
       "2022-06-23  118132.000000\n",
       "2022-06-24  118168.103665\n",
       "\n",
       "[819 rows x 1 columns]"
      ]
     },
     "execution_count": 104,
     "metadata": {},
     "output_type": "execute_result"
    }
   ],
   "source": [
    "fcs = []\n",
    "fc = eco_res.forecast(steps = 1)\n",
    "fcs.append(fc.iloc[0])\n",
    "j=0\n",
    "tmpdf = pd.DataFrame(data=fcs, index=eco_real.index[j:(j+1)], columns=['종가'])\n",
    "eco_v_tmp = pd.concat([eco_v, tmpdf], axis=0)\n",
    "eco_v_tmp"
   ]
  },
  {
   "cell_type": "code",
   "execution_count": 26,
   "metadata": {},
   "outputs": [
    {
     "data": {
      "text/html": [
       "<div>\n",
       "<style scoped>\n",
       "    .dataframe tbody tr th:only-of-type {\n",
       "        vertical-align: middle;\n",
       "    }\n",
       "\n",
       "    .dataframe tbody tr th {\n",
       "        vertical-align: top;\n",
       "    }\n",
       "\n",
       "    .dataframe thead th {\n",
       "        text-align: right;\n",
       "    }\n",
       "</style>\n",
       "<table border=\"1\" class=\"dataframe\">\n",
       "  <thead>\n",
       "    <tr style=\"text-align: right;\">\n",
       "      <th></th>\n",
       "      <th>종가</th>\n",
       "    </tr>\n",
       "  </thead>\n",
       "  <tbody>\n",
       "    <tr>\n",
       "      <th>2022-06-02</th>\n",
       "      <td>126154</td>\n",
       "    </tr>\n",
       "  </tbody>\n",
       "</table>\n",
       "</div>"
      ],
      "text/plain": [
       "                종가\n",
       "2022-06-02  126154"
      ]
     },
     "execution_count": 26,
     "metadata": {},
     "output_type": "execute_result"
    }
   ],
   "source": [
    "x = pd.DataFrame(eco_real.iloc[0])\n",
    "x = x.T\n",
    "x"
   ]
  },
  {
   "cell_type": "code",
   "execution_count": 105,
   "metadata": {},
   "outputs": [
    {
     "name": "stderr",
     "output_type": "stream",
     "text": [
      "C:\\Users\\Kimbeomjoon.DESKTOP-5T6FIPU\\AppData\\Roaming\\Python\\Python39\\site-packages\\statsmodels\\tsa\\base\\tsa_model.py:834: ValueWarning: No supported index is available. Prediction results will be given with an integer index beginning at `start`.\n",
      "  return get_prediction_index(\n"
     ]
    },
    {
     "data": {
      "text/plain": [
       "[118168.10366504361,\n",
       " 116204.18119580582,\n",
       " 115506.77507601933,\n",
       " 115259.12003691566,\n",
       " 115171.17555714508,\n",
       " 115139.94569988028,\n",
       " 115128.85570324463,\n",
       " 115124.91754802554,\n",
       " 115123.51907451476,\n",
       " 115123.02246428699,\n",
       " 115122.84611363291,\n",
       " 115122.7834899666,\n",
       " 115122.76125175261,\n",
       " 115122.75335476748,\n",
       " 115122.7505504787,\n",
       " 115122.74955465112,\n",
       " 115122.749201024,\n",
       " 115122.7490754479,\n",
       " 115122.74903085471,\n",
       " 115122.74901501929]"
      ]
     },
     "execution_count": 105,
     "metadata": {},
     "output_type": "execute_result"
    }
   ],
   "source": [
    "F=[]\n",
    "FC=eco_res.forecast(steps=20)\n",
    "for k in range(20):\n",
    "    F.append(FC.iloc[k])\n",
    "F"
   ]
  },
  {
   "cell_type": "code",
   "execution_count": 106,
   "metadata": {},
   "outputs": [],
   "source": [
    "fcvs=[]"
   ]
  },
  {
   "cell_type": "code",
   "execution_count": 107,
   "metadata": {},
   "outputs": [],
   "source": [
    "def forecaster(Order, res, real, values):\n",
    "    fcvs = []\n",
    "    d = 115 % 20\n",
    "    m = 115 - d\n",
    "    for i in range(115 // 20):\n",
    "        fcv = res.forecast(steps=20) # res : res = X.fit()했을 때 res \n",
    "        for j in range(20):\n",
    "            fcvs.append(fcv.iloc[j])\n",
    "        tmpdf = pd.DataFrame(real.iloc[(i*20):(i+1)*20]) # real : 2022년 6월 이후의 데이터 / eco_v = eco_data.iloc[918:115:-1, 0:2] \\n eco_v = eco_v.set_index('일자')\n",
    "        values = pd.concat([values, tmpdf], axis=0)\n",
    "        model_tmp = sm.tsa.ARIMA(values, order=Order)\n",
    "        res = model_tmp.fit()\n",
    "    fcv = res.forecast(steps=d)\n",
    "    for j in range(d):\n",
    "        fcvs.append(fcv.iloc[j])\n",
    "    tmpdf = pd.DataFrame(real.iloc[m:116])\n",
    "    model_tmp = sm.tsa.ARIMA(values, order=Order)\n",
    "    res = model_tmp.fit()\n",
    "    return fcvs, res"
   ]
  },
  {
   "cell_type": "code",
   "execution_count": 108,
   "metadata": {},
   "outputs": [
    {
     "name": "stderr",
     "output_type": "stream",
     "text": [
      "C:\\Users\\Kimbeomjoon.DESKTOP-5T6FIPU\\AppData\\Roaming\\Python\\Python39\\site-packages\\statsmodels\\tsa\\base\\tsa_model.py:834: ValueWarning: No supported index is available. Prediction results will be given with an integer index beginning at `start`.\n",
      "  return get_prediction_index(\n",
      "C:\\Users\\Kimbeomjoon.DESKTOP-5T6FIPU\\AppData\\Roaming\\Python\\Python39\\site-packages\\statsmodels\\tsa\\base\\tsa_model.py:471: ValueWarning: A date index has been provided, but it has no associated frequency information and so will be ignored when e.g. forecasting.\n",
      "  self._init_dates(dates, freq)\n",
      "C:\\Users\\Kimbeomjoon.DESKTOP-5T6FIPU\\AppData\\Roaming\\Python\\Python39\\site-packages\\statsmodels\\tsa\\base\\tsa_model.py:471: ValueWarning: A date index has been provided, but it has no associated frequency information and so will be ignored when e.g. forecasting.\n",
      "  self._init_dates(dates, freq)\n",
      "C:\\Users\\Kimbeomjoon.DESKTOP-5T6FIPU\\AppData\\Roaming\\Python\\Python39\\site-packages\\statsmodels\\tsa\\base\\tsa_model.py:471: ValueWarning: A date index has been provided, but it has no associated frequency information and so will be ignored when e.g. forecasting.\n",
      "  self._init_dates(dates, freq)\n",
      "C:\\Users\\Kimbeomjoon.DESKTOP-5T6FIPU\\AppData\\Roaming\\Python\\Python39\\site-packages\\statsmodels\\tsa\\base\\tsa_model.py:834: ValueWarning: No supported index is available. Prediction results will be given with an integer index beginning at `start`.\n",
      "  return get_prediction_index(\n",
      "C:\\Users\\Kimbeomjoon.DESKTOP-5T6FIPU\\AppData\\Roaming\\Python\\Python39\\site-packages\\statsmodels\\tsa\\base\\tsa_model.py:471: ValueWarning: A date index has been provided, but it has no associated frequency information and so will be ignored when e.g. forecasting.\n",
      "  self._init_dates(dates, freq)\n",
      "C:\\Users\\Kimbeomjoon.DESKTOP-5T6FIPU\\AppData\\Roaming\\Python\\Python39\\site-packages\\statsmodels\\tsa\\base\\tsa_model.py:471: ValueWarning: A date index has been provided, but it has no associated frequency information and so will be ignored when e.g. forecasting.\n",
      "  self._init_dates(dates, freq)\n",
      "C:\\Users\\Kimbeomjoon.DESKTOP-5T6FIPU\\AppData\\Roaming\\Python\\Python39\\site-packages\\statsmodels\\tsa\\base\\tsa_model.py:471: ValueWarning: A date index has been provided, but it has no associated frequency information and so will be ignored when e.g. forecasting.\n",
      "  self._init_dates(dates, freq)\n",
      "C:\\Users\\Kimbeomjoon.DESKTOP-5T6FIPU\\AppData\\Roaming\\Python\\Python39\\site-packages\\statsmodels\\tsa\\base\\tsa_model.py:834: ValueWarning: No supported index is available. Prediction results will be given with an integer index beginning at `start`.\n",
      "  return get_prediction_index(\n",
      "C:\\Users\\Kimbeomjoon.DESKTOP-5T6FIPU\\AppData\\Roaming\\Python\\Python39\\site-packages\\statsmodels\\tsa\\base\\tsa_model.py:471: ValueWarning: A date index has been provided, but it has no associated frequency information and so will be ignored when e.g. forecasting.\n",
      "  self._init_dates(dates, freq)\n",
      "C:\\Users\\Kimbeomjoon.DESKTOP-5T6FIPU\\AppData\\Roaming\\Python\\Python39\\site-packages\\statsmodels\\tsa\\base\\tsa_model.py:471: ValueWarning: A date index has been provided, but it has no associated frequency information and so will be ignored when e.g. forecasting.\n",
      "  self._init_dates(dates, freq)\n",
      "C:\\Users\\Kimbeomjoon.DESKTOP-5T6FIPU\\AppData\\Roaming\\Python\\Python39\\site-packages\\statsmodels\\tsa\\base\\tsa_model.py:471: ValueWarning: A date index has been provided, but it has no associated frequency information and so will be ignored when e.g. forecasting.\n",
      "  self._init_dates(dates, freq)\n",
      "C:\\Users\\Kimbeomjoon.DESKTOP-5T6FIPU\\AppData\\Roaming\\Python\\Python39\\site-packages\\statsmodels\\tsa\\base\\tsa_model.py:834: ValueWarning: No supported index is available. Prediction results will be given with an integer index beginning at `start`.\n",
      "  return get_prediction_index(\n",
      "C:\\Users\\Kimbeomjoon.DESKTOP-5T6FIPU\\AppData\\Roaming\\Python\\Python39\\site-packages\\statsmodels\\tsa\\base\\tsa_model.py:471: ValueWarning: A date index has been provided, but it has no associated frequency information and so will be ignored when e.g. forecasting.\n",
      "  self._init_dates(dates, freq)\n",
      "C:\\Users\\Kimbeomjoon.DESKTOP-5T6FIPU\\AppData\\Roaming\\Python\\Python39\\site-packages\\statsmodels\\tsa\\base\\tsa_model.py:471: ValueWarning: A date index has been provided, but it has no associated frequency information and so will be ignored when e.g. forecasting.\n",
      "  self._init_dates(dates, freq)\n",
      "C:\\Users\\Kimbeomjoon.DESKTOP-5T6FIPU\\AppData\\Roaming\\Python\\Python39\\site-packages\\statsmodels\\tsa\\base\\tsa_model.py:471: ValueWarning: A date index has been provided, but it has no associated frequency information and so will be ignored when e.g. forecasting.\n",
      "  self._init_dates(dates, freq)\n",
      "C:\\Users\\Kimbeomjoon.DESKTOP-5T6FIPU\\AppData\\Roaming\\Python\\Python39\\site-packages\\statsmodels\\tsa\\base\\tsa_model.py:834: ValueWarning: No supported index is available. Prediction results will be given with an integer index beginning at `start`.\n",
      "  return get_prediction_index(\n",
      "C:\\Users\\Kimbeomjoon.DESKTOP-5T6FIPU\\AppData\\Roaming\\Python\\Python39\\site-packages\\statsmodels\\tsa\\base\\tsa_model.py:471: ValueWarning: A date index has been provided, but it has no associated frequency information and so will be ignored when e.g. forecasting.\n",
      "  self._init_dates(dates, freq)\n",
      "C:\\Users\\Kimbeomjoon.DESKTOP-5T6FIPU\\AppData\\Roaming\\Python\\Python39\\site-packages\\statsmodels\\tsa\\base\\tsa_model.py:471: ValueWarning: A date index has been provided, but it has no associated frequency information and so will be ignored when e.g. forecasting.\n",
      "  self._init_dates(dates, freq)\n",
      "C:\\Users\\Kimbeomjoon.DESKTOP-5T6FIPU\\AppData\\Roaming\\Python\\Python39\\site-packages\\statsmodels\\tsa\\base\\tsa_model.py:471: ValueWarning: A date index has been provided, but it has no associated frequency information and so will be ignored when e.g. forecasting.\n",
      "  self._init_dates(dates, freq)\n",
      "C:\\Users\\Kimbeomjoon.DESKTOP-5T6FIPU\\AppData\\Roaming\\Python\\Python39\\site-packages\\statsmodels\\tsa\\statespace\\sarimax.py:966: UserWarning: Non-stationary starting autoregressive parameters found. Using zeros as starting parameters.\n",
      "  warn('Non-stationary starting autoregressive parameters'\n",
      "C:\\Users\\Kimbeomjoon.DESKTOP-5T6FIPU\\AppData\\Roaming\\Python\\Python39\\site-packages\\statsmodels\\tsa\\statespace\\sarimax.py:978: UserWarning: Non-invertible starting MA parameters found. Using zeros as starting parameters.\n",
      "  warn('Non-invertible starting MA parameters found.'\n",
      "C:\\Users\\Kimbeomjoon.DESKTOP-5T6FIPU\\AppData\\Roaming\\Python\\Python39\\site-packages\\statsmodels\\tsa\\base\\tsa_model.py:834: ValueWarning: No supported index is available. Prediction results will be given with an integer index beginning at `start`.\n",
      "  return get_prediction_index(\n",
      "C:\\Users\\Kimbeomjoon.DESKTOP-5T6FIPU\\AppData\\Roaming\\Python\\Python39\\site-packages\\statsmodels\\tsa\\base\\tsa_model.py:471: ValueWarning: A date index has been provided, but it has no associated frequency information and so will be ignored when e.g. forecasting.\n",
      "  self._init_dates(dates, freq)\n",
      "C:\\Users\\Kimbeomjoon.DESKTOP-5T6FIPU\\AppData\\Roaming\\Python\\Python39\\site-packages\\statsmodels\\tsa\\base\\tsa_model.py:471: ValueWarning: A date index has been provided, but it has no associated frequency information and so will be ignored when e.g. forecasting.\n",
      "  self._init_dates(dates, freq)\n",
      "C:\\Users\\Kimbeomjoon.DESKTOP-5T6FIPU\\AppData\\Roaming\\Python\\Python39\\site-packages\\statsmodels\\tsa\\base\\tsa_model.py:471: ValueWarning: A date index has been provided, but it has no associated frequency information and so will be ignored when e.g. forecasting.\n",
      "  self._init_dates(dates, freq)\n"
     ]
    },
    {
     "name": "stdout",
     "output_type": "stream",
     "text": [
      "                               SARIMAX Results                                \n",
      "==============================================================================\n",
      "Dep. Variable:                     종가   No. Observations:                  933\n",
      "Model:                 ARIMA(2, 1, 2)   Log Likelihood               -8580.060\n",
      "Date:                Sun, 11 Dec 2022   AIC                          17170.120\n",
      "Time:                        13:57:13   BIC                          17194.307\n",
      "Sample:                             0   HQIC                         17179.344\n",
      "                                - 933                                         \n",
      "Covariance Type:                  opg                                         \n",
      "==============================================================================\n",
      "                 coef    std err          z      P>|z|      [0.025      0.975]\n",
      "------------------------------------------------------------------------------\n",
      "ar.L1         -0.5813      0.037    -15.502      0.000      -0.655      -0.508\n",
      "ar.L2         -0.9164      0.035    -26.522      0.000      -0.984      -0.849\n",
      "ma.L1          0.5492      0.037     14.893      0.000       0.477       0.621\n",
      "ma.L2          0.9262      0.033     27.699      0.000       0.861       0.992\n",
      "sigma2      5.879e+06   1.27e+05     46.241      0.000    5.63e+06    6.13e+06\n",
      "===================================================================================\n",
      "Ljung-Box (L1) (Q):                   2.00   Jarque-Bera (JB):              2890.42\n",
      "Prob(Q):                              0.16   Prob(JB):                         0.00\n",
      "Heteroskedasticity (H):              38.53   Skew:                            -0.19\n",
      "Prob(H) (two-sided):                  0.00   Kurtosis:                        11.62\n",
      "===================================================================================\n",
      "\n",
      "Warnings:\n",
      "[1] Covariance matrix calculated using the outer product of gradients (complex-step).\n"
     ]
    }
   ],
   "source": [
    "fcvs = []\n",
    "d = 115 % 20\n",
    "m = 115 - d\n",
    "for i in range(115 // 20):\n",
    "    fcv = eco_res.forecast(steps=20)\n",
    "    for j in range(20):\n",
    "        fcvs.append(fcv.iloc[j])\n",
    "    tmpdf = pd.DataFrame(eco_real.iloc[(i*20):(i+1)*20])\n",
    "    eco_v = pd.concat([eco_v, tmpdf], axis=0)\n",
    "    eco_model_tmp = sm.tsa.ARIMA(eco_v, order=(2, 1, 2))\n",
    "    eco_res = eco_model_tmp.fit()\n",
    "\n",
    "fcv = eco_res.forecast(steps=d)\n",
    "for j in range(d):\n",
    "    fcvs.append(fcv.iloc[j])\n",
    "tmpdf = pd.DataFrame(eco_real.iloc[m:116])\n",
    "eco_v = pd.concat([eco_v, tmpdf], axis=0)\n",
    "eco_model_tmp = sm.tsa.ARIMA(eco_v, order=(2, 1, 2))\n",
    "eco_res = eco_model_tmp.fit()\n",
    "print(eco_res.summary())"
   ]
  },
  {
   "cell_type": "code",
   "execution_count": 31,
   "metadata": {},
   "outputs": [
    {
     "name": "stderr",
     "output_type": "stream",
     "text": [
      "C:\\Users\\Kimbeomjoon.DESKTOP-5T6FIPU\\AppData\\Roaming\\Python\\Python39\\site-packages\\statsmodels\\tsa\\base\\tsa_model.py:834: ValueWarning: No supported index is available. Prediction results will be given with an integer index beginning at `start`.\n",
      "  return get_prediction_index(\n",
      "C:\\Users\\Kimbeomjoon.DESKTOP-5T6FIPU\\AppData\\Roaming\\Python\\Python39\\site-packages\\statsmodels\\tsa\\base\\tsa_model.py:471: ValueWarning: A date index has been provided, but it has no associated frequency information and so will be ignored when e.g. forecasting.\n",
      "  self._init_dates(dates, freq)\n",
      "C:\\Users\\Kimbeomjoon.DESKTOP-5T6FIPU\\AppData\\Roaming\\Python\\Python39\\site-packages\\statsmodels\\tsa\\base\\tsa_model.py:471: ValueWarning: A date index has been provided, but it is not monotonic and so will be ignored when e.g. forecasting.\n",
      "  self._init_dates(dates, freq)\n",
      "C:\\Users\\Kimbeomjoon.DESKTOP-5T6FIPU\\AppData\\Roaming\\Python\\Python39\\site-packages\\statsmodels\\tsa\\base\\tsa_model.py:471: ValueWarning: A date index has been provided, but it has no associated frequency information and so will be ignored when e.g. forecasting.\n",
      "  self._init_dates(dates, freq)\n",
      "C:\\Users\\Kimbeomjoon.DESKTOP-5T6FIPU\\AppData\\Roaming\\Python\\Python39\\site-packages\\statsmodels\\tsa\\base\\tsa_model.py:471: ValueWarning: A date index has been provided, but it is not monotonic and so will be ignored when e.g. forecasting.\n",
      "  self._init_dates(dates, freq)\n",
      "C:\\Users\\Kimbeomjoon.DESKTOP-5T6FIPU\\AppData\\Roaming\\Python\\Python39\\site-packages\\statsmodels\\tsa\\base\\tsa_model.py:471: ValueWarning: A date index has been provided, but it has no associated frequency information and so will be ignored when e.g. forecasting.\n",
      "  self._init_dates(dates, freq)\n",
      "C:\\Users\\Kimbeomjoon.DESKTOP-5T6FIPU\\AppData\\Roaming\\Python\\Python39\\site-packages\\statsmodels\\tsa\\base\\tsa_model.py:471: ValueWarning: A date index has been provided, but it is not monotonic and so will be ignored when e.g. forecasting.\n",
      "  self._init_dates(dates, freq)\n",
      "C:\\Users\\Kimbeomjoon.DESKTOP-5T6FIPU\\AppData\\Roaming\\Python\\Python39\\site-packages\\statsmodels\\tsa\\base\\tsa_model.py:834: ValueWarning: No supported index is available. Prediction results will be given with an integer index beginning at `start`.\n",
      "  return get_prediction_index(\n",
      "C:\\Users\\Kimbeomjoon.DESKTOP-5T6FIPU\\AppData\\Roaming\\Python\\Python39\\site-packages\\statsmodels\\tsa\\base\\tsa_model.py:471: ValueWarning: A date index has been provided, but it has no associated frequency information and so will be ignored when e.g. forecasting.\n",
      "  self._init_dates(dates, freq)\n",
      "C:\\Users\\Kimbeomjoon.DESKTOP-5T6FIPU\\AppData\\Roaming\\Python\\Python39\\site-packages\\statsmodels\\tsa\\base\\tsa_model.py:471: ValueWarning: A date index has been provided, but it is not monotonic and so will be ignored when e.g. forecasting.\n",
      "  self._init_dates(dates, freq)\n",
      "C:\\Users\\Kimbeomjoon.DESKTOP-5T6FIPU\\AppData\\Roaming\\Python\\Python39\\site-packages\\statsmodels\\tsa\\base\\tsa_model.py:471: ValueWarning: A date index has been provided, but it has no associated frequency information and so will be ignored when e.g. forecasting.\n",
      "  self._init_dates(dates, freq)\n",
      "C:\\Users\\Kimbeomjoon.DESKTOP-5T6FIPU\\AppData\\Roaming\\Python\\Python39\\site-packages\\statsmodels\\tsa\\base\\tsa_model.py:471: ValueWarning: A date index has been provided, but it is not monotonic and so will be ignored when e.g. forecasting.\n",
      "  self._init_dates(dates, freq)\n",
      "C:\\Users\\Kimbeomjoon.DESKTOP-5T6FIPU\\AppData\\Roaming\\Python\\Python39\\site-packages\\statsmodels\\tsa\\base\\tsa_model.py:471: ValueWarning: A date index has been provided, but it has no associated frequency information and so will be ignored when e.g. forecasting.\n",
      "  self._init_dates(dates, freq)\n",
      "C:\\Users\\Kimbeomjoon.DESKTOP-5T6FIPU\\AppData\\Roaming\\Python\\Python39\\site-packages\\statsmodels\\tsa\\base\\tsa_model.py:471: ValueWarning: A date index has been provided, but it is not monotonic and so will be ignored when e.g. forecasting.\n",
      "  self._init_dates(dates, freq)\n",
      "C:\\Users\\Kimbeomjoon.DESKTOP-5T6FIPU\\AppData\\Roaming\\Python\\Python39\\site-packages\\statsmodels\\tsa\\statespace\\sarimax.py:966: UserWarning: Non-stationary starting autoregressive parameters found. Using zeros as starting parameters.\n",
      "  warn('Non-stationary starting autoregressive parameters'\n",
      "C:\\Users\\Kimbeomjoon.DESKTOP-5T6FIPU\\AppData\\Roaming\\Python\\Python39\\site-packages\\statsmodels\\tsa\\statespace\\sarimax.py:978: UserWarning: Non-invertible starting MA parameters found. Using zeros as starting parameters.\n",
      "  warn('Non-invertible starting MA parameters found.'\n",
      "C:\\Users\\Kimbeomjoon.DESKTOP-5T6FIPU\\AppData\\Roaming\\Python\\Python39\\site-packages\\statsmodels\\tsa\\base\\tsa_model.py:834: ValueWarning: No supported index is available. Prediction results will be given with an integer index beginning at `start`.\n",
      "  return get_prediction_index(\n",
      "C:\\Users\\Kimbeomjoon.DESKTOP-5T6FIPU\\AppData\\Roaming\\Python\\Python39\\site-packages\\statsmodels\\tsa\\base\\tsa_model.py:471: ValueWarning: A date index has been provided, but it has no associated frequency information and so will be ignored when e.g. forecasting.\n",
      "  self._init_dates(dates, freq)\n",
      "C:\\Users\\Kimbeomjoon.DESKTOP-5T6FIPU\\AppData\\Roaming\\Python\\Python39\\site-packages\\statsmodels\\tsa\\base\\tsa_model.py:471: ValueWarning: A date index has been provided, but it is not monotonic and so will be ignored when e.g. forecasting.\n",
      "  self._init_dates(dates, freq)\n",
      "C:\\Users\\Kimbeomjoon.DESKTOP-5T6FIPU\\AppData\\Roaming\\Python\\Python39\\site-packages\\statsmodels\\tsa\\base\\tsa_model.py:471: ValueWarning: A date index has been provided, but it has no associated frequency information and so will be ignored when e.g. forecasting.\n",
      "  self._init_dates(dates, freq)\n",
      "C:\\Users\\Kimbeomjoon.DESKTOP-5T6FIPU\\AppData\\Roaming\\Python\\Python39\\site-packages\\statsmodels\\tsa\\base\\tsa_model.py:471: ValueWarning: A date index has been provided, but it is not monotonic and so will be ignored when e.g. forecasting.\n",
      "  self._init_dates(dates, freq)\n",
      "C:\\Users\\Kimbeomjoon.DESKTOP-5T6FIPU\\AppData\\Roaming\\Python\\Python39\\site-packages\\statsmodels\\tsa\\base\\tsa_model.py:471: ValueWarning: A date index has been provided, but it has no associated frequency information and so will be ignored when e.g. forecasting.\n",
      "  self._init_dates(dates, freq)\n",
      "C:\\Users\\Kimbeomjoon.DESKTOP-5T6FIPU\\AppData\\Roaming\\Python\\Python39\\site-packages\\statsmodels\\tsa\\base\\tsa_model.py:471: ValueWarning: A date index has been provided, but it is not monotonic and so will be ignored when e.g. forecasting.\n",
      "  self._init_dates(dates, freq)\n",
      "C:\\Users\\Kimbeomjoon.DESKTOP-5T6FIPU\\AppData\\Roaming\\Python\\Python39\\site-packages\\statsmodels\\tsa\\base\\tsa_model.py:834: ValueWarning: No supported index is available. Prediction results will be given with an integer index beginning at `start`.\n",
      "  return get_prediction_index(\n",
      "C:\\Users\\Kimbeomjoon.DESKTOP-5T6FIPU\\AppData\\Roaming\\Python\\Python39\\site-packages\\statsmodels\\tsa\\base\\tsa_model.py:471: ValueWarning: A date index has been provided, but it has no associated frequency information and so will be ignored when e.g. forecasting.\n",
      "  self._init_dates(dates, freq)\n",
      "C:\\Users\\Kimbeomjoon.DESKTOP-5T6FIPU\\AppData\\Roaming\\Python\\Python39\\site-packages\\statsmodels\\tsa\\base\\tsa_model.py:471: ValueWarning: A date index has been provided, but it is not monotonic and so will be ignored when e.g. forecasting.\n",
      "  self._init_dates(dates, freq)\n",
      "C:\\Users\\Kimbeomjoon.DESKTOP-5T6FIPU\\AppData\\Roaming\\Python\\Python39\\site-packages\\statsmodels\\tsa\\base\\tsa_model.py:471: ValueWarning: A date index has been provided, but it has no associated frequency information and so will be ignored when e.g. forecasting.\n",
      "  self._init_dates(dates, freq)\n",
      "C:\\Users\\Kimbeomjoon.DESKTOP-5T6FIPU\\AppData\\Roaming\\Python\\Python39\\site-packages\\statsmodels\\tsa\\base\\tsa_model.py:471: ValueWarning: A date index has been provided, but it is not monotonic and so will be ignored when e.g. forecasting.\n",
      "  self._init_dates(dates, freq)\n",
      "C:\\Users\\Kimbeomjoon.DESKTOP-5T6FIPU\\AppData\\Roaming\\Python\\Python39\\site-packages\\statsmodels\\tsa\\base\\tsa_model.py:471: ValueWarning: A date index has been provided, but it has no associated frequency information and so will be ignored when e.g. forecasting.\n",
      "  self._init_dates(dates, freq)\n",
      "C:\\Users\\Kimbeomjoon.DESKTOP-5T6FIPU\\AppData\\Roaming\\Python\\Python39\\site-packages\\statsmodels\\tsa\\base\\tsa_model.py:471: ValueWarning: A date index has been provided, but it is not monotonic and so will be ignored when e.g. forecasting.\n",
      "  self._init_dates(dates, freq)\n",
      "C:\\Users\\Kimbeomjoon.DESKTOP-5T6FIPU\\AppData\\Roaming\\Python\\Python39\\site-packages\\statsmodels\\tsa\\base\\tsa_model.py:834: ValueWarning: No supported index is available. Prediction results will be given with an integer index beginning at `start`.\n",
      "  return get_prediction_index(\n",
      "C:\\Users\\Kimbeomjoon.DESKTOP-5T6FIPU\\AppData\\Roaming\\Python\\Python39\\site-packages\\statsmodels\\tsa\\base\\tsa_model.py:471: ValueWarning: A date index has been provided, but it has no associated frequency information and so will be ignored when e.g. forecasting.\n",
      "  self._init_dates(dates, freq)\n",
      "C:\\Users\\Kimbeomjoon.DESKTOP-5T6FIPU\\AppData\\Roaming\\Python\\Python39\\site-packages\\statsmodels\\tsa\\base\\tsa_model.py:471: ValueWarning: A date index has been provided, but it is not monotonic and so will be ignored when e.g. forecasting.\n",
      "  self._init_dates(dates, freq)\n",
      "C:\\Users\\Kimbeomjoon.DESKTOP-5T6FIPU\\AppData\\Roaming\\Python\\Python39\\site-packages\\statsmodels\\tsa\\base\\tsa_model.py:471: ValueWarning: A date index has been provided, but it has no associated frequency information and so will be ignored when e.g. forecasting.\n",
      "  self._init_dates(dates, freq)\n",
      "C:\\Users\\Kimbeomjoon.DESKTOP-5T6FIPU\\AppData\\Roaming\\Python\\Python39\\site-packages\\statsmodels\\tsa\\base\\tsa_model.py:471: ValueWarning: A date index has been provided, but it is not monotonic and so will be ignored when e.g. forecasting.\n",
      "  self._init_dates(dates, freq)\n",
      "C:\\Users\\Kimbeomjoon.DESKTOP-5T6FIPU\\AppData\\Roaming\\Python\\Python39\\site-packages\\statsmodels\\tsa\\base\\tsa_model.py:471: ValueWarning: A date index has been provided, but it has no associated frequency information and so will be ignored when e.g. forecasting.\n",
      "  self._init_dates(dates, freq)\n",
      "C:\\Users\\Kimbeomjoon.DESKTOP-5T6FIPU\\AppData\\Roaming\\Python\\Python39\\site-packages\\statsmodels\\tsa\\base\\tsa_model.py:471: ValueWarning: A date index has been provided, but it is not monotonic and so will be ignored when e.g. forecasting.\n",
      "  self._init_dates(dates, freq)\n",
      "C:\\Users\\Kimbeomjoon.DESKTOP-5T6FIPU\\AppData\\Roaming\\Python\\Python39\\site-packages\\statsmodels\\tsa\\base\\tsa_model.py:834: ValueWarning: No supported index is available. Prediction results will be given with an integer index beginning at `start`.\n",
      "  return get_prediction_index(\n",
      "C:\\Users\\Kimbeomjoon.DESKTOP-5T6FIPU\\AppData\\Roaming\\Python\\Python39\\site-packages\\statsmodels\\tsa\\base\\tsa_model.py:471: ValueWarning: A date index has been provided, but it has no associated frequency information and so will be ignored when e.g. forecasting.\n",
      "  self._init_dates(dates, freq)\n",
      "C:\\Users\\Kimbeomjoon.DESKTOP-5T6FIPU\\AppData\\Roaming\\Python\\Python39\\site-packages\\statsmodels\\tsa\\base\\tsa_model.py:471: ValueWarning: A date index has been provided, but it is not monotonic and so will be ignored when e.g. forecasting.\n",
      "  self._init_dates(dates, freq)\n",
      "C:\\Users\\Kimbeomjoon.DESKTOP-5T6FIPU\\AppData\\Roaming\\Python\\Python39\\site-packages\\statsmodels\\tsa\\base\\tsa_model.py:471: ValueWarning: A date index has been provided, but it has no associated frequency information and so will be ignored when e.g. forecasting.\n",
      "  self._init_dates(dates, freq)\n",
      "C:\\Users\\Kimbeomjoon.DESKTOP-5T6FIPU\\AppData\\Roaming\\Python\\Python39\\site-packages\\statsmodels\\tsa\\base\\tsa_model.py:471: ValueWarning: A date index has been provided, but it is not monotonic and so will be ignored when e.g. forecasting.\n",
      "  self._init_dates(dates, freq)\n",
      "C:\\Users\\Kimbeomjoon.DESKTOP-5T6FIPU\\AppData\\Roaming\\Python\\Python39\\site-packages\\statsmodels\\tsa\\base\\tsa_model.py:471: ValueWarning: A date index has been provided, but it has no associated frequency information and so will be ignored when e.g. forecasting.\n",
      "  self._init_dates(dates, freq)\n",
      "C:\\Users\\Kimbeomjoon.DESKTOP-5T6FIPU\\AppData\\Roaming\\Python\\Python39\\site-packages\\statsmodels\\tsa\\base\\tsa_model.py:471: ValueWarning: A date index has been provided, but it is not monotonic and so will be ignored when e.g. forecasting.\n",
      "  self._init_dates(dates, freq)\n"
     ]
    }
   ],
   "source": [
    "fcvs, fres = forecaster(Order=(2, 1, 2), res=eco_res, real=eco_real, values=eco_v)"
   ]
  },
  {
   "cell_type": "code",
   "execution_count": 32,
   "metadata": {},
   "outputs": [
    {
     "data": {
      "text/plain": [
       "[110283.0593164942,\n",
       " 110479.99822778667,\n",
       " 110877.72144413444,\n",
       " 110622.06386196396,\n",
       " 110339.00318655715,\n",
       " 110619.50760784943,\n",
       " 110799.253694355,\n",
       " 110520.30550192419,\n",
       " 110428.37478339659,\n",
       " 110686.65119889613,\n",
       " 110708.20275647048,\n",
       " 110483.06856033915,\n",
       " 110514.27090437511,\n",
       " 110699.50434079832,\n",
       " 110632.076462538,\n",
       " 110488.86999118575,\n",
       " 110577.95141684463,\n",
       " 110680.52653288326,\n",
       " 110581.91838965146,\n",
       " 110516.11247585708,\n",
       " 112437.31550926274,\n",
       " 112677.66303503035,\n",
       " 113407.98079464589,\n",
       " 112492.12847270486,\n",
       " 112708.37451746053,\n",
       " 113329.07061572853,\n",
       " 112539.86822597258,\n",
       " 112734.00729187447,\n",
       " 113261.410491491,\n",
       " 112581.43456614764,\n",
       " 112755.38033313416,\n",
       " 113203.4038698914,\n",
       " 112617.61483218148,\n",
       " 112773.18307660385,\n",
       " 113153.67974341399,\n",
       " 112649.09764459547,\n",
       " 112787.99559454113,\n",
       " 113111.06093163426,\n",
       " 112676.48501700447,\n",
       " 112800.30566952415,\n",
       " 118254.10843842095,\n",
       " 119712.33555868216,\n",
       " 119264.15294932023,\n",
       " 118151.22800032179,\n",
       " 119427.65794077115,\n",
       " 119578.97707787652,\n",
       " 118198.65798595661,\n",
       " 119079.65849118223,\n",
       " 119791.8771889742,\n",
       " 118385.10256372608,\n",
       " 118728.99401840735,\n",
       " 119868.75146358841,\n",
       " 118675.81766557129,\n",
       " 118435.47881232422,\n",
       " 119799.40747267606,\n",
       " 119019.03303817962,\n",
       " 118247.90960166753,\n",
       " 119598.78797144772,\n",
       " 119355.1384697457,\n",
       " 118195.98554592815,\n",
       " 115312.85061811477,\n",
       " 115538.19932753444,\n",
       " 114265.77492894793,\n",
       " 114994.58417218206,\n",
       " 115711.16092968642,\n",
       " 114451.99416456514,\n",
       " 114683.66259716732,\n",
       " 115759.1642364263,\n",
       " 114724.45081827001,\n",
       " 114432.13681845443,\n",
       " 115677.18053345852,\n",
       " 115035.28246059676,\n",
       " 114280.8161050849,\n",
       " 115482.13875947909,\n",
       " 115331.3428278604,\n",
       " 114252.68587304167,\n",
       " 115209.54843613153,\n",
       " 115563.25778711059,\n",
       " 114349.47944876972,\n",
       " 114907.0834114949,\n",
       " 95314.57233256931,\n",
       " 94385.22420309852,\n",
       " 95048.05946395922,\n",
       " 95274.06937162353,\n",
       " 94469.28134191466,\n",
       " 95007.0958747525,\n",
       " 95236.13838362736,\n",
       " 94541.08915217484,\n",
       " 94975.0994420415,\n",
       " 95200.97392390209,\n",
       " 94602.27746459207,\n",
       " 94950.39389481104,\n",
       " 95168.65289548566,\n",
       " 94654.28427024845,\n",
       " 94931.58555492306,\n",
       " 95139.16459621802,\n",
       " 94698.37388504442,\n",
       " 94917.51956123125,\n",
       " 95112.43468844591,\n",
       " 94735.65427543414,\n",
       " 110583.69835515179,\n",
       " 110377.63283132539,\n",
       " 110845.68297905716,\n",
       " 110607.24563608764,\n",
       " 110404.84155492672,\n",
       " 110800.13190946466,\n",
       " 110624.06884430598,\n",
       " 110430.29699593985,\n",
       " 110762.16058271933,\n",
       " 110635.61794094405,\n",
       " 110453.7491928954,\n",
       " 110730.70110571757,\n",
       " 110643.07929841561,\n",
       " 110475.08044145034,\n",
       " 110704.80139613929]"
      ]
     },
     "execution_count": 32,
     "metadata": {},
     "output_type": "execute_result"
    }
   ],
   "source": [
    "fcvs"
   ]
  },
  {
   "cell_type": "code",
   "execution_count": 109,
   "metadata": {},
   "outputs": [
    {
     "data": {
      "text/html": [
       "<div>\n",
       "<style scoped>\n",
       "    .dataframe tbody tr th:only-of-type {\n",
       "        vertical-align: middle;\n",
       "    }\n",
       "\n",
       "    .dataframe tbody tr th {\n",
       "        vertical-align: top;\n",
       "    }\n",
       "\n",
       "    .dataframe thead th {\n",
       "        text-align: right;\n",
       "    }\n",
       "</style>\n",
       "<table border=\"1\" class=\"dataframe\">\n",
       "  <thead>\n",
       "    <tr style=\"text-align: right;\">\n",
       "      <th></th>\n",
       "      <th>0</th>\n",
       "    </tr>\n",
       "    <tr>\n",
       "      <th>일자</th>\n",
       "      <th></th>\n",
       "    </tr>\n",
       "  </thead>\n",
       "  <tbody>\n",
       "    <tr>\n",
       "      <th>2022-06-24</th>\n",
       "      <td>118168.103665</td>\n",
       "    </tr>\n",
       "    <tr>\n",
       "      <th>2022-06-27</th>\n",
       "      <td>116204.181196</td>\n",
       "    </tr>\n",
       "    <tr>\n",
       "      <th>2022-06-28</th>\n",
       "      <td>115506.775076</td>\n",
       "    </tr>\n",
       "    <tr>\n",
       "      <th>2022-06-29</th>\n",
       "      <td>115259.120037</td>\n",
       "    </tr>\n",
       "    <tr>\n",
       "      <th>2022-06-30</th>\n",
       "      <td>115171.175557</td>\n",
       "    </tr>\n",
       "    <tr>\n",
       "      <th>...</th>\n",
       "      <td>...</td>\n",
       "    </tr>\n",
       "    <tr>\n",
       "      <th>2022-12-02</th>\n",
       "      <td>110708.202756</td>\n",
       "    </tr>\n",
       "    <tr>\n",
       "      <th>2022-12-05</th>\n",
       "      <td>110483.068560</td>\n",
       "    </tr>\n",
       "    <tr>\n",
       "      <th>2022-12-06</th>\n",
       "      <td>110514.270904</td>\n",
       "    </tr>\n",
       "    <tr>\n",
       "      <th>2022-12-07</th>\n",
       "      <td>110699.504341</td>\n",
       "    </tr>\n",
       "    <tr>\n",
       "      <th>2022-12-08</th>\n",
       "      <td>110632.076463</td>\n",
       "    </tr>\n",
       "  </tbody>\n",
       "</table>\n",
       "<p>115 rows × 1 columns</p>\n",
       "</div>"
      ],
      "text/plain": [
       "                        0\n",
       "일자                       \n",
       "2022-06-24  118168.103665\n",
       "2022-06-27  116204.181196\n",
       "2022-06-28  115506.775076\n",
       "2022-06-29  115259.120037\n",
       "2022-06-30  115171.175557\n",
       "...                   ...\n",
       "2022-12-02  110708.202756\n",
       "2022-12-05  110483.068560\n",
       "2022-12-06  110514.270904\n",
       "2022-12-07  110699.504341\n",
       "2022-12-08  110632.076463\n",
       "\n",
       "[115 rows x 1 columns]"
      ]
     },
     "execution_count": 109,
     "metadata": {},
     "output_type": "execute_result"
    }
   ],
   "source": [
    "eco_predict_data2 = pd.DataFrame(data=fcvs)\n",
    "eco_predict_data2 = eco_predict_data2.set_index(eco_real.index)\n",
    "eco_predict_data2"
   ]
  },
  {
   "cell_type": "code",
   "execution_count": 110,
   "metadata": {},
   "outputs": [
    {
     "data": {
      "image/png": "[encoded data removed]",
      "text/plain": [
       "<Figure size 2160x720 with 1 Axes>"
      ]
     },
     "metadata": {
      "needs_background": "light"
     },
     "output_type": "display_data"
    }
   ],
   "source": [
    "fig, axes = plt.subplots(1, 1, figsize=(30, 10))\n",
    "#plt.plot(eco_v, label = 'Past_Data')\n",
    "plt.plot(eco_real, label = 'Real_Data')\n",
    "plt.plot(eco_predict_data2, label='Predicted_Data')  # 예측 데이터\n",
    "plt.legend()\n",
    "plt.show()"
   ]
  },
  {
   "cell_type": "code",
   "execution_count": 111,
   "metadata": {},
   "outputs": [
    {
     "data": {
      "image/png": "[encoded data removed]",
      "text/plain": [
       "<Figure size 2160x720 with 1 Axes>"
      ]
     },
     "metadata": {
      "needs_background": "light"
     },
     "output_type": "display_data"
    }
   ],
   "source": [
    "fig, axes = plt.subplots(1, 1, figsize=(30, 10))\n",
    "#plt.plot(eco_v, label = 'Past_Data')\n",
    "plt.plot(eco_real, label = 'Real_Data')\n",
    "plt.plot(eco_predict_data2, label='Predicted_Data')  # 예측 데이터\n",
    "plt.legend()\n",
    "plt.show()"
   ]
  },
  {
   "cell_type": "code",
   "execution_count": 36,
   "metadata": {},
   "outputs": [
    {
     "data": {
      "text/html": [
       "<div>\n",
       "<style scoped>\n",
       "    .dataframe tbody tr th:only-of-type {\n",
       "        vertical-align: middle;\n",
       "    }\n",
       "\n",
       "    .dataframe tbody tr th {\n",
       "        vertical-align: top;\n",
       "    }\n",
       "\n",
       "    .dataframe thead th {\n",
       "        text-align: right;\n",
       "    }\n",
       "</style>\n",
       "<table border=\"1\" class=\"dataframe\">\n",
       "  <thead>\n",
       "    <tr style=\"text-align: right;\">\n",
       "      <th></th>\n",
       "      <th>종가</th>\n",
       "      <th>0</th>\n",
       "    </tr>\n",
       "  </thead>\n",
       "  <tbody>\n",
       "    <tr>\n",
       "      <th>2019-03-05 00:00:00</th>\n",
       "      <td>15616.0</td>\n",
       "      <td>NaN</td>\n",
       "    </tr>\n",
       "    <tr>\n",
       "      <th>2019-03-06 00:00:00</th>\n",
       "      <td>16975.0</td>\n",
       "      <td>NaN</td>\n",
       "    </tr>\n",
       "    <tr>\n",
       "      <th>2019-03-07 00:00:00</th>\n",
       "      <td>17296.0</td>\n",
       "      <td>NaN</td>\n",
       "    </tr>\n",
       "    <tr>\n",
       "      <th>2019-03-08 00:00:00</th>\n",
       "      <td>17271.0</td>\n",
       "      <td>NaN</td>\n",
       "    </tr>\n",
       "    <tr>\n",
       "      <th>2019-03-11 00:00:00</th>\n",
       "      <td>17098.0</td>\n",
       "      <td>NaN</td>\n",
       "    </tr>\n",
       "    <tr>\n",
       "      <th>...</th>\n",
       "      <td>...</td>\n",
       "      <td>...</td>\n",
       "    </tr>\n",
       "    <tr>\n",
       "      <th>2022-05-26 00:00:00</th>\n",
       "      <td>116778.0</td>\n",
       "      <td>NaN</td>\n",
       "    </tr>\n",
       "    <tr>\n",
       "      <th>2022-05-27 00:00:00</th>\n",
       "      <td>117104.0</td>\n",
       "      <td>NaN</td>\n",
       "    </tr>\n",
       "    <tr>\n",
       "      <th>2022-05-30 00:00:00</th>\n",
       "      <td>122644.0</td>\n",
       "      <td>NaN</td>\n",
       "    </tr>\n",
       "    <tr>\n",
       "      <th>2022-05-31 00:00:00</th>\n",
       "      <td>126605.0</td>\n",
       "      <td>NaN</td>\n",
       "    </tr>\n",
       "    <tr>\n",
       "      <th>803</th>\n",
       "      <td>NaN</td>\n",
       "      <td>127905.214851</td>\n",
       "    </tr>\n",
       "  </tbody>\n",
       "</table>\n",
       "<p>804 rows × 2 columns</p>\n",
       "</div>"
      ],
      "text/plain": [
       "                           종가              0\n",
       "2019-03-05 00:00:00   15616.0            NaN\n",
       "2019-03-06 00:00:00   16975.0            NaN\n",
       "2019-03-07 00:00:00   17296.0            NaN\n",
       "2019-03-08 00:00:00   17271.0            NaN\n",
       "2019-03-11 00:00:00   17098.0            NaN\n",
       "...                       ...            ...\n",
       "2022-05-26 00:00:00  116778.0            NaN\n",
       "2022-05-27 00:00:00  117104.0            NaN\n",
       "2022-05-30 00:00:00  122644.0            NaN\n",
       "2022-05-31 00:00:00  126605.0            NaN\n",
       "803                       NaN  127905.214851\n",
       "\n",
       "[804 rows x 2 columns]"
      ]
     },
     "execution_count": 36,
     "metadata": {},
     "output_type": "execute_result"
    }
   ],
   "source": [
    "eco_cp1 = pd.concat([eco_cp, fc], axis = 0)\n",
    "eco_cp1"
   ]
  },
  {
   "cell_type": "markdown",
   "metadata": {},
   "source": [
    "GARCH"
   ]
  },
  {
   "cell_type": "code",
   "execution_count": 156,
   "metadata": {},
   "outputs": [
    {
     "name": "stdout",
     "output_type": "stream",
     "text": [
      "Iteration:      1,   Func. Count:      6,   Neg. LLF: 495352303.0546684\n",
      "Iteration:      2,   Func. Count:     18,   Neg. LLF: 235.73167739960016\n",
      "Iteration:      3,   Func. Count:     26,   Neg. LLF: -738.5096667547389\n",
      "Iteration:      4,   Func. Count:     36,   Neg. LLF: 28149.637984480676\n",
      "Iteration:      5,   Func. Count:     45,   Neg. LLF: -2256.849209994778\n",
      "Iteration:      6,   Func. Count:     51,   Neg. LLF: -2054.2530266291565\n",
      "Iteration:      7,   Func. Count:     59,   Neg. LLF: -2237.8039194185785\n",
      "Iteration:      8,   Func. Count:     67,   Neg. LLF: -2153.190400580394\n",
      "Iteration:      9,   Func. Count:     73,   Neg. LLF: -2278.380110952153\n",
      "Iteration:     10,   Func. Count:     78,   Neg. LLF: -2278.385463667169\n",
      "Iteration:     11,   Func. Count:     83,   Neg. LLF: -2278.3857276104645\n",
      "Iteration:     12,   Func. Count:     88,   Neg. LLF: -2278.3856826693027\n",
      "Optimization terminated successfully    (Exit mode 0)\n",
      "            Current function value: -2278.3857276092235\n",
      "            Iterations: 13\n",
      "            Function evaluations: 98\n",
      "            Gradient evaluations: 12\n",
      "                     Constant Mean - GARCH Model Results                      \n",
      "==============================================================================\n",
      "Dep. Variable:                      y   R-squared:                       0.000\n",
      "Mean Model:             Constant Mean   Adj. R-squared:                  0.000\n",
      "Vol Model:                      GARCH   Log-Likelihood:                2278.39\n",
      "Distribution:                  Normal   AIC:                          -4548.77\n",
      "Method:            Maximum Likelihood   BIC:                          -4529.42\n",
      "                                        No. Observations:                  933\n",
      "Date:                Sun, Dec 11 2022   Df Residuals:                      932\n",
      "Time:                        14:40:00   Df Model:                            1\n",
      "                                  Mean Model                                  \n",
      "==============================================================================\n",
      "                  coef    std err          t      P>|t|       95.0% Conf. Int.\n",
      "------------------------------------------------------------------------------\n",
      "mu         -8.4641e-04  6.082e-04     -1.392      0.164 [-2.039e-03,3.457e-04]\n",
      "                              Volatility Model                              \n",
      "============================================================================\n",
      "                 coef    std err          t      P>|t|      95.0% Conf. Int.\n",
      "----------------------------------------------------------------------------\n",
      "omega      2.3357e-05  2.483e-06      9.408  5.075e-21 [1.849e-05,2.822e-05]\n",
      "alpha[1]       0.0982  3.736e-02      2.628  8.599e-03   [2.495e-02,  0.171]\n",
      "beta[1]        0.8583  3.406e-02     25.199 4.096e-140     [  0.792,  0.925]\n",
      "============================================================================\n",
      "\n",
      "Covariance estimator: robust\n"
     ]
    },
    {
     "name": "stderr",
     "output_type": "stream",
     "text": [
      "c:\\ProgramData\\Anaconda3\\lib\\site-packages\\arch\\univariate\\base.py:309: DataScaleWarning: y is poorly scaled, which may affect convergence of the optimizer when\n",
      "estimating the model parameters. The scale of y is 0.0005131. Parameter\n",
      "estimation work better when this value is between 1 and 1000. The recommended\n",
      "rescaling is 100 * y.\n",
      "\n",
      "This warning can be disabled by either rescaling y before initializing the\n",
      "model or by setting rescale=False.\n",
      "\n",
      "  warnings.warn(\n"
     ]
    }
   ],
   "source": [
    "lotte_arima = pmdarima.auto_arima(lotte_log)\n",
    "lotte_residual = lotte_arima.arima_res_.resid\n",
    "lotte_garch = arch_model(lotte_residual, p=1, q=1)\n",
    "lotte_garch_fitted = lotte_garch.fit()\n",
    "print(lotte_garch_fitted.summary())"
   ]
  },
  {
   "cell_type": "code",
   "execution_count": 157,
   "metadata": {},
   "outputs": [
    {
     "name": "stderr",
     "output_type": "stream",
     "text": [
      "c:\\ProgramData\\Anaconda3\\lib\\site-packages\\arch\\__future__\\_utility.py:11: FutureWarning: \n",
      "The default for reindex is True. After September 2021 this will change to\n",
      "False. Set reindex to True or False to silence this message. Alternatively,\n",
      "you can use the import comment\n",
      "\n",
      "from arch.__future__ import reindexing\n",
      "\n",
      "to globally set reindex to True and silence this warning.\n",
      "\n",
      "  warnings.warn(\n"
     ]
    }
   ],
   "source": [
    "lotte_vol = lotte_garch_fitted.forecast(horizon = 20)"
   ]
  },
  {
   "cell_type": "code",
   "execution_count": 158,
   "metadata": {},
   "outputs": [
    {
     "data": {
      "image/png": "[encoded data removed]",
      "text/plain": [
       "<Figure size 432x288 with 1 Axes>"
      ]
     },
     "metadata": {
      "needs_background": "light"
     },
     "output_type": "display_data"
    }
   ],
   "source": [
    "plt.plot(lotte_vol.variance.values[-1, :])\n",
    "plt.show()"
   ]
  },
  {
   "cell_type": "code",
   "execution_count": 151,
   "metadata": {},
   "outputs": [
    {
     "name": "stdout",
     "output_type": "stream",
     "text": [
      "Iteration:      1,   Func. Count:      6,   Neg. LLF: 647384.1700926473\n",
      "Iteration:      2,   Func. Count:     17,   Neg. LLF: 1604.2648676924236\n",
      "Iteration:      3,   Func. Count:     27,   Neg. LLF: 809701.5350865098\n",
      "Iteration:      4,   Func. Count:     34,   Neg. LLF: -1748.7836262220167\n",
      "Iteration:      5,   Func. Count:     42,   Neg. LLF: -1810.6443380893018\n",
      "Iteration:      6,   Func. Count:     49,   Neg. LLF: -1786.7228492441113\n",
      "Iteration:      7,   Func. Count:     56,   Neg. LLF: -1849.4637161719684\n",
      "Iteration:      8,   Func. Count:     61,   Neg. LLF: -1849.4637120405032\n",
      "Iteration:      9,   Func. Count:     66,   Neg. LLF: -1849.4637186404639\n",
      "Optimization terminated successfully    (Exit mode 0)\n",
      "            Current function value: -1849.4637186399164\n",
      "            Iterations: 10\n",
      "            Function evaluations: 66\n",
      "            Gradient evaluations: 9\n",
      "                     Constant Mean - GARCH Model Results                      \n",
      "==============================================================================\n",
      "Dep. Variable:                      y   R-squared:                       0.000\n",
      "Mean Model:             Constant Mean   Adj. R-squared:                  0.000\n",
      "Vol Model:                      GARCH   Log-Likelihood:                1849.46\n",
      "Distribution:                  Normal   AIC:                          -3690.93\n",
      "Method:            Maximum Likelihood   BIC:                          -3671.57\n",
      "                                        No. Observations:                  933\n",
      "Date:                Sun, Dec 11 2022   Df Residuals:                      932\n",
      "Time:                        14:38:47   Df Model:                            1\n",
      "                                  Mean Model                                  \n",
      "==============================================================================\n",
      "                  coef    std err          t      P>|t|       95.0% Conf. Int.\n",
      "------------------------------------------------------------------------------\n",
      "mu         -6.5169e-05  1.092e-03 -5.968e-02      0.952 [-2.205e-03,2.075e-03]\n",
      "                              Volatility Model                              \n",
      "============================================================================\n",
      "                 coef    std err          t      P>|t|      95.0% Conf. Int.\n",
      "----------------------------------------------------------------------------\n",
      "omega      3.2465e-04  1.125e-04      2.887  3.895e-03 [1.042e-04,5.451e-04]\n",
      "alpha[1]       0.1390  5.570e-02      2.495  1.259e-02   [2.981e-02,  0.248]\n",
      "beta[1]        0.5853      0.112      5.208  1.912e-07     [  0.365,  0.806]\n",
      "============================================================================\n",
      "\n",
      "Covariance estimator: robust\n"
     ]
    },
    {
     "name": "stderr",
     "output_type": "stream",
     "text": [
      "c:\\ProgramData\\Anaconda3\\lib\\site-packages\\arch\\univariate\\base.py:309: DataScaleWarning: y is poorly scaled, which may affect convergence of the optimizer when\n",
      "estimating the model parameters. The scale of y is 0.001162. Parameter\n",
      "estimation work better when this value is between 1 and 1000. The recommended\n",
      "rescaling is 10 * y.\n",
      "\n",
      "This warning can be disabled by either rescaling y before initializing the\n",
      "model or by setting rescale=False.\n",
      "\n",
      "  warnings.warn(\n"
     ]
    }
   ],
   "source": [
    "eco_arima = pmdarima.auto_arima(eco_log)\n",
    "eco_residual = eco_arima.arima_res_.resid\n",
    "eco_garch = arch_model(eco_residual, p=1, q=1)\n",
    "eco_garch_fitted = eco_garch.fit()\n",
    "print(eco_garch_fitted.summary())"
   ]
  },
  {
   "cell_type": "code",
   "execution_count": 152,
   "metadata": {},
   "outputs": [
    {
     "name": "stderr",
     "output_type": "stream",
     "text": [
      "c:\\ProgramData\\Anaconda3\\lib\\site-packages\\arch\\__future__\\_utility.py:11: FutureWarning: \n",
      "The default for reindex is True. After September 2021 this will change to\n",
      "False. Set reindex to True or False to silence this message. Alternatively,\n",
      "you can use the import comment\n",
      "\n",
      "from arch.__future__ import reindexing\n",
      "\n",
      "to globally set reindex to True and silence this warning.\n",
      "\n",
      "  warnings.warn(\n"
     ]
    }
   ],
   "source": [
    "eco_vol = eco_garch_fitted.forecast(horizon = 20)"
   ]
  },
  {
   "cell_type": "code",
   "execution_count": 153,
   "metadata": {},
   "outputs": [
    {
     "data": {
      "text/plain": [
       "h.01    0.000962\n",
       "h.02    0.001022\n",
       "h.03    0.001065\n",
       "h.04    0.001096\n",
       "h.05    0.001118\n",
       "h.06    0.001135\n",
       "h.07    0.001146\n",
       "h.08    0.001155\n",
       "h.09    0.001161\n",
       "h.10    0.001166\n",
       "h.11    0.001169\n",
       "h.12    0.001171\n",
       "h.13    0.001173\n",
       "h.14    0.001174\n",
       "h.15    0.001175\n",
       "h.16    0.001176\n",
       "h.17    0.001176\n",
       "h.18    0.001177\n",
       "h.19    0.001177\n",
       "h.20    0.001177\n",
       "Name: 932, dtype: float64"
      ]
     },
     "execution_count": 153,
     "metadata": {},
     "output_type": "execute_result"
    }
   ],
   "source": [
    "eco_vol.variance.iloc[-1]"
   ]
  },
  {
   "cell_type": "code",
   "execution_count": 154,
   "metadata": {},
   "outputs": [
    {
     "name": "stdout",
     "output_type": "stream",
     "text": [
      "0.0011769414438772287\n"
     ]
    }
   ],
   "source": [
    "print(eco_vol.variance.values[-1, :][19])"
   ]
  },
  {
   "cell_type": "code",
   "execution_count": 155,
   "metadata": {},
   "outputs": [
    {
     "data": {
      "image/png": "[encoded data removed]",
      "text/plain": [
       "<Figure size 432x288 with 1 Axes>"
      ]
     },
     "metadata": {
      "needs_background": "light"
     },
     "output_type": "display_data"
    }
   ],
   "source": [
    "plt.plot(eco_vol.variance.values[-1, :])\n",
    "plt.show()"
   ]
  },
  {
   "cell_type": "code",
   "execution_count": 159,
   "metadata": {},
   "outputs": [
    {
     "data": {
      "text/plain": [
       "array([0.00096236, 0.00102165, 0.0010646 , 0.00109571, 0.00111823,\n",
       "       0.00113455, 0.00114637, 0.00115493, 0.00116113, 0.00116562,\n",
       "       0.00116887, 0.00117122, 0.00117293, 0.00117416, 0.00117506,\n",
       "       0.00117571, 0.00117618, 0.00117652, 0.00117676, 0.00117694])"
      ]
     },
     "execution_count": 159,
     "metadata": {},
     "output_type": "execute_result"
    }
   ],
   "source": [
    "eco_vol.variance.values[-1, :]"
   ]
  },
  {
   "cell_type": "code",
   "execution_count": 177,
   "metadata": {},
   "outputs": [
    {
     "data": {
      "text/plain": [
       "array([-0.0184337 , -0.01405175, -0.02871011,  0.02398196, -0.0047506 ,\n",
       "       -0.00956945,  0.        , -0.03423317,  0.00990107,  0.        ,\n",
       "       -0.01488861, -0.01511364, -0.00508907, -0.01128796, -0.00103252,\n",
       "        0.01027758, -0.01441838,  0.03666398,  0.00498754,  0.00496279,\n",
       "       -0.00496279, -0.00598804, -0.02022314,  0.02122364,  0.03440143,\n",
       "       -0.0145988 ,  0.00488999, -0.05412142,  0.01634357, -0.00101368,\n",
       "       -0.00304723, -0.01434451, -0.01980263,  0.01566612,  0.00516797,\n",
       "        0.00308801,  0.00102722, -0.0092832 ,  0.01133449, -0.00719797,\n",
       "        0.        ,  0.02042972, -0.01939826,  0.05026183, -0.05854346,\n",
       "        0.01853812, -0.01335408, -0.01248715, -0.00104767, -0.07281869,\n",
       "       -0.05087802,  0.02807202,  0.004603  , -0.01387305,  0.03432831,\n",
       "       -0.02390552, -0.00346221,  0.02736773, -0.03200273,  0.00232019,\n",
       "       -0.0034823 ,  0.01041074, -0.020931  , -0.03832804,  0.01694956,\n",
       "        0.02957046, -0.00116618, -0.00937873,  0.00587201,  0.0265758 ,\n",
       "        0.        ,  0.02810753,  0.01212136,  0.00872416, -0.00435256,\n",
       "       -0.00546748,  0.00982005, -0.00653597,  0.0054496 ,  0.00542007,\n",
       "        0.02033243, -0.01925193, -0.03628765, -0.0067416 ,  0.0067416 ,\n",
       "       -0.01580168, -0.01605539, -0.004635  ,  0.03424992, -0.00449945,\n",
       "       -0.01133799, -0.01377749, -0.02221015,  0.        ,  0.        ,\n",
       "       -0.01189075,  0.00477328, -0.01801851,  0.01444068, -0.0132293 ,\n",
       "       -0.0257525 , -0.00248756,  0.00620734,  0.        ,  0.0098523 ,\n",
       "       -0.01980263,  0.00623055, -0.02515856,  0.03135053,  0.00123381,\n",
       "        0.02315765,  0.02145494, -0.02145494,  0.02733385, -0.00234742,\n",
       "        0.0011744 ,  0.03573867,  0.01238057, -0.0260638 , -0.02088243,\n",
       "        0.01973366,  0.        ,  0.0114287 ,  0.02358335,  0.00110926,\n",
       "        0.02733905,  0.01072972,  0.01061581,  0.00105541,  0.02294157,\n",
       "       -0.02188727,  0.0167193 ,  0.01848102, -0.00509945,  0.02124511,\n",
       "       -0.00804024,  0.        , -0.01218289,  0.01821913, -0.01821913,\n",
       "        0.        , -0.00409417,  0.00918843, -0.00305344, -0.00408581,\n",
       "        0.02825617,  0.00990107,  0.02912827, -0.00961546, -0.01951281,\n",
       "        0.00491401,  0.01941809, -0.00481929, -0.01951281, -0.01488861,\n",
       "        0.0295588 ,  0.01923136,  0.0047506 , -0.01913934,  0.01438874,\n",
       "       -0.00477328, -0.00479617,  0.00956945,  0.00947874,  0.06394872,\n",
       "       -0.00888895, -0.01801851,  0.00904984, -0.01818232, -0.01851905,\n",
       "        0.00930239,  0.        , -0.00464038,  0.        ,  0.02752467,\n",
       "       -0.00453516, -0.01373019,  0.00459771, -0.01851905,  0.        ,\n",
       "        0.        , -0.04296604,  0.0145281 ,  0.        , -0.00966191,\n",
       "       -0.00486619,  0.04296604,  0.00930239, -0.02817088,  0.0047506 ,\n",
       "        0.        , -0.02398196,  0.02871011, -0.00947874,  0.03278982,\n",
       "       -0.01860519, -0.01418463, -0.01438874, -0.00484262,  0.01923136,\n",
       "        0.01886848,  0.00930239, -0.01869213,  0.        , -0.00472814,\n",
       "        0.        , -0.01432005,  0.00956945,  0.01886848, -0.00468385,\n",
       "       -0.00470589, -0.00472814,  0.04630457,  0.00900907,  0.00892863,\n",
       "        0.0176216 ,  0.01731645, -0.03050345, -0.01785762,  0.00449439,\n",
       "       -0.02727442, -0.05688737,  0.02884815, -0.01432005, -0.0145281 ,\n",
       "        0.0335763 , -0.02871011,  0.        ,  0.06119556, -0.00917438,\n",
       "       -0.01392134,  0.01392134,  0.01826535, -0.00453516, -0.01373019,\n",
       "        0.02278003, -0.03203935,  0.00464038, -0.05226843,  0.00970881,\n",
       "       -0.06589209,  0.041441  , -0.01095083, -0.0263707 , -0.0313178 ,\n",
       "        0.00317629, -0.00529943,  0.03138333,  0.02139664, -0.00201816,\n",
       "       -0.02247286,  0.04247352, -0.02202291, -0.02251886, -0.00311042,\n",
       "        0.04268941,  0.04380262, -0.02898754, -0.00491401,  0.00491401,\n",
       "       -0.07425881,  0.02708499,  0.08091196, -0.00952388,  0.0375631 ,\n",
       "        0.00459771,  0.05358425, -0.04445176,  0.04009446,  0.03433814,\n",
       "        0.0250013 , -0.01659789,  0.00417537, -0.04255961, -0.01754431,\n",
       "        0.00881063,  0.04711792, -0.00419288, -0.01268516, -0.02586351,\n",
       "       -0.0176216 ,  0.05195974,  0.04939276, -0.02439145, -0.00826451,\n",
       "        0.0205346 ,  0.00809721, -0.02449102,  0.02045061,  0.00404041,\n",
       "        0.        , -0.00404041,  0.02004075,  0.02739897,  0.0304206 ,\n",
       "        0.04754094, -0.07796154, -0.00775198,  0.01926842, -0.01538492,\n",
       "        0.02677024,  0.05862484, -0.04736769, -0.01125715, -0.01904819,\n",
       "        0.01526747,  0.00754721, -0.01134228, -0.00380953, -0.01151644,\n",
       "        0.00769235, -0.00769235,  0.00769235,  0.02646657,  0.01848481,\n",
       "        0.0072993 , -0.07159365,  0.01550419,  0.04879016, -0.01848481,\n",
       "        0.0037244 ,  0.        ,  0.02205972, -0.00364299, -0.01841673,\n",
       "        0.01841673,  0.01449301, -0.03663413,  0.01848481,  0.01092907,\n",
       "        0.01438874,  0.04538301, -0.00684934,  0.00343054,  0.03035646,\n",
       "       -0.0235305 ,  0.        , -0.02758796, -0.05756985,  0.01470615,\n",
       "        0.00727276, -0.01092907,  0.02173999, -0.03278982, -0.00743498,\n",
       "       -0.00749067, -0.00754721,  0.01876228, -0.0037244 , -0.00373832,\n",
       "        0.00373832,  0.00743498,  0.01834914,  0.        ,  0.01801851,\n",
       "        0.03509132,  0.01029169, -0.01029169,  0.03056265,  0.05212907,\n",
       "        0.00316957, -0.0453152 ,  0.00988476, -0.00988476, -0.02006756,\n",
       "        0.01342302, -0.01680712, -0.02401488, -0.00347826, -0.0034904 ,\n",
       "       -0.01763714, -0.00714289, -0.00359067, -0.01449301, -0.01470615,\n",
       "        0.        ,  0.02197891, -0.00727276,  0.01449301,  0.01073356,\n",
       "       -0.0179538 ,  0.00722025,  0.00716849,  0.04879016,  0.02020271,\n",
       "       -0.02702867, -0.0636257 , -0.02214113, -0.04580954,  0.        ,\n",
       "        0.03831886, -0.01515181,  0.01890415,  0.00373832, -0.01503788,\n",
       "       -0.01526747, -0.01550419,  0.00778214, -0.00778214,  0.        ,\n",
       "       -0.01178796,  0.0156866 ,  0.0038835 , -0.01562532, -0.02390552,\n",
       "       -0.00809721, -0.03727139, -0.02132277, -0.00431966,  0.00431966,\n",
       "       -0.06684002,  0.02278003,  0.01785762,  0.04329681,  0.01680712,\n",
       "       -0.02105341,  0.02105341, -0.02531781, -0.00858374,  0.        ,\n",
       "       -0.03063697,  0.        ,  0.01324523,  0.08408312,  0.        ,\n",
       "       -0.02449102,  0.        , -0.01666705,  0.        ,  0.        ,\n",
       "        0.        , -0.00421053,  0.01673679, -0.01252626,  0.02079077,\n",
       "       -0.00412372, -0.00414079, -0.00833338,  0.02070467, -0.00410678,\n",
       "        0.03636764,  0.04652002, -0.03468556, -0.00392928,  0.01949379,\n",
       "       -0.01165062, -0.01178796, -0.03622126,  0.02028467,  0.00400802,\n",
       "       -0.01612938, -0.00407333,  0.01217054, -0.00809721,  0.00809721,\n",
       "        0.00402415, -0.00806456,  0.03187521, -0.04000533, -0.01646128,\n",
       "        0.01237129,  0.01222011, -0.01632689, -0.0250013 ,  0.01673679,\n",
       "       -0.00415801,  0.00415801,  0.00826451,  0.03636764, -0.02409755,\n",
       "        0.0040568 , -0.0040568 , -0.02469261,  0.02469261,  0.0201214 ,\n",
       "       -0.02419473, -0.03319807,  0.0250013 ,  0.00410678,  0.03622126,\n",
       "       -0.01192857, -0.01207258,  0.0627657 ,  0.05546708, -0.02550229,\n",
       "        0.00368325, -0.03745756,  0.01890415, -0.04598511,  0.05344783,\n",
       "       -0.04563529,  0.01544432,  0.00763362,  0.00379507, -0.02298952,\n",
       "       -0.00778214, -0.00784318,  0.02334736,  0.02656703,  0.01855341,\n",
       "       -0.00738011,  0.00369686, -0.02238899, -0.01904819, -0.00385357,\n",
       "       -0.01165062,  0.01165062, -0.00386848,  0.        , -0.0038835 ,\n",
       "        0.02307795,  0.00379507, -0.0076046 , -0.00766287,  0.        ,\n",
       "        0.00383878, -0.00383878,  0.00383878, -0.02325686,  0.0039139 ,\n",
       "       -0.0039139 ,  0.        ,  0.        , -0.03593201, -0.0205346 ,\n",
       "        0.01237129, -0.00410678, -0.00826451,  0.        , -0.00833338,\n",
       "        0.00833338,  0.        , -0.02521142,  0.        , -0.0042644 ,\n",
       "       -0.02159911,  0.        ,  0.03854867,  0.01252626,  0.01646128,\n",
       "        0.00813013, -0.02045061,  0.0082305 , -0.0082305 , -0.01247417,\n",
       "        0.        , -0.00840341, -0.00422834,  0.        ,  0.01263175,\n",
       "        0.01659789, -0.00826451, -0.01673679,  0.00840341,  0.01247417,\n",
       "       -0.02087759,  0.        ,  0.00421053,  0.00419288, -0.00840341,\n",
       "       -0.00847463,  0.00847463, -0.00847463,  0.02935221, -0.0082988 ,\n",
       "       -0.01257878, -0.00422834,  0.01263175, -0.00840341,  0.        ,\n",
       "        0.        ,  0.01673679, -0.00415801, -0.00836825, -0.00421053,\n",
       "        0.        ,  0.01673679, -0.00833338,  0.00417537,  0.0165293 ,\n",
       "       -0.0165293 , -0.01257878, -0.01273903,  0.00851069,  0.        ,\n",
       "        0.        ,  0.03333642, -0.01237129, -0.01252626,  0.        ,\n",
       "       -0.00421053,  0.00421053, -0.00421053, -0.00847463,  0.        ,\n",
       "       -0.0042644 ,  0.01694956, -0.01268516,  0.        ,  0.00424629,\n",
       "        0.01680712,  0.        , -0.00836825, -0.00843887, -0.00424629,\n",
       "        0.        ,  0.        , -0.00854706, -0.00430108,  0.01284814,\n",
       "       -0.0171678 ,  0.03404584,  0.00417537,  0.04879016, -0.00796817,\n",
       "        0.        , -0.00803217,  0.02390552, -0.00394478,  0.00394478,\n",
       "       -0.00790518, -0.00796817,  0.        , -0.00803217,  0.00803217,\n",
       "       -0.00803217, -0.00404041,  0.        ,  0.00806456,  0.03937517,\n",
       "       -0.03536714,  0.00796817, -0.01600034, -0.01626052,  0.        ,\n",
       "       -0.01237129, -0.02521142,  0.        , -0.01284814, -0.00865806,\n",
       "        0.        ,  0.0257525 , -0.00851069, -0.00858374,  0.00858374,\n",
       "        0.02531781, -0.00836825, -0.01268516,  0.01687804,  0.04499737,\n",
       "        0.        ,  0.00399202, -0.01202419, -0.00404041, -0.0245914 ,\n",
       "       -0.01252626, -0.00843887,  0.01680712, -0.00417537, -0.01687804,\n",
       "        0.        , -0.01284814, -0.00431966, -0.00869571, -0.0176216 ,\n",
       "       -0.0179377 , -0.00453516,  0.00453516, -0.02288429,  0.00461895,\n",
       "       -0.02331108, -0.00472814,  0.00472814,  0.02790879, -0.02790879,\n",
       "       -0.00947874, -0.00477328, -0.01445808, -0.05898761,  0.02942881,\n",
       "        0.00498754,  0.00496279, -0.00496279,  0.01970507, -0.01474228,\n",
       "        0.01474228, -0.00488999,  0.02421426,  0.02830378,  0.        ,\n",
       "        0.00925933,  0.01373019,  0.        , -0.00455582, -0.03248546,\n",
       "       -0.00947874,  0.        , -0.00956945,  0.01432005,  0.        ,\n",
       "       -0.01913934,  0.00481929, -0.0145281 ,  0.        , -0.00488999,\n",
       "        0.03846628,  0.00938974, -0.01886848,  0.00947874,  0.00938974,\n",
       "       -0.00938974, -0.02386748, -0.0145988 ,  0.        ,  0.        ,\n",
       "        0.        ,  0.        , -0.02180463, -0.02639747, -0.05064373,\n",
       "        0.05064373,  0.01430055,  0.02404926,  0.0098523 , -0.00491401,\n",
       "        0.009804  , -0.009804  , -0.00990107, -0.00899556,  0.01395835,\n",
       "        0.0098523 , -0.03491627,  0.00808902,  0.01201216, -0.01706012,\n",
       "        0.        , -0.02562929, -0.01992725, -0.0312021 ,  0.00653597,\n",
       "        0.00325204, -0.02631731, -0.03735579, -0.01043488,  0.00232829,\n",
       "       -0.01523169, -0.04343264,  0.0061463 ,  0.00488999,  0.03239635,\n",
       "       -0.01546729,  0.00119832,  0.00358638,  0.00713439,  0.02110278,\n",
       "        0.0023175 , -0.01516064,  0.03804493, -0.00113186,  0.00564654,\n",
       "        0.00337268,  0.00671143, -0.00558973, -0.00224467, -0.01471447,\n",
       "       -0.00571757,  0.00799547, -0.01952963,  0.00808785,  0.00115009,\n",
       "       -0.00115009,  0.01144177,  0.01131234,  0.05044929, -0.00214133,\n",
       "        0.00853794, -0.00639661,  0.00851975, -0.02143705,  0.02355569,\n",
       "        0.00527706,  0.00420169, -0.04612077,  0.01091714, -0.00982005,\n",
       "       -0.02554275, -0.00790518,  0.02684725, -0.00220995,  0.02296438,\n",
       "       -0.00542007, -0.00873368,  0.03236528,  0.00845671,  0.0104713 ,\n",
       "        0.        , -0.02960047,  0.01067246,  0.00529382,  0.00736458,\n",
       "       -0.00209864,  0.02284627, -0.02494932,  0.00629593, -0.01263175,\n",
       "       -0.01494158,  0.00107469, -0.01079924, -0.00982005,  0.03342629,\n",
       "        0.07357761, -0.00990107,  0.03902934,  0.        , -0.00479617,\n",
       "        0.        , -0.00481929,  0.00961546,  0.01425202,  0.01869213,\n",
       "       -0.02342027, -0.01432005,  0.01904819,  0.01869213, -0.02817088,\n",
       "        0.        ,  0.0235305 , -0.01405175, -0.00947874,  0.0235305 ,\n",
       "        0.01385703, -0.01851905, -0.00468385, -0.02375409,  0.00956945,\n",
       "       -0.02898754,  0.0145988 , -0.02941389,  0.01970507,  0.        ,\n",
       "       -0.00488999, -0.01481509,  0.        , -0.02723315,  0.01522099,\n",
       "        0.02682724, -0.0258207 ,  0.00601807,  0.01980263,  0.02898754,\n",
       "        0.01418463, -0.00470589, -0.01425202,  0.00952388,  0.00472814,\n",
       "        0.02790879,  0.00913248, -0.03704127, -0.0433803 , -0.00493828,\n",
       "        0.        , -0.01395835, -0.01415595,  0.00811363, -0.00607905,\n",
       "       -0.00918843, -0.0051414 , -0.01453816,  0.00417537, -0.01999014,\n",
       "        0.02828895,  0.02045061, -0.0040568 ,  0.        ,  0.03101799,\n",
       "       -0.03611225,  0.05078244,  0.01445808,  0.00477328, -0.01923136,\n",
       "       -0.00486619,  0.06148508, -0.0232029 , -0.01418463, -0.01923136,\n",
       "       -0.02457126,  0.00990107, -0.00990107,  0.00496279, -0.0281143 ,\n",
       "       -0.01539281,  0.00721281,  0.00716116,  0.01918282,  0.00498754,\n",
       "       -0.01604849,  0.00905894, -0.00200602, -0.00201005,  0.01100561,\n",
       "        0.01481509, -0.0098523 ,  0.        ,  0.00493828, -0.01588911,\n",
       "        0.00598804, -0.01503788,  0.01503788, -0.03544675,  0.00923557,\n",
       "        0.00204082,  0.04874162,  0.        ,  0.01445808,  0.01895791,\n",
       "        0.02777956,  0.02257432, -0.01348335, -0.00453516, -0.00455582,\n",
       "        0.02257432,  0.01330397,  0.00439561, -0.01769958,  0.03509132,\n",
       "        0.01284814, -0.00854706, -0.00862074,  0.00431966, -0.01739174,\n",
       "        0.01307208,  0.        ,  0.02141409])"
      ]
     },
     "execution_count": 177,
     "metadata": {},
     "output_type": "execute_result"
    }
   ],
   "source": [
    "orion_value = orion_value.transpose()\n",
    "orion_log = list(orion_value.values[0])\n",
    "orion_log = np.log(orion_log)\n",
    "orion_log = np.diff(orion_log)\n",
    "orion_log"
   ]
  },
  {
   "cell_type": "code",
   "execution_count": 178,
   "metadata": {},
   "outputs": [
    {
     "data": {
      "text/plain": [
       "array([-0.00761499,  0.0050831 ,  0.00505739,  0.1319537 ,  0.00220807,\n",
       "        0.02388949,  0.02761162, -0.02331374,  0.09594728,  0.0325094 ,\n",
       "       -0.04033252, -0.03794076, -0.00204146, -0.02902684,  0.08265961,\n",
       "       -0.02749003, -0.03435051, -0.03779214,  0.01697307, -0.03415548,\n",
       "        0.        ,  0.036257  , -0.01055205,  0.00845053, -0.02126174,\n",
       "        0.04413908, -0.02498328, -0.00634458, -0.01919571, -0.02186431,\n",
       "        0.0946762 ,  0.        ,  0.03749396,  0.00571961, -0.04321356,\n",
       "       -0.02434658,  0.04228222, -0.04022395,  0.        , -0.01033396,\n",
       "        0.01648345,  0.01613881, -0.01613881, -0.02064712, -0.05347899,\n",
       "       -0.0022032 , -0.01555986,  0.01113884,  0.07665488,  0.        ,\n",
       "       -0.02282985, -0.01055205, -0.00638509,  0.        , -0.00642612,\n",
       "       -0.03046176, -0.04291533,  0.02728598, -0.0389161 , -0.04547074,\n",
       "        0.05478564, -0.0023206 , -0.00699429, -0.00469019, -0.00944689,\n",
       "        0.02807707,  0.03838758,  0.04972503,  0.03528463, -0.01852491,\n",
       "       -0.03811226, -0.02615463,  0.04114914, -0.01923692,  0.01497567,\n",
       "       -0.01931987, -0.02200868, -0.02935513, -0.0184128 ,  0.03657923,\n",
       "        0.03537182,  0.        ,  0.0192783 ,  0.01690135,  0.00209272,\n",
       "       -0.04262604, -0.00437269,  0.02800466,  0.01690135,  0.00418108,\n",
       "       -0.02321533,  0.0315254 , -0.02514031, -0.01281121, -0.00430714,\n",
       "        0.01499451, -0.00426125, -0.03246686, -0.04051099, -0.00914059,\n",
       "       -0.04020185,  0.05848777,  0.00680453, -0.01816078, -0.01624456,\n",
       "       -0.04547074, -0.04241632, -0.01027068,  0.052687  ,  0.01216788,\n",
       "       -0.01216788, -0.02720542, -0.0177687 , -0.04978061, -0.02452439,\n",
       "        0.07941407,  0.01517244, -0.00755744, -0.01528842, -0.03384707,\n",
       "       -0.02419473,  0.00542742, -0.02465878,  0.03274508,  0.062342  ,\n",
       "        0.        ,  0.01750213, -0.00746344,  0.00249401, -0.01759009,\n",
       "       -0.03351161,  0.01818414,  0.00257095,  0.02033306,  0.04178921,\n",
       "       -0.01939807,  0.00969921, -0.02457079,  0.00249401, -0.03034662,\n",
       "       -0.00773276, -0.00779303,  0.00520209,  0.0205419 , -0.01795097,\n",
       "       -0.02346178,  0.02087085,  0.        , -0.01043139,  0.        ,\n",
       "        0.00261807,  0.01040426,  0.02048929, -0.01275653,  0.00512215,\n",
       "        0.02522447,  0.0024878 ,  0.01958899,  0.00243355, -0.03201109,\n",
       "       -0.00755744,  0.        , -0.01016627,  0.02522447,  0.04376841,\n",
       "        0.        , -0.01440867,  0.05175835,  0.        ,  0.00458312,\n",
       "       -0.01140848,  0.00911955, -0.00229419, -0.01146119,  0.02966897,\n",
       "        0.01788218, -0.02467131, -0.04164111, -0.01911999, -0.01213834,\n",
       "        0.00243948,  0.00728295, -0.00972243, -0.00972302, -0.01240829,\n",
       "        0.00746344, -0.00996368,  0.00499425, -0.02012841,  0.02012841,\n",
       "       -0.01759009,  0.01259585,  0.00499425, -0.00499425,  0.00996368,\n",
       "        0.00247548, -0.00247548,  0.00494486, -0.01240829, -0.00751956,\n",
       "        0.00501932, -0.01513417,  0.01011485,  0.00501932,  0.00499425,\n",
       "        0.01963731,  0.        , -0.03976572,  0.00507021, -0.02561212,\n",
       "        0.00775275,  0.02792332,  0.03676989, -0.01458379,  0.03370377,\n",
       "       -0.01911999, -0.00241591,  0.01916579,  0.0023701 ,  0.04390928,\n",
       "        0.00226304, -0.01365567, -0.00680967,  0.        ,  0.02046534,\n",
       "        0.03115623,  0.04070737, -0.02556888,  0.0085958 ,  0.01697307,\n",
       "       -0.01483562,  0.03771295, -0.00618755, -0.01458827, -0.01907459,\n",
       "        0.00427035, -0.0021329 ,  0.02945435, -0.0104201 , -0.00630458,\n",
       "       -0.00634458,  0.01683024, -0.04036074, -0.03762466, -0.02966897,\n",
       "        0.10765437, -0.00208835,  0.01039843,  0.03847979, -0.00799512,\n",
       "       -0.02019326,  0.00408709, -0.01852491, -0.027379  , -0.07980321,\n",
       "        0.00461444,  0.05586891, -0.04907487, -0.07332363,  0.03139083,\n",
       "       -0.1240267 ,  0.06012988,  0.        , -0.025744  ,  0.07281038,\n",
       "        0.07464073, -0.0067738 , -0.02051219,  0.02503315,  0.00450061,\n",
       "        0.0693037 , -0.01264916, -0.03225685, -0.01545678,  0.04132854,\n",
       "        0.02945435,  0.04055085,  0.00198883, -0.02209779,  0.01010502,\n",
       "       -0.00605075,  0.03381336,  0.        ,  0.03641331,  0.        ,\n",
       "       -0.0037788 , -0.00189477,  0.04444225,  0.04255089,  0.00520209,\n",
       "       -0.00173103,  0.0069062 ,  0.01705966,  0.07637776,  0.04737992,\n",
       "        0.00298473, -0.0256    , -0.01695961, -0.01094419,  0.01404922,\n",
       "       -0.00310504,  0.04553547, -0.00895426, -0.03038075, -0.0297395 ,\n",
       "        0.0219829 ,  0.01084247,  0.        , -0.01865971, -0.0157589 ,\n",
       "        0.00477211, -0.02571853,  0.00649191, -0.01302624,  0.0032725 ,\n",
       "        0.01941325, -0.02761467,  0.04816856, -0.02537199, -0.02609607,\n",
       "       -0.01996407,  0.08700597, -0.00309542,  0.00925768,  0.07530132,\n",
       "        0.01273833,  0.00560981, -0.0326948 , -0.02333467,  0.00736839,\n",
       "        0.06525122,  0.00548698,  0.02427417,  0.04178902, -0.00771288,\n",
       "        0.0305009 ,  0.02223319, -0.03609739,  0.00126835, -0.02823217,\n",
       "       -0.00391921, -0.009205  ,  0.02474094, -0.01031374,  0.05315214,\n",
       "       -0.03130607,  0.06166174, -0.00119854, -0.02792315, -0.01736761,\n",
       "        0.00370933,  0.05231696, -0.0325115 ,  0.00854305, -0.00121598,\n",
       "        0.04743214,  0.01725554, -0.02190775, -0.00116644, -0.01999477,\n",
       "       -0.01077408, -0.01694679,  0.00610216, -0.02463529,  0.01116104,\n",
       "        0.02912169,  0.01190708, -0.01430561,  0.03418322,  0.00463067,\n",
       "       -0.01044932,  0.04223411, -0.02258729,  0.        , -0.02081463,\n",
       "        0.03553909, -0.01931264, -0.0291176 , -0.00474583, -0.00476846,\n",
       "        0.        ,  0.05346714, -0.02756236, -0.0223263 ,  0.01065924,\n",
       "       -0.02863444, -0.0270325 ,  0.01114722, -0.02615752, -0.01144435,\n",
       "        0.03513542,  0.        ,  0.00246644, -0.00617755,  0.00123857,\n",
       "       -0.01366109, -0.00503194, -0.01524956,  0.00127972, -0.02848854,\n",
       "        0.0039398 ,  0.        ,  0.00261793,  0.        ,  0.00651501,\n",
       "        0.00383897, -0.03282797, -0.01205364,  0.01871623, -0.00399223,\n",
       "       -0.02834819, -0.00412372,  0.03646413, -0.0133181 ,  0.00531765,\n",
       "       -0.01206987,  0.03718813, -0.0467185 ,  0.01493578,  0.03047631,\n",
       "       -0.01581141,  0.00793695, -0.01192918,  0.01980363, -0.00392948,\n",
       "        0.03350439, -0.02176198,  0.00898916, -0.02335982,  0.01561708,\n",
       "        0.02178392,  0.01754219, -0.00124629, -0.02265383, -0.01154713,\n",
       "       -0.00258424, -0.00513858,  0.00643153, -0.02083984, -0.03758811,\n",
       "       -0.0013708 ,  0.01227009,  0.0040568 ,  0.00398871,  0.0026847 ,\n",
       "        0.0159586 , -0.0013202 , -0.02401452, -0.0013541 ,  0.01073022,\n",
       "        0.02515151,  0.01551579,  0.0012863 , -0.00386388, -0.01686769,\n",
       "       -0.01988238, -0.00133965,  0.00401359, -0.01203745, -0.00950448,\n",
       "        0.01220354,  0.0199632 ,  0.01051311,  0.0013064 ,  0.00520861,\n",
       "       -0.01307274,  0.00262826,  0.00131154,  0.00653203,  0.00260091,\n",
       "       -0.03564452, -0.00404586, -0.02047853,  0.02317759, -0.00134862,\n",
       "        0.01734073, -0.00665373, -0.00267394, -0.00133965,  0.03296445,\n",
       "        0.01027381,  0.0549037 , -0.01222682, -0.0074085 ,  0.01720188,\n",
       "        0.        ,  0.01566636, -0.02423031, -0.03750771,  0.01015336,\n",
       "       -0.02170049,  0.01536673,  0.02132524, -0.00498826,  0.00871319,\n",
       "       -0.00372493,  0.00248483, -0.014954  ,  0.00997815, -0.00620657,\n",
       "       -0.01262766,  0.02008051,  0.02824406, -0.02079879,  0.04939906,\n",
       "        0.00586618, -0.02247695,  0.00358275,  0.        ,  0.02118618,\n",
       "       -0.04283094,  0.00364793, -0.01837421, -0.00123704,  0.02082427,\n",
       "        0.02745568, -0.02503403,  0.00598235, -0.01326495,  0.        ,\n",
       "       -0.00979338,  0.03143815, -0.00119282, -0.00838985,  0.0249613 ,\n",
       "       -0.00352798,  0.02783729,  0.09385493, -0.05128063,  0.00324641,\n",
       "       -0.03556197,  0.04210699, -0.02528242, -0.0362914 , -0.02572272,\n",
       "        0.0280327 ,  0.0068981 ,  0.01025875,  0.00786362,  0.02115258,\n",
       "        0.001101  ,  0.00109978,  0.00762285,  0.00217929,  0.02468547,\n",
       "        0.00845946,  0.0083885 , -0.02640995,  0.01485753,  0.03115816,\n",
       "       -0.02904777, -0.00422524, -0.02677829,  0.01188907, -0.00322848,\n",
       "       -0.02949247, -0.01341148, -0.00786362, -0.00568631,  0.0022784 ,\n",
       "       -0.02418615,  0.01848038,  0.01922507,  0.00224273, -0.01576203,\n",
       "       -0.01144429,  0.00688228,  0.0135807 , -0.02392196, -0.00231265,\n",
       "       -0.00580514, -0.00462351,  0.00229198,  0.02421404,  0.        ,\n",
       "        0.00681196,  0.        , -0.00340018,  0.00340018,  0.01232635,\n",
       "        0.02642728,  0.        ,  0.00759033,  0.01287943,  0.00315322,\n",
       "        0.03853957, -0.00512741,  0.02433666, -0.01818692, -0.02688602,\n",
       "       -0.0158291 , -0.00641898,  0.04708839, -0.0237912 ,  0.01865852,\n",
       "        0.00205623, -0.00205623, -0.0030923 , -0.00202707,  0.        ,\n",
       "        0.00202707, -0.00099315,  0.        ,  0.01737598, -0.02048096,\n",
       "       -0.01883507,  0.00421634, -0.02552737, -0.02287853,  0.0484059 ,\n",
       "       -0.0320228 , -0.03083954,  0.02105879,  0.        , -0.01213782,\n",
       "       -0.01341148,  0.        , -0.01013427, -0.00227581,  0.00681196,\n",
       "       -0.00681196,  0.00789931,  0.01347171,  0.0066684 ,  0.        ,\n",
       "        0.00662423,  0.01090193, -0.01090193, -0.01664358,  0.0055787 ,\n",
       "       -0.00669818,  0.        , -0.03182097,  0.0080617 , -0.01618892,\n",
       "       -0.00116644, -0.01169446,  0.01867279, -0.02816451, -0.03020872,\n",
       "       -0.00492682,  0.01835173, -0.02827879, -0.00746218,  0.00376212,\n",
       "        0.02223319, -0.00860607, -0.00123551,  0.02079879, -0.0158659 ,\n",
       "       -0.01237816,  0.01851026,  0.00730922,  0.02866871, -0.01665028,\n",
       "       -0.00601436,  0.        , -0.03431767, -0.02013116, -0.0602878 ,\n",
       "        0.00539812, -0.00404586, -0.00542007, -0.00681666, -0.02768694,\n",
       "       -0.01131492,  0.02522754,  0.00966191, -0.03346806, -0.01574749,\n",
       "       -0.02477864,  0.00442755, -0.0298358 ,  0.00749938, -0.01511423,\n",
       "       -0.00152995,  0.01060257, -0.01674589, -0.02653854,  0.02035724,\n",
       "        0.03047352,  0.00599633,  0.04237517,  0.05837598, -0.01497645,\n",
       "        0.0068353 , -0.00272851, -0.01931094, -0.00413324, -0.01977358,\n",
       "       -0.01726566,  0.01583819,  0.00142747,  0.01134702, -0.02138239,\n",
       "        0.01146081,  0.00426417, -0.0056896 ,  0.04321776,  0.01222011,\n",
       "        0.03573903, -0.0183983 ,  0.00924146, -0.01723126, -0.04088199,\n",
       "        0.00278164,  0.01379332,  0.02162951,  0.01199276,  0.0052843 ,\n",
       "       -0.02665318,  0.01738726,  0.00265618, -0.02004344,  0.07546024,\n",
       "       -0.0396262 , -0.00918086,  0.00918086, -0.00918086, -0.0348054 ,\n",
       "        0.0295211 ,  0.        ,  0.01576985, -0.03308741,  0.00264009,\n",
       "        0.01202481,  0.01188193,  0.01944527, -0.00516181, -0.02882509,\n",
       "        0.01977752,  0.04088024, -0.00376685,  0.00747153, -0.03037554,\n",
       "        0.02792332, -0.03822371,  0.02562787, -0.01147353,  0.00128136,\n",
       "        0.03270403,  0.        ,  0.02685388,  0.01674989,  0.0047346 ,\n",
       "        0.00706013, -0.01417046, -0.01558138, -0.00966372,  0.0168853 ,\n",
       "        0.00239565, -0.02050138,  0.0060873 , -0.00364793,  0.01566636,\n",
       "       -0.01323293, -0.02460498, -0.0124848 ,  0.04193895, -0.02448449,\n",
       "       -0.00991601,  0.00619108,  0.00372493, -0.00991601, -0.01006395,\n",
       "        0.00755744,  0.        , -0.0062939 ,  0.02366151, -0.00370652,\n",
       "        0.01230202, -0.01851026, -0.00619881, -0.0177013 ,  0.00127482,\n",
       "        0.00381475, -0.01792798,  0.01919634, -0.02048929,  0.00387386,\n",
       "        0.00642326,  0.0177687 , -0.00757653, -0.01147353, -0.01155681,\n",
       "        0.00124642, -0.02753047,  0.01585319,  0.00392434,  0.01292143,\n",
       "        0.01280553, -0.04817129, -0.01609974, -0.02890773, -0.04853773,\n",
       "        0.        , -0.02223708, -0.01352509,  0.01801224,  0.03513486,\n",
       "        0.01997104,  0.00141136, -0.00992158, -0.01002101, -0.01297743,\n",
       "       -0.03560801,  0.01647787,  0.01034629, -0.03739453, -0.02316293,\n",
       "       -0.0125765 ,  0.01101306,  0.01089309, -0.05236222,  0.00162958,\n",
       "       -0.05344464, -0.03845203,  0.0655635 , -0.0016731 ,  0.0312575 ,\n",
       "       -0.01471447, -0.01654303,  0.        ,  0.0016731 ,  0.0424846 ,\n",
       "       -0.05010049,  0.        , -0.00343966,  0.0221174 , -0.0118337 ,\n",
       "        0.01684465,  0.0165656 , -0.0165656 ,  0.00668435,  0.        ,\n",
       "        0.00326285,  0.02938302,  0.04867719, -0.01235951, -0.01091167,\n",
       "       -0.01897863,  0.00794658,  0.01417028, -0.01573053,  0.00473324,\n",
       "        0.00316295,  0.01560777,  0.        , -0.01560777,  0.03403263,\n",
       "       -0.00149847,  0.00149847,  0.01514618,  0.01631633,  0.05594233,\n",
       "       -0.10859059,  0.        ,  0.00293686, -0.01775195,  0.00298063,\n",
       "       -0.02409755, -0.00918843, -0.0537254 , -0.03974033,  0.00673403,\n",
       "       -0.00336135, -0.01015237, -0.03109059,  0.01739174, -0.01739174,\n",
       "       -0.02486807,  0.01073356, -0.00714289, -0.02909296,  0.        ,\n",
       "       -0.01862251, -0.00376648,  0.02974197,  0.00365631, -0.02587945,\n",
       "       -0.07786032, -0.03292478, -0.02972618,  0.        , -0.00865806,\n",
       "        0.00865806,  0.00430108, -0.00862074,  0.0129034 ,  0.0042644 ,\n",
       "        0.03758271, -0.05908892,  0.05498213, -0.00826451, -0.00415801,\n",
       "        0.0082988 , -0.02935221, -0.02586351,  0.01731645,  0.        ,\n",
       "       -0.00862074,  0.0129034 ,  0.00851069,  0.00843887,  0.02079077,\n",
       "        0.        , -0.00826451, -0.06869653, -0.0179377 ,  0.0223723 ,\n",
       "        0.00881063, -0.01324523,  0.03493805,  0.04202299, -0.16034265,\n",
       "        0.00481929, -0.00481929, -0.00484262, -0.0315608 , -0.00100251,\n",
       "       -0.0171982 ,  0.02020271, -0.00400802, -0.02028467,  0.02329219,\n",
       "       -0.00501757,  0.03557687, -0.00975617,  0.        , -0.01481509,\n",
       "        0.        , -0.00899556,  0.01889663])"
      ]
     },
     "execution_count": 178,
     "metadata": {},
     "output_type": "execute_result"
    }
   ],
   "source": [
    "nova_value = nova_value.transpose()\n",
    "nova_log = list(nova_value.values[0])\n",
    "nova_log = np.log(nova_log)\n",
    "nova_log = np.diff(nova_log)\n",
    "nova_log"
   ]
  },
  {
   "cell_type": "code",
   "execution_count": 124,
   "metadata": {},
   "outputs": [
    {
     "data": {
      "text/plain": [
       "array([ 0.08344564,  0.01873359, -0.00144647, -0.0100673 , -0.02931787,\n",
       "       -0.01804917,  0.0588808 , -0.02316164, -0.01172528,  0.07272574,\n",
       "       -0.01803166,  0.02214278, -0.04339641, -0.03643841,  0.01330211,\n",
       "        0.03166907, -0.11885284, -0.02421267, -0.00331741, -0.0283095 ,\n",
       "        0.03162691, -0.00331741, -0.021564  ,  0.06340893,  0.02025242,\n",
       "        0.02137995,  0.01203223, -0.01509371, -0.03228097, -0.02060477,\n",
       "        0.00638033,  0.        ,  0.00474269,  0.01881171, -0.00932995,\n",
       "       -0.01898973,  0.        , -0.01771341,  0.01130251, -0.00481897,\n",
       "        0.03331823,  0.01851673, -0.0138553 , -0.01724181, -0.07713241,\n",
       "        0.00681422, -0.04152822, -0.0286511 ,  0.07017931, -0.01193817,\n",
       "       -0.03849623, -0.03996264, -0.00935432,  0.02773077,  0.01804483,\n",
       "        0.01065832,  0.04331745,  0.00335559, -0.00164215,  0.05430867,\n",
       "       -0.04253142,  0.03608965,  0.03954956,  0.00924371,  0.02880101,\n",
       "       -0.01810308,  0.0105847 , -0.0105847 ,  0.00454128, -0.02448292,\n",
       "       -0.01721453, -0.05511398, -0.03563592,  0.01202029,  0.        ,\n",
       "       -0.00853135,  0.02211367, -0.01185717,  0.01015237,  0.00673403,\n",
       "        0.0033163 , -0.02531781,  0.02369487,  0.00661048, -0.00329978,\n",
       "       -0.06191128, -0.00532452,  0.01240382,  0.04479869,  0.06514728,\n",
       "        0.00159464, -0.00319183,  0.03109711, -0.02161535, -0.00948176,\n",
       "       -0.02394162, -0.0634651 ,  0.00515035, -0.02083336, -0.00347925,\n",
       "       -0.0467402 ,  0.0308236 ,  0.02990185, -0.02284435, -0.00532452,\n",
       "       -0.09720939, -0.03092572,  0.03283215,  0.04976844, -0.0056031 ,\n",
       "       -0.00571104, -0.03259893,  0.04202364, -0.0227239 ,  0.00763215,\n",
       "        0.09236654,  0.00349504,  0.0102743 ,  0.00681422, -0.0504344 ,\n",
       "        0.00360075,  0.05018924,  0.00170771,  0.0017048 , -0.03078869,\n",
       "       -0.00175815, -0.01574947,  0.00349763, -0.02131724, -0.04602793,\n",
       "        0.01497872, -0.00557188,  0.01847818, -0.03545936, -0.00569934,\n",
       "        0.00385446,  0.01322295, -0.01514833,  0.        , -0.05988291,\n",
       "       -0.02142614,  0.02248958, -0.00204608,  0.01108045, -0.03152395,\n",
       "       -0.02300702, -0.04649964,  0.03583288,  0.04597345, -0.00405546,\n",
       "        0.03423875, -0.01201288,  0.01393442, -0.02297836,  0.00603837,\n",
       "       -0.0378874 ,  0.00211015, -0.01366803,  0.04242427, -0.0235422 ,\n",
       "        0.08054585, -0.02119502,  0.00967559, -0.00384329, -0.0058323 ,\n",
       "        0.        ,  0.        ,  0.0058323 , -0.021607  ,  0.00392707,\n",
       "        0.00598112, -0.02593573, -0.01828114,  0.00513927,  0.03907761,\n",
       "        0.01169881,  0.00774985,  0.00954569, -0.03098409,  0.0480615 ,\n",
       "        0.00371367, -0.00751741,  0.00190367, -0.04417171, -0.02088933,\n",
       "        0.01298667,  0.        , -0.04978441,  0.00311173,  0.01648938,\n",
       "        0.02616819, -0.0241054 ,  0.00197629,  0.0050874 ,  0.01009781,\n",
       "       -0.01313072,  0.00605666, -0.02136076,  0.00407638, -0.00099676,\n",
       "        0.00207546, -0.00207546,  0.04023344,  0.01952554,  0.02481862,\n",
       "        0.        , -0.03259893,  0.        ,  0.01929974, -0.04495139,\n",
       "        0.10436439,  0.02142707, -0.00889022,  0.01238162, -0.02674322,\n",
       "        0.00364618, -0.01999773,  0.0325119 , -0.01974656,  0.01614581,\n",
       "        0.02120069, -0.0373465 , -0.00183466, -0.00176445, -0.03893819,\n",
       "        0.19043635,  0.01705477,  0.01975996,  0.05282814,  0.07692464,\n",
       "        0.03125337,  0.11607501,  0.00456359,  0.01691903, -0.01123224,\n",
       "       -0.02519235, -0.01165135,  0.00586623,  0.06540784, -0.06540784,\n",
       "       -0.00705312,  0.04813168, -0.02146093, -0.03253084, -0.04096535,\n",
       "        0.04215921,  0.        ,  0.02442135, -0.01738275, -0.0213146 ,\n",
       "       -0.07575534,  0.05886288, -0.04733627, -0.00382746,  0.        ,\n",
       "       -0.10238808,  0.00423924, -0.11350477, -0.15177347,  0.08805429,\n",
       "       -0.04480548,  0.08126087,  0.03510947, -0.02541719, -0.00969228,\n",
       "        0.00157812, -0.00487388,  0.00972412,  0.05346825,  0.        ,\n",
       "        0.03316164,  0.00591842,  0.02327125,  0.01002413, -0.01002413,\n",
       "       -0.04563303,  0.03844443,  0.06725127,  0.02934315, -0.01588869,\n",
       "       -0.01345446,  0.00404992,  0.00539261, -0.02725865,  0.00139466,\n",
       "        0.00550384,  0.        , -0.02634614,  0.01115116,  0.01108386,\n",
       "        0.01502874, -0.00274575, -0.01089221,  0.13951054,  0.01067728,\n",
       "        0.01174722,  0.08294085,  0.00104389,  0.05538654, -0.00917286,\n",
       "        0.02528875,  0.12664763,  0.03462396,  0.01269804, -0.03682248,\n",
       "        0.04434437, -0.00585678, -0.00756624, -0.03789692,  0.03282077,\n",
       "        0.00675111,  0.00170625, -0.00085276,  0.01839381,  0.02612323,\n",
       "        0.00163063, -0.10160931,  0.06385519,  0.1084487 , -0.03821806,\n",
       "        0.00929392, -0.0023154 , -0.00078344, -0.00232259, -0.02037972,\n",
       "       -0.01596931, -0.02364145, -0.0066283 ,  0.        ,  0.01893095,\n",
       "        0.01696036,  0.09462948, -0.02057937,  0.00294454,  0.0212834 ,\n",
       "       -0.00654156,  0.00289299, -0.02955644, -0.00829273, -0.00681967,\n",
       "        0.00681967,  0.02171332,  0.00811533,  0.01384013,  0.04184134,\n",
       "       -0.04401239, -0.00583229,  0.00800334, -0.00800334,  0.01163077,\n",
       "        0.01146818,  0.04666959, -0.01024628,  0.05095365, -0.00132349,\n",
       "        0.05723787,  0.0036952 , -0.00617463, -0.02128872,  0.00630707,\n",
       "       -0.02999799, -0.02692987,  0.03145731, -0.03545321,  0.03545321,\n",
       "        0.00513069,  0.00256846,  0.00830865,  0.00251508, -0.01017617,\n",
       "       -0.00834671, -0.0077852 , -0.00781976,  0.00391753,  0.00129364,\n",
       "       -0.02106351, -0.01813609, -0.01573573,  0.01910499, -0.01360116,\n",
       "        0.0270198 ,  0.        , -0.01341864, -0.01701664,  0.03178347,\n",
       "        0.02692987, -0.03765761, -0.0510697 , -0.09971392, -0.00865118,\n",
       "        0.0523054 ,  0.02292682, -0.00365099, -0.00887116, -0.00967735,\n",
       "        0.00820616, -0.00596693, -0.0195959 , -0.00534686, -0.004597  ,\n",
       "        0.01526228, -0.0323433 ,  0.00313029, -0.01178147, -0.01590606,\n",
       "       -0.02434377, -0.06537692,  0.04712015,  0.03373332,  0.02240664,\n",
       "       -0.01594405,  0.01674422,  0.05834859,  0.00817558,  0.05537404,\n",
       "        0.00559213,  0.04953289, -0.00397476, -0.0276382 ,  0.00138225,\n",
       "       -0.00343148, -0.01936917,  0.01112996,  0.01506291,  0.03739663,\n",
       "       -0.00854991, -0.00399363,  0.01320635, -0.02254213,  0.0172805 ,\n",
       "        0.01502038, -0.0183297 , -0.00329348,  0.00593648, -0.0072784 ,\n",
       "       -0.0086583 , -0.00941734,  0.00607971,  0.02453946,  0.00066282,\n",
       "        0.02711384, -0.02777666,  0.00066282,  0.03030733,  0.04108218,\n",
       "       -0.00673503,  0.01281198, -0.03015404, -0.00063218,  0.02835495,\n",
       "        0.0060549 ,  0.02032148,  0.00649275,  0.09578809, -0.00750855,\n",
       "       -0.01574144,  0.01467352,  0.04425359, -0.00259024, -0.03148829,\n",
       "        0.00267299,  0.0492903 , -0.02097711, -0.02725889,  0.00952419,\n",
       "        0.01410783, -0.0046946 ,  0.01193524, -0.00052141, -0.00413923,\n",
       "        0.0199932 , -0.04144248, -0.0300469 ,  0.02315292, -0.00800575,\n",
       "        0.01701637, -0.00687936,  0.0015901 , -0.00745661, -0.00535729,\n",
       "        0.00375528, -0.00160458,  0.00160458, -0.02055429, -0.01652377,\n",
       "        0.0093992 , -0.02961338, -0.03754356, -0.04636689,  0.02315963,\n",
       "       -0.02253603,  0.        ,  0.00918417, -0.00980777, -0.01303465,\n",
       "       -0.03821005, -0.00650833,  0.01747879,  0.06943785,  0.02715856,\n",
       "       -0.00876492, -0.03836738, -0.04242311,  0.00509444,  0.01323172,\n",
       "       -0.00627535, -0.0158758 ,  0.00320571,  0.01519004, -0.00190847,\n",
       "        0.01438874,  0.0238901 , -0.0128044 ,  0.01221589,  0.01740993,\n",
       "       -0.00597175, -0.00962471,  0.00663757, -0.00421659,  0.00360835,\n",
       "        0.08192423,  0.00056041,  0.02893439, -0.00324913, -0.00323781,\n",
       "        0.01450988, -0.01720875, -0.01809161,  0.01591404,  0.02206076,\n",
       "        0.0350267 , -0.00772495, -0.04015676, -0.02400177, -0.00055885,\n",
       "       -0.0405919 ,  0.02724351,  0.01390724, -0.00943043,  0.00333326,\n",
       "       -0.02532069, -0.01608701, -0.05719288,  0.0420332 , -0.00826648,\n",
       "        0.0029465 ,  0.04112238, -0.0160133 , -0.0057784 ,  0.01038649,\n",
       "        0.00742586,  0.01243732,  0.01007856, -0.02196288,  0.00512368,\n",
       "       -0.00454797,  0.0101926 ,  0.00393464,  0.00335381,  0.00280131,\n",
       "       -0.01291952,  0.04147446,  0.02462256,  0.00053464,  0.00893946,\n",
       "        0.01866231,  0.04471939,  0.01899078,  0.02898363, -0.02130512,\n",
       "        0.02270693,  0.00605817, -0.01308694, -0.03353612,  0.01928994,\n",
       "        0.01329255,  0.02052972, -0.02052972,  0.01451085,  0.00324831,\n",
       "        0.01014612, -0.00506019,  0.05120563,  0.00479058,  0.00695924,\n",
       "        0.05676332,  0.0973148 ,  0.00148509,  0.07043086, -0.07599252,\n",
       "        0.00407657, -0.01381605,  0.02415082,  0.04522859, -0.00528239,\n",
       "       -0.01959165,  0.0227559 ,  0.01777198, -0.01041332,  0.02175654,\n",
       "       -0.02210977,  0.02789842, -0.00544315,  0.0682787 , -0.00158867,\n",
       "       -0.00609386,  0.02224972, -0.01552267, -0.04437484,  0.03701033,\n",
       "        0.00159939,  0.00320407,  0.05448907, -0.04019007,  0.00126317,\n",
       "        0.01749375,  0.00185273, -0.01338398,  0.00344178, -0.04141955,\n",
       "       -0.03408181,  0.05787712, -0.01085815,  0.05132319,  0.02678813,\n",
       "        0.06022222,  0.11329999,  0.00671769,  0.08004271,  0.0183707 ,\n",
       "        0.02288779,  0.0048251 ,  0.02717224,  0.00127363,  0.00318558,\n",
       "       -0.00829852, -0.04700586,  0.04444388, -0.03486788, -0.02696807,\n",
       "       -0.06347396, -0.00194692,  0.02876535, -0.00307458,  0.04450348,\n",
       "       -0.00933807, -0.00229019,  0.03603706,  0.00287906, -0.00509317,\n",
       "       -0.09214292,  0.00412432,  0.        ,  0.00241758, -0.00241758,\n",
       "       -0.02451281,  0.016978  , -0.0197033 ,  0.0052028 ,  0.050677  ,\n",
       "        0.0701857 ,  0.09053321,  0.01530568,  0.09535301, -0.03356642,\n",
       "        0.044799  , -0.00141516,  0.00265627, -0.00710876, -0.00124997,\n",
       "        0.01365733, -0.0377011 , -0.0138178 , -0.00745386,  0.02181954,\n",
       "       -0.01995274,  0.00632266, -0.02915064,  0.03654393, -0.04826187,\n",
       "       -0.03778512,  0.0572982 , -0.04632731, -0.00357109,  0.06306445,\n",
       "        0.018706  , -0.04848951, -0.0112311 , -0.00860426,  0.006853  ,\n",
       "       -0.00078196, -0.00646862, -0.01524202,  0.01308446, -0.00059794,\n",
       "        0.00197581, -0.01287281, -0.01000677,  0.05252137, -0.04012298,\n",
       "       -0.0047809 , -0.04241802, -0.01047627, -0.02020027, -0.02832366,\n",
       "       -0.00376361, -0.03132451, -0.02878458,  0.04716033, -0.00428375,\n",
       "       -0.02305282,  0.00483933,  0.00732156, -0.01470649,  0.05210681,\n",
       "       -0.04772156, -0.08011424,  0.01462986, -0.21255384, -0.00733274,\n",
       "        0.00671654,  0.03207495,  0.00118124, -0.04151287, -0.01018218,\n",
       "        0.0305574 , -0.04085701,  0.04296183, -0.00784557,  0.00181128,\n",
       "        0.0344553 ,  0.02250882, -0.00745455, -0.01214066,  0.01214066,\n",
       "       -0.00663159, -0.05932374,  0.10043854,  0.04134799,  0.04762604,\n",
       "       -0.00254368, -0.01462488, -0.014067  , -0.09077978,  0.0310945 ,\n",
       "       -0.04963646, -0.05873612,  0.01263653,  0.03875719,  0.05419274,\n",
       "        0.01164547,  0.00055809, -0.00082608,  0.07647036, -0.02249425,\n",
       "        0.00678054, -0.02792108,  0.02375064,  0.01295969,  0.02340306,\n",
       "       -0.01878833, -0.00410439,  0.06523395,  0.02122369,  0.0147502 ,\n",
       "        0.08551878, -0.02484877, -0.0302172 ,  0.04627644, -0.01212604,\n",
       "       -0.00066182,  0.01837594,  0.02745612, -0.01026328, -0.00126156,\n",
       "       -0.00169026, -0.03983709, -0.00993611, -0.00199552,  0.00377196,\n",
       "        0.05367934,  0.02815318,  0.0419582 ,  0.01765581, -0.04241753,\n",
       "       -0.02119386, -0.00855308, -0.00105441, -0.06571195,  0.00758922,\n",
       "        0.        ,  0.04353193,  0.01354365, -0.00231598,  0.03842586,\n",
       "        0.00606097, -0.03672097, -0.0073459 , -0.01955443,  0.00278773,\n",
       "        0.04622342,  0.03178615, -0.00356862, -0.01481343, -0.03009459,\n",
       "        0.00910331,  0.03501171,  0.01793365, -0.00077951,  0.0465987 ,\n",
       "       -0.04523495,  0.01895327, -0.00441113, -0.00154389,  0.00787116,\n",
       "       -0.00191614, -0.1023789 ,  0.05410821,  0.08600847, -0.06067061,\n",
       "       -0.05215783, -0.06728804, -0.04413143,  0.02904015,  0.07410797,\n",
       "       -0.0458874 ,  0.01210041,  0.02125027, -0.036835  , -0.03281891,\n",
       "        0.07886285, -0.02531781, -0.04814934, -0.01536406,  0.00725956,\n",
       "       -0.00634923,  0.04536127,  0.02235691,  0.00424269, -0.00679697,\n",
       "       -0.00085288,  0.01440093,  0.0041964 ,  0.06720456, -0.017378  ,\n",
       "        0.01581061,  0.0039139 , -0.0317487 , -0.0195446 ,  0.01388344,\n",
       "       -0.00732604, -0.00820349, -0.02417792, -0.00338124,  0.00927103,\n",
       "       -0.01266374, -0.03194057, -0.00881063, -0.01336323,  0.03351284,\n",
       "        0.00949511, -0.01908124, -0.02034568,  0.00178571,  0.00089166,\n",
       "       -0.05119948, -0.00470147, -0.0306244 ,  0.00870833,  0.00480539,\n",
       "        0.03485987,  0.00369686, -0.01299925, -0.0322915 , -0.03837165,\n",
       "        0.00300451,  0.01980263,  0.01941809,  0.03681397, -0.06509475,\n",
       "       -0.09106598,  0.02988483, -0.03205403, -0.01421566, -0.03018675,\n",
       "        0.04765445, -0.0108815 ,  0.05636792,  0.00309758,  0.01432983,\n",
       "        0.01111684,  0.05094147,  0.00095465,  0.04021112, -0.04021112,\n",
       "        0.01327034, -0.0403513 ,  0.04223276,  0.00562326, -0.03325722,\n",
       "       -0.00193424,  0.07099152,  0.03107218,  0.00610024,  0.00346921,\n",
       "       -0.05152116,  0.01717168, -0.01444068, -0.01188857,  0.00091954,\n",
       "        0.00275356, -0.02037107,  0.03402627,  0.04508055,  0.00774864,\n",
       "       -0.03579605, -0.01522645, -0.01363038, -0.03633376, -0.02789984,\n",
       "        0.02695062,  0.03269792,  0.04141006, -0.03499684,  0.00909097,\n",
       "        0.029427  ,  0.01135879, -0.04623045, -0.0295497 , -0.02179148,\n",
       "        0.00573067, -0.01438874, -0.0244511 ])"
      ]
     },
     "execution_count": 124,
     "metadata": {},
     "output_type": "execute_result"
    }
   ],
   "source": [
    "eco_value = eco_value.transpose()\n",
    "eco_log = list(eco_value.values[0])\n",
    "eco_log = np.log(eco_log)\n",
    "eco_log = np.diff(eco_log)\n",
    "eco_log"
   ]
  },
  {
   "cell_type": "code",
   "execution_count": 125,
   "metadata": {},
   "outputs": [
    {
     "name": "stdout",
     "output_type": "stream",
     "text": [
      "AR: 0, MA: 0, AIC: -3020; resid stationarity check: 0\n",
      "AR: 0, MA: 1, AIC: -3641; resid stationarity check: 0\n",
      "AR: 0, MA: 2, AIC: -3639; resid stationarity check: 0\n"
     ]
    },
    {
     "name": "stderr",
     "output_type": "stream",
     "text": [
      "C:\\Users\\Kimbeomjoon.DESKTOP-5T6FIPU\\AppData\\Roaming\\Python\\Python39\\site-packages\\statsmodels\\base\\model.py:604: ConvergenceWarning: Maximum Likelihood optimization failed to converge. Check mle_retvals\n",
      "  warnings.warn(\"Maximum Likelihood optimization failed to \"\n"
     ]
    },
    {
     "name": "stdout",
     "output_type": "stream",
     "text": [
      "AR: 0, MA: 3, AIC: -3638; resid stationarity check: 0\n",
      "AR: 0, MA: 4, AIC: -3638; resid stationarity check: 0\n",
      "AR: 1, MA: 0, AIC: -3299; resid stationarity check: 0\n"
     ]
    },
    {
     "name": "stderr",
     "output_type": "stream",
     "text": [
      "C:\\Users\\Kimbeomjoon.DESKTOP-5T6FIPU\\AppData\\Roaming\\Python\\Python39\\site-packages\\statsmodels\\base\\model.py:604: ConvergenceWarning: Maximum Likelihood optimization failed to converge. Check mle_retvals\n",
      "  warnings.warn(\"Maximum Likelihood optimization failed to \"\n"
     ]
    },
    {
     "name": "stdout",
     "output_type": "stream",
     "text": [
      "AR: 1, MA: 1, AIC: -3639; resid stationarity check: 0\n",
      "AR: 1, MA: 2, AIC: -3637; resid stationarity check: 0\n",
      "AR: 1, MA: 3, AIC: -3635; resid stationarity check: 0\n"
     ]
    },
    {
     "name": "stderr",
     "output_type": "stream",
     "text": [
      "C:\\Users\\Kimbeomjoon.DESKTOP-5T6FIPU\\AppData\\Roaming\\Python\\Python39\\site-packages\\statsmodels\\base\\model.py:604: ConvergenceWarning: Maximum Likelihood optimization failed to converge. Check mle_retvals\n",
      "  warnings.warn(\"Maximum Likelihood optimization failed to \"\n"
     ]
    },
    {
     "name": "stdout",
     "output_type": "stream",
     "text": [
      "AR: 1, MA: 4, AIC: -3636; resid stationarity check: 0\n",
      "AR: 2, MA: 0, AIC: -3415; resid stationarity check: 0\n"
     ]
    },
    {
     "name": "stderr",
     "output_type": "stream",
     "text": [
      "C:\\Users\\Kimbeomjoon.DESKTOP-5T6FIPU\\AppData\\Roaming\\Python\\Python39\\site-packages\\statsmodels\\base\\model.py:604: ConvergenceWarning: Maximum Likelihood optimization failed to converge. Check mle_retvals\n",
      "  warnings.warn(\"Maximum Likelihood optimization failed to \"\n"
     ]
    },
    {
     "name": "stdout",
     "output_type": "stream",
     "text": [
      "AR: 2, MA: 1, AIC: -3638; resid stationarity check: 0\n"
     ]
    },
    {
     "name": "stderr",
     "output_type": "stream",
     "text": [
      "C:\\Users\\Kimbeomjoon.DESKTOP-5T6FIPU\\AppData\\Roaming\\Python\\Python39\\site-packages\\statsmodels\\base\\model.py:604: ConvergenceWarning: Maximum Likelihood optimization failed to converge. Check mle_retvals\n",
      "  warnings.warn(\"Maximum Likelihood optimization failed to \"\n"
     ]
    },
    {
     "name": "stdout",
     "output_type": "stream",
     "text": [
      "AR: 2, MA: 2, AIC: -3635; resid stationarity check: 0\n"
     ]
    },
    {
     "name": "stderr",
     "output_type": "stream",
     "text": [
      "C:\\Users\\Kimbeomjoon.DESKTOP-5T6FIPU\\AppData\\Roaming\\Python\\Python39\\site-packages\\statsmodels\\base\\model.py:604: ConvergenceWarning: Maximum Likelihood optimization failed to converge. Check mle_retvals\n",
      "  warnings.warn(\"Maximum Likelihood optimization failed to \"\n"
     ]
    },
    {
     "name": "stdout",
     "output_type": "stream",
     "text": [
      "AR: 2, MA: 3, AIC: -3634; resid stationarity check: 0\n"
     ]
    },
    {
     "name": "stderr",
     "output_type": "stream",
     "text": [
      "C:\\Users\\Kimbeomjoon.DESKTOP-5T6FIPU\\AppData\\Roaming\\Python\\Python39\\site-packages\\statsmodels\\base\\model.py:604: ConvergenceWarning: Maximum Likelihood optimization failed to converge. Check mle_retvals\n",
      "  warnings.warn(\"Maximum Likelihood optimization failed to \"\n"
     ]
    },
    {
     "name": "stdout",
     "output_type": "stream",
     "text": [
      "AR: 2, MA: 4, AIC: -3643; resid stationarity check: 0\n",
      "AR: 3, MA: 0, AIC: -3444; resid stationarity check: 0\n",
      "AR: 3, MA: 1, AIC: -3638; resid stationarity check: 0\n",
      "AR: 3, MA: 2, AIC: -3637; resid stationarity check: 0\n"
     ]
    },
    {
     "name": "stderr",
     "output_type": "stream",
     "text": [
      "C:\\Users\\Kimbeomjoon.DESKTOP-5T6FIPU\\AppData\\Roaming\\Python\\Python39\\site-packages\\statsmodels\\base\\model.py:604: ConvergenceWarning: Maximum Likelihood optimization failed to converge. Check mle_retvals\n",
      "  warnings.warn(\"Maximum Likelihood optimization failed to \"\n"
     ]
    },
    {
     "name": "stdout",
     "output_type": "stream",
     "text": [
      "AR: 3, MA: 3, AIC: -3641; resid stationarity check: 0\n"
     ]
    },
    {
     "name": "stderr",
     "output_type": "stream",
     "text": [
      "C:\\Users\\Kimbeomjoon.DESKTOP-5T6FIPU\\AppData\\Roaming\\Python\\Python39\\site-packages\\statsmodels\\base\\model.py:604: ConvergenceWarning: Maximum Likelihood optimization failed to converge. Check mle_retvals\n",
      "  warnings.warn(\"Maximum Likelihood optimization failed to \"\n"
     ]
    },
    {
     "name": "stdout",
     "output_type": "stream",
     "text": [
      "AR: 3, MA: 4, AIC: -3639; resid stationarity check: 0\n",
      "AR: 4, MA: 0, AIC: -3491; resid stationarity check: 0\n"
     ]
    },
    {
     "name": "stderr",
     "output_type": "stream",
     "text": [
      "C:\\Users\\Kimbeomjoon.DESKTOP-5T6FIPU\\AppData\\Roaming\\Python\\Python39\\site-packages\\statsmodels\\base\\model.py:604: ConvergenceWarning: Maximum Likelihood optimization failed to converge. Check mle_retvals\n",
      "  warnings.warn(\"Maximum Likelihood optimization failed to \"\n"
     ]
    },
    {
     "name": "stdout",
     "output_type": "stream",
     "text": [
      "AR: 4, MA: 1, AIC: -3639; resid stationarity check: 0\n"
     ]
    },
    {
     "name": "stderr",
     "output_type": "stream",
     "text": [
      "C:\\Users\\Kimbeomjoon.DESKTOP-5T6FIPU\\AppData\\Roaming\\Python\\Python39\\site-packages\\statsmodels\\base\\model.py:604: ConvergenceWarning: Maximum Likelihood optimization failed to converge. Check mle_retvals\n",
      "  warnings.warn(\"Maximum Likelihood optimization failed to \"\n"
     ]
    },
    {
     "name": "stdout",
     "output_type": "stream",
     "text": [
      "AR: 4, MA: 2, AIC: -3633; resid stationarity check: 0\n"
     ]
    },
    {
     "name": "stderr",
     "output_type": "stream",
     "text": [
      "C:\\Users\\Kimbeomjoon.DESKTOP-5T6FIPU\\AppData\\Roaming\\Python\\Python39\\site-packages\\statsmodels\\base\\model.py:604: ConvergenceWarning: Maximum Likelihood optimization failed to converge. Check mle_retvals\n",
      "  warnings.warn(\"Maximum Likelihood optimization failed to \"\n"
     ]
    },
    {
     "name": "stdout",
     "output_type": "stream",
     "text": [
      "AR: 4, MA: 3, AIC: -3636; resid stationarity check: 0\n",
      "AR: 4, MA: 4, AIC: -3638; resid stationarity check: 0\n",
      "the following function prints AIC criteria and finds the paramters for minimum AIC criteria\n",
      "best AR: 2, best MA: 4, best AIC: -3643;  resid stationarity check:0\n"
     ]
    },
    {
     "name": "stderr",
     "output_type": "stream",
     "text": [
      "C:\\Users\\Kimbeomjoon.DESKTOP-5T6FIPU\\AppData\\Roaming\\Python\\Python39\\site-packages\\statsmodels\\base\\model.py:604: ConvergenceWarning: Maximum Likelihood optimization failed to converge. Check mle_retvals\n",
      "  warnings.warn(\"Maximum Likelihood optimization failed to \"\n"
     ]
    }
   ],
   "source": [
    "best_AR_MA_checker(eco_log, 0, 5)"
   ]
  },
  {
   "cell_type": "code",
   "execution_count": 138,
   "metadata": {},
   "outputs": [
    {
     "name": "stdout",
     "output_type": "stream",
     "text": [
      "                               SARIMAX Results                                \n",
      "==============================================================================\n",
      "Dep. Variable:                      y   No. Observations:                  933\n",
      "Model:                 ARIMA(2, 0, 4)   Log Likelihood                1835.784\n",
      "Date:                Sun, 11 Dec 2022   AIC                          -3655.568\n",
      "Time:                        14:08:43   BIC                          -3616.860\n",
      "Sample:                             0   HQIC                         -3640.807\n",
      "                                - 933                                         \n",
      "Covariance Type:                  opg                                         \n",
      "==============================================================================\n",
      "                 coef    std err          z      P>|z|      [0.025      0.975]\n",
      "------------------------------------------------------------------------------\n",
      "const          0.0020      0.001      1.679      0.093      -0.000       0.004\n",
      "ar.L1         -0.5665      0.134     -4.212      0.000      -0.830      -0.303\n",
      "ar.L2         -0.6922      0.134     -5.174      0.000      -0.954      -0.430\n",
      "ma.L1          0.5857      0.134      4.369      0.000       0.323       0.848\n",
      "ma.L2          0.7474      0.138      5.435      0.000       0.478       1.017\n",
      "ma.L3          0.0618      0.039      1.585      0.113      -0.015       0.138\n",
      "ma.L4         -0.0375      0.039     -0.961      0.337      -0.114       0.039\n",
      "sigma2         0.0011   3.59e-05     31.840      0.000       0.001       0.001\n",
      "===================================================================================\n",
      "Ljung-Box (L1) (Q):                   0.00   Jarque-Bera (JB):               518.24\n",
      "Prob(Q):                              0.99   Prob(JB):                         0.00\n",
      "Heteroskedasticity (H):               0.98   Skew:                             0.11\n",
      "Prob(H) (two-sided):                  0.87   Kurtosis:                         6.64\n",
      "===================================================================================\n",
      "\n",
      "Warnings:\n",
      "[1] Covariance matrix calculated using the outer product of gradients (complex-step).\n"
     ]
    }
   ],
   "source": [
    "eco_log_arma = sm.tsa.ARIMA(eco_log, order=(2, 0, 4))\n",
    "eco_log_arma_res = eco_log_arma.fit()\n",
    "print(eco_log_arma_res.summary())"
   ]
  },
  {
   "cell_type": "code",
   "execution_count": 131,
   "metadata": {},
   "outputs": [
    {
     "data": {
      "text/plain": [
       "array([-0.00790518, -0.00264901,  0.00264901, -0.00264901, -0.00265604,\n",
       "       -0.00801072,  0.00801072,  0.01844585,  0.01297035,  0.        ,\n",
       "       -0.00516797, -0.01041676, -0.01583147, -0.01608614, -0.01086967,\n",
       "       -0.01375538, -0.01394723,  0.        ,  0.00280505,  0.00836825,\n",
       "        0.00277393, -0.00555557,  0.        , -0.00558661,  0.0027972 ,\n",
       "        0.0027894 , -0.00839166,  0.00280505,  0.02489755, -0.00547947,\n",
       "        0.00274349, -0.01936437,  0.00834497,  0.00276625,  0.        ,\n",
       "       -0.00554018, -0.0111733 , -0.00281294,  0.0084152 , -0.00560226,\n",
       "        0.00839166, -0.00558661, -0.02266386,  0.        , -0.0261263 ,\n",
       "       -0.01481509, -0.01503788,  0.01204834, -0.00600602,  0.        ,\n",
       "       -0.02748265,  0.00617286, -0.00308167,  0.        , -0.01242252,\n",
       "       -0.01892801,  0.02204814, -0.00312013, -0.00626961, -0.00630917,\n",
       "        0.01257878, -0.00312989,  0.00936044,  0.        , -0.01250016,\n",
       "        0.01250016,  0.01846206, -0.00305344, -0.00613499, -0.00927364,\n",
       "        0.        , -0.00936044,  0.01555241,  0.00308167, -0.00927364,\n",
       "       -0.00936044,  0.00625002, -0.00312013,  0.00312013,  0.        ,\n",
       "        0.03067725, -0.0121582 , -0.02163918,  0.00312013,  0.0062112 ,\n",
       "       -0.02507968, -0.04214562, -0.02006756,  0.00337268, -0.01015237,\n",
       "       -0.04879016,  0.02817088, -0.00347826, -0.0034904 ,  0.00696867,\n",
       "        0.00692044, -0.01039871, -0.01050798, -0.01061957,  0.02112755,\n",
       "       -0.02827043, -0.01081092, -0.0145988 , -0.00738011, -0.01492565,\n",
       "       -0.04223276, -0.0278348 , -0.01217054,  0.01619469,  0.02772455,\n",
       "       -0.0317487 ,  0.01202419, -0.00800004, -0.03265596,  0.04463215,\n",
       "        0.01574836,  0.00778214,  0.01538492,  0.01515181, -0.00754721,\n",
       "        0.        ,  0.04082199, -0.0072993 , -0.00366973, -0.00738011,\n",
       "       -0.00743498,  0.03303053, -0.01454571,  0.        ,  0.00365631,\n",
       "       -0.00732604,  0.02898754, -0.00716849, -0.01085002,  0.        ,\n",
       "       -0.01096903, -0.01481509,  0.00743498,  0.        ,  0.01834914,\n",
       "       -0.0072993 , -0.05264373, -0.00386848,  0.00386848, -0.01949379,\n",
       "       -0.02794593,  0.02400115, -0.0039604 , -0.01600034,  0.00402415,\n",
       "        0.00400802,  0.00796817,  0.03125254, -0.01160555, -0.019647  ,\n",
       "        0.        ,  0.019647  , -0.019647  , -0.00796817,  0.01587335,\n",
       "       -0.01188133,  0.01188133, -0.02794593,  0.00806456, -0.01619469,\n",
       "        0.05942342,  0.00383878,  0.04495139,  0.00365631, -0.0296318 ,\n",
       "        0.00749067, -0.00373832, -0.00751883,  0.01125715,  0.00743498,\n",
       "        0.00369686, -0.01487016, -0.02656703, -0.01941809,  0.00781254,\n",
       "        0.02687302, -0.02687302,  0.00775198,  0.04529076, -0.02238899,\n",
       "        0.00376648, -0.02281468, -0.02334736, -0.01988137,  0.01988137,\n",
       "       -0.00790518,  0.01183446,  0.01556452,  0.00385357,  0.03402975,\n",
       "        0.00371058,  0.00738011,  0.00732604, -0.00732604,  0.01096903,\n",
       "        0.        , -0.00364299, -0.00365631, -0.01848481,  0.01113184,\n",
       "        0.        , -0.02238899, -0.03065374,  0.02687302, -0.03077166,\n",
       "        0.01550419, -0.01160555,  0.04934587,  0.01834914,  0.        ,\n",
       "       -0.01096903,  0.00366973, -0.01476042, -0.01876228, -0.00379507,\n",
       "       -0.0114724 , -0.0758847 ,  0.        , -0.02096513, -0.02141409,\n",
       "       -0.02188271,  0.02188271, -0.01307208,  0.02597549, -0.00858374,\n",
       "        0.00430108,  0.0254251 ,  0.00417537,  0.01242252, -0.04202299,\n",
       "       -0.00430108, -0.02178735, -0.01330397, -0.04567004, -0.02364176,\n",
       "       -0.05305763,  0.0040282 , -0.00604841, -0.00303798, -0.03509132,\n",
       "        0.00628274,  0.01347869,  0.00513612,  0.01323175, -0.04445176,\n",
       "       -0.03989747, -0.00995033, -0.00668899, -0.08640143, -0.05257782,\n",
       "       -0.02868515, -0.01600034, -0.0609607 , -0.14585188,  0.0468205 ,\n",
       "       -0.08386177,  0.06153229,  0.12563741,  0.01692565,  0.0097426 ,\n",
       "        0.00552488,  0.03252319, -0.0519953 ,  0.04932507, -0.00940235,\n",
       "        0.03578911,  0.02316706,  0.0899756 ,  0.03428907, -0.02618249,\n",
       "       -0.01627943,  0.00700937, -0.01761643,  0.02573241,  0.02170274,\n",
       "       -0.02054867, -0.00462429,  0.00231482, -0.02102881,  0.13146314,\n",
       "        0.07381216, -0.04122272, -0.03362517,  0.01030937, -0.02702867,\n",
       "       -0.01379332, -0.03368053, -0.02460974,  0.00226244,  0.00563382,\n",
       "       -0.02157949, -0.01038671,  0.03421086, -0.00787849,  0.00787849,\n",
       "       -0.01810004, -0.00802297,  0.00916387,  0.00568506, -0.00796817,\n",
       "        0.01699758, -0.00112423,  0.01229753,  0.02631731,  0.00324149,\n",
       "        0.00645164, -0.01077597,  0.        , -0.00325556, -0.0242036 ,\n",
       "       -0.05258354, -0.06172558,  0.04754094, -0.0216615 , -0.0061013 ,\n",
       "        0.        , -0.00860485, -0.01617957,  0.        , -0.02799165,\n",
       "        0.01536522, -0.03359489,  0.04370876,  0.00751883,  0.03073383,\n",
       "       -0.01095568,  0.        , -0.01107704,  0.01717834, -0.01224005,\n",
       "       -0.03254355,  0.03254355, -0.01488861,  0.00871194,  0.01231543,\n",
       "       -0.01355535, -0.00747201,  0.01365633, -0.00991334, -0.01127125,\n",
       "       -0.01522872, -0.00127959, -0.00128123,  0.00128123,  0.01019117,\n",
       "       -0.01275527, -0.01292008,  0.0064809 , -0.00258732,  0.02178177,\n",
       "       -0.00891158,  0.02150621,  0.00623832,  0.04261144, -0.00238664,\n",
       "        0.00595594, -0.06628192, -0.01020417, -0.02861053,  0.01180342,\n",
       "       -0.00916837,  0.02340809, -0.00774197, -0.01698277,  0.01178796,\n",
       "       -0.0104713 ,  0.02083409,  0.01914545,  0.00252525, -0.00759497,\n",
       "        0.00126984,  0.01636286, -0.0252858 ,  0.00255755, -0.00255755,\n",
       "        0.0376929 ,  0.00492006, -0.00122775, -0.01609942, -0.00124922,\n",
       "       -0.00125078, -0.02663442, -0.00128617, -0.01295355, -0.00522877,\n",
       "        0.01043034,  0.01799534,  0.022671  , -0.00750004,  0.01122906,\n",
       "        0.02329964,  0.05655217,  0.04040954, -0.03242319, -0.02066664,\n",
       "        0.03533131,  0.06712476, -0.0222349 , -0.00107124, -0.00214592,\n",
       "       -0.02281468, -0.03352269, -0.02298952,  0.02865526, -0.03917552,\n",
       "       -0.02017873,  0.02720452,  0.00697677,  0.00231482, -0.00115674,\n",
       "       -0.00696867,  0.04779066,  0.03922071,  0.02843794,  0.02765153,\n",
       "       -0.02350645,  0.        ,  0.01844315, -0.02051354,  0.00207039,\n",
       "        0.04350711,  0.00493828,  0.03390155, -0.01438874, -0.00484262,\n",
       "       -0.01467019,  0.        ,  0.009804  ,  0.02884815,  0.00472814,\n",
       "       -0.02871011, -0.0305593 ,  0.        ,  0.02080313,  0.00975617,\n",
       "        0.01445808, -0.02912827, -0.00493828,  0.        , -0.00496279,\n",
       "       -0.00698954, -0.00200602, -0.00402415, -0.00201816,  0.01005034,\n",
       "       -0.01005034,  0.01503788,  0.01970507, -0.009804  ,  0.01951281,\n",
       "       -0.00484262,  0.033416  ,  0.06365785, -0.03587829,  0.08739182,\n",
       "        0.00833338,  0.0205346 , -0.02886798, -0.0648175 ,  0.02643326,\n",
       "       -0.01312929,  0.01312929,  0.00865806,  0.01284814, -0.02586351,\n",
       "       -0.0176216 , -0.02702867, -0.0372136 ,  0.01411788,  0.03670137,\n",
       "        0.        , -0.00904984,  0.00453516,  0.04857467,  0.02132277,\n",
       "        0.01673679, -0.01252626,  0.        , -0.01268516,  0.01268516,\n",
       "       -0.00421053,  0.0250013 ,  0.02439145, -0.04518222,  0.02898754,\n",
       "       -0.03319807,  0.0250013 ,  0.05601464,  0.00775198, -0.01165062,\n",
       "        0.00778214,  0.01919445, -0.04272494,  0.01183446, -0.00392928,\n",
       "       -0.00394478,  0.02729214, -0.00385357, -0.00386848, -0.01169604,\n",
       "        0.0039139 , -0.04391923, -0.01232048,  0.03252319,  0.01587335,\n",
       "       -0.00790518, -0.00397615,  0.00397615, -0.00397615, -0.01202419,\n",
       "        0.01202419,  0.03137512,  0.00385357, -0.02334736, -0.00394478,\n",
       "       -0.00793655, -0.00399202,  0.00399202, -0.01202419, -0.00404041,\n",
       "       -0.0040568 ,  0.01212136, -0.01619469,  0.00813013, -0.01222011,\n",
       "        0.01222011, -0.00813013, -0.00819677,  0.01632689,  0.00404041,\n",
       "        0.        , -0.02863181,  0.00826451,  0.03636764,  0.02739897,\n",
       "       -0.06789034, -0.01247417, -0.03404584, -0.00869571,  0.02159911,\n",
       "       -0.0129034 , -0.02188271, -0.00888895,  0.00445435,  0.00884962,\n",
       "        0.00877199,  0.00869571,  0.0129034 ,  0.03774033,  0.        ,\n",
       "        0.00819677,  0.        , -0.01646128,  0.01237129,  0.02429269,\n",
       "       -0.02020271, -0.00819677,  0.00410678,  0.02429269, -0.03252319,\n",
       "       -0.00414079, -0.02521142, -0.0171678 ,  0.00431966,  0.0255333 ,\n",
       "       -0.0255333 , -0.00865806,  0.01295914, -0.00430108, -0.00431966,\n",
       "        0.        , -0.00869571, -0.00877199,  0.        ,  0.01312929,\n",
       "       -0.00873368, -0.02217386, -0.03189336,  0.02739897,  0.01785762,\n",
       "       -0.01785762,  0.00896867,  0.01769958,  0.00437637, -0.02655023,\n",
       "       -0.01354423,  0.01354423, -0.00900907, -0.01366764,  0.        ,\n",
       "        0.00913248,  0.        , -0.02298952,  0.00925933, -0.00461895,\n",
       "        0.04525659, -0.0044346 , -0.01342302, -0.02278003, -0.00925933,\n",
       "        0.00925933,  0.00459771, -0.01385703, -0.01877989,  0.        ,\n",
       "       -0.04855323,  0.        ,  0.01481509,  0.03846628,  0.00938974,\n",
       "       -0.01411788,  0.01411788,  0.00466201,  0.        , -0.00466201,\n",
       "        0.01851905, -0.01385703,  0.00464038, -0.00930239,  0.01851905,\n",
       "       -0.02790879,  0.01405175, -0.00466201,  0.01851905, -0.00921666,\n",
       "        0.        ,  0.        , -0.01869213,  0.        , -0.00472814,\n",
       "       -0.00952388, -0.02912827,  0.009804  , -0.01970507,  0.01970507,\n",
       "       -0.00488999,  0.00975617, -0.00486619, -0.009804  ,  0.00491401,\n",
       "        0.00488999,  0.01932427,  0.        ,  0.        ,  0.01895791,\n",
       "       -0.01418463, -0.00956945,  0.02375409,  0.        , -0.01418463,\n",
       "       -0.00477328,  0.00477328,  0.0419642 , -0.01379332, -0.01869213,\n",
       "       -0.00472814, -0.02398196,  0.02398196, -0.01432005, -0.01941809,\n",
       "       -0.0098523 ,  0.01960847,  0.        , -0.00486619, -0.01474228,\n",
       "       -0.02101128, -0.00101163, -0.00507358, -0.00203666, -0.01437396,\n",
       "       -0.0208994 , -0.04205471, -0.02452743, -0.05928523,  0.01308763,\n",
       "        0.05406722, -0.00448935,  0.00112423,  0.01450109, -0.00110803,\n",
       "        0.0219307 , -0.01971586, -0.00888895,  0.        ,  0.00222966,\n",
       "       -0.01119833,  0.01231129, -0.01569539,  0.00225734,  0.00112676,\n",
       "       -0.00451468,  0.00564017,  0.00112423,  0.0111733 , -0.02247286,\n",
       "       -0.00913248, -0.00921666,  0.02288429, -0.01137669,  0.00228572,\n",
       "        0.0011409 , -0.01031528, -0.01743217,  0.02202988,  0.00799547,\n",
       "       -0.02301598, -0.01761643, -0.0203478 , -0.00363417,  0.00121286,\n",
       "       -0.00121286, -0.01098242, -0.03369002,  0.00632513, -0.03464105,\n",
       "        0.03967251,  0.01987643,  0.03742139,  0.00118413,  0.01875788,\n",
       "       -0.00116212, -0.00116347, -0.00583773, -0.01059457, -0.00593474,\n",
       "        0.01886848,  0.00116754,  0.01505529,  0.00687288, -0.00457667,\n",
       "       -0.00921666, -0.02105341, -0.00473935,  0.01297953, -0.00470036,\n",
       "        0.02673024, -0.00575045, -0.02097979, -0.01543057,  0.02830378,\n",
       "        0.06199168, -0.01430955, -0.00555866,  0.06683521, -0.02534455,\n",
       "       -0.00321371,  0.03996326, -0.00309758, -0.00726521,  0.00415801,\n",
       "       -0.01462931,  0.00734141, -0.00209205,  0.00209205,  0.00104439,\n",
       "        0.01758969,  0.01425686, -0.00202429, -0.01018339, -0.02172874,\n",
       "       -0.01157299,  0.01157299, -0.02114244,  0.00956945, -0.00530505,\n",
       "        0.00106326,  0.02103127, -0.00626307,  0.01764446,  0.01125332,\n",
       "       -0.00509945, -0.04925039,  0.011746  , -0.02798891,  0.02159911,\n",
       "        0.00956945,  0.        , -0.00211864, -0.00851975,  0.00106895,\n",
       "        0.00745081, -0.0138817 ,  0.0400475 ,  0.0082305 ,  0.03918131,\n",
       "        0.00491401, -0.0098523 ,  0.        , -0.04040954, -0.00724266,\n",
       "        0.01340917, -0.00616651,  0.00411523, -0.0092832 ,  0.01644436,\n",
       "        0.01918282,  0.01488861, -0.03000225,  0.07808844, -0.01418463,\n",
       "        0.02817088, -0.01869213, -0.01904819, -0.02927038,  0.00493828,\n",
       "       -0.00990107,  0.00496279, -0.03117397,  0.00204082,  0.04874162,\n",
       "       -0.03759097, -0.00302878,  0.02101128,  0.0244511 , -0.00484262,\n",
       "       -0.00975617,  0.01941809, -0.03423317,  0.02941389, -0.0145988 ,\n",
       "       -0.02682724, -0.00808902,  0.0050633 , -0.04863866, -0.04556103,\n",
       "        0.00442969, -0.00442969, -0.01453351,  0.01231129, -0.00445932,\n",
       "        0.0405091 ,  0.01490975, -0.00955929,  0.00532199,  0.00740352,\n",
       "       -0.00316623, -0.01598329,  0.02440439, -0.01584819, -0.02152936,\n",
       "        0.02259375,  0.01583147,  0.01558473,  0.04534782,  0.        ,\n",
       "        0.        ,  0.01467019, -0.00975617, -0.0098523 ,  0.        ,\n",
       "        0.00493828, -0.01488861,  0.01488861, -0.01990115,  0.00100452,\n",
       "        0.00899556,  0.        , -0.02928023,  0.01726808, -0.00504797,\n",
       "       -0.02770829,  0.00725768,  0.00206398,  0.00308801, -0.01867274,\n",
       "        0.02277531,  0.00306592, -0.04380262,  0.00743498, -0.01170849,\n",
       "       -0.0118472 ,  0.02249693,  0.        , -0.00637622, -0.03692059,\n",
       "       -0.04641467,  0.04086834, -0.02363644, -0.00571104, -0.00920605,\n",
       "        0.05181339, -0.0380359 ,  0.01246475,  0.00673403, -0.01124871,\n",
       "        0.00788736, -0.01926405,  0.01701686, -0.00225225,  0.02008996,\n",
       "       -0.00554018,  0.01980263, -0.01536803, -0.00554633, -0.01569539,\n",
       "       -0.00113058,  0.0145988 ,  0.01877471, -0.0447502 ,  0.00911168,\n",
       "        0.01574836, -0.00671895,  0.00894861, -0.01007283,  0.00224719,\n",
       "        0.00336135, -0.02033968,  0.02813917,  0.00553405, -0.00331675,\n",
       "        0.00772205, -0.0301194 , -0.01024482, -0.00688866, -0.01743217,\n",
       "        0.00933496, -0.01050798,  0.00468385, -0.02964058,  0.01196187,\n",
       "        0.00474497, -0.00118413, -0.00594179,  0.01420142,  0.00819197,\n",
       "        0.05333084, -0.02574289,  0.0213132 ])"
      ]
     },
     "execution_count": 131,
     "metadata": {},
     "output_type": "execute_result"
    }
   ],
   "source": [
    "lotte_value = lotte_value.transpose()\n",
    "lotte_log = list(lotte_value.values[0])\n",
    "lotte_log = np.log(lotte_log)\n",
    "lotte_log = np.diff(lotte_log)\n",
    "lotte_log"
   ]
  },
  {
   "cell_type": "code",
   "execution_count": 132,
   "metadata": {},
   "outputs": [
    {
     "name": "stdout",
     "output_type": "stream",
     "text": [
      "AR: 0, MA: 0, AIC: -3774; resid stationarity check: 0\n",
      "AR: 0, MA: 1, AIC: -4403; resid stationarity check: 0\n",
      "AR: 0, MA: 2, AIC: -4401; resid stationarity check: 0\n"
     ]
    },
    {
     "name": "stderr",
     "output_type": "stream",
     "text": [
      "C:\\Users\\Kimbeomjoon.DESKTOP-5T6FIPU\\AppData\\Roaming\\Python\\Python39\\site-packages\\statsmodels\\base\\model.py:604: ConvergenceWarning: Maximum Likelihood optimization failed to converge. Check mle_retvals\n",
      "  warnings.warn(\"Maximum Likelihood optimization failed to \"\n"
     ]
    },
    {
     "name": "stdout",
     "output_type": "stream",
     "text": [
      "AR: 0, MA: 3, AIC: -4400; resid stationarity check: 0\n"
     ]
    },
    {
     "name": "stderr",
     "output_type": "stream",
     "text": [
      "C:\\Users\\Kimbeomjoon.DESKTOP-5T6FIPU\\AppData\\Roaming\\Python\\Python39\\site-packages\\statsmodels\\base\\model.py:604: ConvergenceWarning: Maximum Likelihood optimization failed to converge. Check mle_retvals\n",
      "  warnings.warn(\"Maximum Likelihood optimization failed to \"\n"
     ]
    },
    {
     "name": "stdout",
     "output_type": "stream",
     "text": [
      "AR: 0, MA: 4, AIC: -4398; resid stationarity check: 0\n",
      "AR: 1, MA: 0, AIC: -4056; resid stationarity check: 0\n",
      "AR: 1, MA: 1, AIC: -4401; resid stationarity check: 0\n",
      "AR: 1, MA: 2, AIC: -4403; resid stationarity check: 0\n"
     ]
    },
    {
     "name": "stderr",
     "output_type": "stream",
     "text": [
      "C:\\Users\\Kimbeomjoon.DESKTOP-5T6FIPU\\AppData\\Roaming\\Python\\Python39\\site-packages\\statsmodels\\tsa\\statespace\\sarimax.py:966: UserWarning: Non-stationary starting autoregressive parameters found. Using zeros as starting parameters.\n",
      "  warn('Non-stationary starting autoregressive parameters'\n",
      "C:\\Users\\Kimbeomjoon.DESKTOP-5T6FIPU\\AppData\\Roaming\\Python\\Python39\\site-packages\\statsmodels\\tsa\\statespace\\sarimax.py:978: UserWarning: Non-invertible starting MA parameters found. Using zeros as starting parameters.\n",
      "  warn('Non-invertible starting MA parameters found.'\n"
     ]
    },
    {
     "name": "stdout",
     "output_type": "stream",
     "text": [
      "AR: 1, MA: 3, AIC: -4397; resid stationarity check: 0\n"
     ]
    },
    {
     "name": "stderr",
     "output_type": "stream",
     "text": [
      "C:\\Users\\Kimbeomjoon.DESKTOP-5T6FIPU\\AppData\\Roaming\\Python\\Python39\\site-packages\\statsmodels\\base\\model.py:604: ConvergenceWarning: Maximum Likelihood optimization failed to converge. Check mle_retvals\n",
      "  warnings.warn(\"Maximum Likelihood optimization failed to \"\n"
     ]
    },
    {
     "name": "stdout",
     "output_type": "stream",
     "text": [
      "AR: 1, MA: 4, AIC: -4399; resid stationarity check: 0\n",
      "AR: 2, MA: 0, AIC: -4161; resid stationarity check: 0\n"
     ]
    },
    {
     "name": "stderr",
     "output_type": "stream",
     "text": [
      "C:\\Users\\Kimbeomjoon.DESKTOP-5T6FIPU\\AppData\\Roaming\\Python\\Python39\\site-packages\\statsmodels\\base\\model.py:604: ConvergenceWarning: Maximum Likelihood optimization failed to converge. Check mle_retvals\n",
      "  warnings.warn(\"Maximum Likelihood optimization failed to \"\n",
      "C:\\Users\\Kimbeomjoon.DESKTOP-5T6FIPU\\AppData\\Roaming\\Python\\Python39\\site-packages\\statsmodels\\tsa\\statespace\\sarimax.py:966: UserWarning: Non-stationary starting autoregressive parameters found. Using zeros as starting parameters.\n",
      "  warn('Non-stationary starting autoregressive parameters'\n"
     ]
    },
    {
     "name": "stdout",
     "output_type": "stream",
     "text": [
      "AR: 2, MA: 1, AIC: -4400; resid stationarity check: 0\n",
      "AR: 2, MA: 2, AIC: -4398; resid stationarity check: 0\n"
     ]
    },
    {
     "name": "stderr",
     "output_type": "stream",
     "text": [
      "C:\\Users\\Kimbeomjoon.DESKTOP-5T6FIPU\\AppData\\Roaming\\Python\\Python39\\site-packages\\statsmodels\\base\\model.py:604: ConvergenceWarning: Maximum Likelihood optimization failed to converge. Check mle_retvals\n",
      "  warnings.warn(\"Maximum Likelihood optimization failed to \"\n"
     ]
    },
    {
     "name": "stdout",
     "output_type": "stream",
     "text": [
      "AR: 2, MA: 3, AIC: -4399; resid stationarity check: 0\n"
     ]
    },
    {
     "name": "stderr",
     "output_type": "stream",
     "text": [
      "C:\\Users\\Kimbeomjoon.DESKTOP-5T6FIPU\\AppData\\Roaming\\Python\\Python39\\site-packages\\statsmodels\\base\\model.py:604: ConvergenceWarning: Maximum Likelihood optimization failed to converge. Check mle_retvals\n",
      "  warnings.warn(\"Maximum Likelihood optimization failed to \"\n"
     ]
    },
    {
     "name": "stdout",
     "output_type": "stream",
     "text": [
      "AR: 2, MA: 4, AIC: -4397; resid stationarity check: 0\n",
      "AR: 3, MA: 0, AIC: -4219; resid stationarity check: 0\n"
     ]
    },
    {
     "name": "stderr",
     "output_type": "stream",
     "text": [
      "C:\\Users\\Kimbeomjoon.DESKTOP-5T6FIPU\\AppData\\Roaming\\Python\\Python39\\site-packages\\statsmodels\\base\\model.py:604: ConvergenceWarning: Maximum Likelihood optimization failed to converge. Check mle_retvals\n",
      "  warnings.warn(\"Maximum Likelihood optimization failed to \"\n",
      "C:\\Users\\Kimbeomjoon.DESKTOP-5T6FIPU\\AppData\\Roaming\\Python\\Python39\\site-packages\\statsmodels\\tsa\\statespace\\sarimax.py:966: UserWarning: Non-stationary starting autoregressive parameters found. Using zeros as starting parameters.\n",
      "  warn('Non-stationary starting autoregressive parameters'\n",
      "C:\\Users\\Kimbeomjoon.DESKTOP-5T6FIPU\\AppData\\Roaming\\Python\\Python39\\site-packages\\statsmodels\\tsa\\statespace\\sarimax.py:978: UserWarning: Non-invertible starting MA parameters found. Using zeros as starting parameters.\n",
      "  warn('Non-invertible starting MA parameters found.'\n"
     ]
    },
    {
     "name": "stdout",
     "output_type": "stream",
     "text": [
      "AR: 3, MA: 1, AIC: -4397; resid stationarity check: 0\n"
     ]
    },
    {
     "name": "stderr",
     "output_type": "stream",
     "text": [
      "C:\\Users\\Kimbeomjoon.DESKTOP-5T6FIPU\\AppData\\Roaming\\Python\\Python39\\site-packages\\statsmodels\\base\\model.py:604: ConvergenceWarning: Maximum Likelihood optimization failed to converge. Check mle_retvals\n",
      "  warnings.warn(\"Maximum Likelihood optimization failed to \"\n"
     ]
    },
    {
     "name": "stdout",
     "output_type": "stream",
     "text": [
      "AR: 3, MA: 2, AIC: -4398; resid stationarity check: 0\n"
     ]
    },
    {
     "name": "stderr",
     "output_type": "stream",
     "text": [
      "C:\\Users\\Kimbeomjoon.DESKTOP-5T6FIPU\\AppData\\Roaming\\Python\\Python39\\site-packages\\statsmodels\\base\\model.py:604: ConvergenceWarning: Maximum Likelihood optimization failed to converge. Check mle_retvals\n",
      "  warnings.warn(\"Maximum Likelihood optimization failed to \"\n"
     ]
    },
    {
     "name": "stdout",
     "output_type": "stream",
     "text": [
      "AR: 3, MA: 3, AIC: -4398; resid stationarity check: 0\n"
     ]
    },
    {
     "name": "stderr",
     "output_type": "stream",
     "text": [
      "C:\\Users\\Kimbeomjoon.DESKTOP-5T6FIPU\\AppData\\Roaming\\Python\\Python39\\site-packages\\statsmodels\\base\\model.py:604: ConvergenceWarning: Maximum Likelihood optimization failed to converge. Check mle_retvals\n",
      "  warnings.warn(\"Maximum Likelihood optimization failed to \"\n"
     ]
    },
    {
     "name": "stdout",
     "output_type": "stream",
     "text": [
      "AR: 3, MA: 4, AIC: -4392; resid stationarity check: 0\n",
      "AR: 4, MA: 0, AIC: -4243; resid stationarity check: 0\n"
     ]
    },
    {
     "name": "stderr",
     "output_type": "stream",
     "text": [
      "C:\\Users\\Kimbeomjoon.DESKTOP-5T6FIPU\\AppData\\Roaming\\Python\\Python39\\site-packages\\statsmodels\\base\\model.py:604: ConvergenceWarning: Maximum Likelihood optimization failed to converge. Check mle_retvals\n",
      "  warnings.warn(\"Maximum Likelihood optimization failed to \"\n"
     ]
    },
    {
     "name": "stdout",
     "output_type": "stream",
     "text": [
      "AR: 4, MA: 1, AIC: -4397; resid stationarity check: 0\n"
     ]
    },
    {
     "name": "stderr",
     "output_type": "stream",
     "text": [
      "C:\\Users\\Kimbeomjoon.DESKTOP-5T6FIPU\\AppData\\Roaming\\Python\\Python39\\site-packages\\statsmodels\\base\\model.py:604: ConvergenceWarning: Maximum Likelihood optimization failed to converge. Check mle_retvals\n",
      "  warnings.warn(\"Maximum Likelihood optimization failed to \"\n"
     ]
    },
    {
     "name": "stdout",
     "output_type": "stream",
     "text": [
      "AR: 4, MA: 2, AIC: -4399; resid stationarity check: 0\n"
     ]
    },
    {
     "name": "stderr",
     "output_type": "stream",
     "text": [
      "C:\\Users\\Kimbeomjoon.DESKTOP-5T6FIPU\\AppData\\Roaming\\Python\\Python39\\site-packages\\statsmodels\\base\\model.py:604: ConvergenceWarning: Maximum Likelihood optimization failed to converge. Check mle_retvals\n",
      "  warnings.warn(\"Maximum Likelihood optimization failed to \"\n"
     ]
    },
    {
     "name": "stdout",
     "output_type": "stream",
     "text": [
      "AR: 4, MA: 3, AIC: -4394; resid stationarity check: 0\n",
      "AR: 4, MA: 4, AIC: -4389; resid stationarity check: 0\n",
      "the following function prints AIC criteria and finds the paramters for minimum AIC criteria\n",
      "best AR: 1, best MA: 2, best AIC: -4403;  resid stationarity check:0\n"
     ]
    },
    {
     "name": "stderr",
     "output_type": "stream",
     "text": [
      "C:\\Users\\Kimbeomjoon.DESKTOP-5T6FIPU\\AppData\\Roaming\\Python\\Python39\\site-packages\\statsmodels\\base\\model.py:604: ConvergenceWarning: Maximum Likelihood optimization failed to converge. Check mle_retvals\n",
      "  warnings.warn(\"Maximum Likelihood optimization failed to \"\n"
     ]
    }
   ],
   "source": [
    "best_AR_MA_checker(lotte_log, 0, 5)"
   ]
  },
  {
   "cell_type": "code",
   "execution_count": 141,
   "metadata": {},
   "outputs": [
    {
     "name": "stdout",
     "output_type": "stream",
     "text": [
      "                               SARIMAX Results                                \n",
      "==============================================================================\n",
      "Dep. Variable:                      y   No. Observations:                  933\n",
      "Model:                 ARIMA(1, 0, 2)   Log Likelihood                2210.636\n",
      "Date:                Sun, 11 Dec 2022   AIC                          -4411.272\n",
      "Time:                        14:10:16   BIC                          -4387.079\n",
      "Sample:                             0   HQIC                         -4402.046\n",
      "                                - 933                                         \n",
      "Covariance Type:                  opg                                         \n",
      "==============================================================================\n",
      "                 coef    std err          z      P>|z|      [0.025      0.975]\n",
      "------------------------------------------------------------------------------\n",
      "const         -0.0008      0.001     -0.989      0.323      -0.002       0.001\n",
      "ar.L1          0.3354      0.654      0.513      0.608      -0.947       1.618\n",
      "ma.L1         -0.3278      0.658     -0.498      0.618      -1.617       0.962\n",
      "ma.L2          0.0305      0.027      1.126      0.260      -0.023       0.083\n",
      "sigma2         0.0005   1.36e-05     37.556      0.000       0.000       0.001\n",
      "===================================================================================\n",
      "Ljung-Box (L1) (Q):                   0.00   Jarque-Bera (JB):               909.32\n",
      "Prob(Q):                              1.00   Prob(JB):                         0.00\n",
      "Heteroskedasticity (H):               0.60   Skew:                             0.29\n",
      "Prob(H) (two-sided):                  0.00   Kurtosis:                         7.80\n",
      "===================================================================================\n",
      "\n",
      "Warnings:\n",
      "[1] Covariance matrix calculated using the outer product of gradients (complex-step).\n"
     ]
    }
   ],
   "source": [
    "lotte_log_arma = sm.tsa.ARIMA(lotte_log, order=(1, 0, 2))\n",
    "lotte_log_arma_res = lotte_log_arma.fit()\n",
    "print(lotte_log_arma_res.summary())"
   ]
  },
  {
   "cell_type": "code",
   "execution_count": 164,
   "metadata": {},
   "outputs": [],
   "source": [
    "import math"
   ]
  },
  {
   "cell_type": "code",
   "execution_count": 163,
   "metadata": {},
   "outputs": [],
   "source": [
    "lotte_arma_forecast = lotte_log_arma_res.forecast(steps=20)"
   ]
  },
  {
   "cell_type": "code",
   "execution_count": 168,
   "metadata": {},
   "outputs": [
    {
     "data": {
      "text/plain": [
       "0.023287228996596406"
      ]
     },
     "execution_count": 168,
     "metadata": {},
     "output_type": "execute_result"
    }
   ],
   "source": [
    "lotte_vol.variance.values[-1, :][19]**0.5"
   ]
  },
  {
   "cell_type": "code",
   "execution_count": 166,
   "metadata": {},
   "outputs": [
    {
     "data": {
      "text/plain": [
       "0.023287228996596406"
      ]
     },
     "execution_count": 166,
     "metadata": {},
     "output_type": "execute_result"
    }
   ],
   "source": [
    "math.sqrt(lotte_vol.variance.values[-1, :][19])"
   ]
  },
  {
   "cell_type": "code",
   "execution_count": 165,
   "metadata": {},
   "outputs": [
    {
     "name": "stdout",
     "output_type": "stream",
     "text": [
      "-0.039228432787795635\n"
     ]
    }
   ],
   "source": [
    "lotte_VaR = lotte_arma_forecast[19] - (1.65 * math.sqrt(lotte_vol.variance.values[-1, :][19])) \n",
    "print(lotte_VaR)"
   ]
  },
  {
   "cell_type": "code",
   "execution_count": 169,
   "metadata": {},
   "outputs": [
    {
     "name": "stdout",
     "output_type": "stream",
     "text": [
      "-0.05454291593425748\n"
     ]
    }
   ],
   "source": [
    "eco_arma_forecast = eco_log_arma_res.forecast(steps=20)\n",
    "eco_VaR = eco_arma_forecast[19] - (1.65 * math.sqrt(eco_vol.variance.values[-1, :][19]))\n",
    "print(eco_VaR)"
   ]
  },
  {
   "cell_type": "code",
   "execution_count": 179,
   "metadata": {},
   "outputs": [
    {
     "name": "stderr",
     "output_type": "stream",
     "text": [
      "C:\\Users\\Kimbeomjoon.DESKTOP-5T6FIPU\\AppData\\Roaming\\Python\\Python39\\site-packages\\statsmodels\\base\\model.py:604: ConvergenceWarning: Maximum Likelihood optimization failed to converge. Check mle_retvals\n",
      "  warnings.warn(\"Maximum Likelihood optimization failed to \"\n"
     ]
    },
    {
     "name": "stdout",
     "output_type": "stream",
     "text": [
      "AR: 0, MA: 0, AIC: -3852; resid stationarity check: 0\n",
      "AR: 0, MA: 1, AIC: -4548; resid stationarity check: 0\n"
     ]
    },
    {
     "name": "stderr",
     "output_type": "stream",
     "text": [
      "C:\\Users\\Kimbeomjoon.DESKTOP-5T6FIPU\\AppData\\Roaming\\Python\\Python39\\site-packages\\statsmodels\\base\\model.py:604: ConvergenceWarning: Maximum Likelihood optimization failed to converge. Check mle_retvals\n",
      "  warnings.warn(\"Maximum Likelihood optimization failed to \"\n"
     ]
    },
    {
     "name": "stdout",
     "output_type": "stream",
     "text": [
      "AR: 0, MA: 2, AIC: -4550; resid stationarity check: 0\n"
     ]
    },
    {
     "name": "stderr",
     "output_type": "stream",
     "text": [
      "C:\\Users\\Kimbeomjoon.DESKTOP-5T6FIPU\\AppData\\Roaming\\Python\\Python39\\site-packages\\statsmodels\\base\\model.py:604: ConvergenceWarning: Maximum Likelihood optimization failed to converge. Check mle_retvals\n",
      "  warnings.warn(\"Maximum Likelihood optimization failed to \"\n"
     ]
    },
    {
     "name": "stdout",
     "output_type": "stream",
     "text": [
      "AR: 0, MA: 3, AIC: -4551; resid stationarity check: 0\n"
     ]
    },
    {
     "name": "stderr",
     "output_type": "stream",
     "text": [
      "C:\\Users\\Kimbeomjoon.DESKTOP-5T6FIPU\\AppData\\Roaming\\Python\\Python39\\site-packages\\statsmodels\\base\\model.py:604: ConvergenceWarning: Maximum Likelihood optimization failed to converge. Check mle_retvals\n",
      "  warnings.warn(\"Maximum Likelihood optimization failed to \"\n"
     ]
    },
    {
     "name": "stdout",
     "output_type": "stream",
     "text": [
      "AR: 0, MA: 4, AIC: -4549; resid stationarity check: 0\n",
      "AR: 1, MA: 0, AIC: -4124; resid stationarity check: 0\n",
      "AR: 1, MA: 1, AIC: -4549; resid stationarity check: 0\n",
      "AR: 1, MA: 2, AIC: -4544; resid stationarity check: 0\n",
      "AR: 1, MA: 3, AIC: -4546; resid stationarity check: 0\n"
     ]
    },
    {
     "name": "stderr",
     "output_type": "stream",
     "text": [
      "C:\\Users\\Kimbeomjoon.DESKTOP-5T6FIPU\\AppData\\Roaming\\Python\\Python39\\site-packages\\statsmodels\\base\\model.py:604: ConvergenceWarning: Maximum Likelihood optimization failed to converge. Check mle_retvals\n",
      "  warnings.warn(\"Maximum Likelihood optimization failed to \"\n"
     ]
    },
    {
     "name": "stdout",
     "output_type": "stream",
     "text": [
      "AR: 1, MA: 4, AIC: -4548; resid stationarity check: 0\n",
      "AR: 2, MA: 0, AIC: -4252; resid stationarity check: 0\n"
     ]
    },
    {
     "name": "stderr",
     "output_type": "stream",
     "text": [
      "C:\\Users\\Kimbeomjoon.DESKTOP-5T6FIPU\\AppData\\Roaming\\Python\\Python39\\site-packages\\statsmodels\\base\\model.py:604: ConvergenceWarning: Maximum Likelihood optimization failed to converge. Check mle_retvals\n",
      "  warnings.warn(\"Maximum Likelihood optimization failed to \"\n"
     ]
    },
    {
     "name": "stdout",
     "output_type": "stream",
     "text": [
      "AR: 2, MA: 1, AIC: -4551; resid stationarity check: 0\n"
     ]
    },
    {
     "name": "stderr",
     "output_type": "stream",
     "text": [
      "C:\\Users\\Kimbeomjoon.DESKTOP-5T6FIPU\\AppData\\Roaming\\Python\\Python39\\site-packages\\statsmodels\\base\\model.py:604: ConvergenceWarning: Maximum Likelihood optimization failed to converge. Check mle_retvals\n",
      "  warnings.warn(\"Maximum Likelihood optimization failed to \"\n"
     ]
    },
    {
     "name": "stdout",
     "output_type": "stream",
     "text": [
      "AR: 2, MA: 2, AIC: -4545; resid stationarity check: 0\n"
     ]
    },
    {
     "name": "stderr",
     "output_type": "stream",
     "text": [
      "C:\\Users\\Kimbeomjoon.DESKTOP-5T6FIPU\\AppData\\Roaming\\Python\\Python39\\site-packages\\statsmodels\\base\\model.py:604: ConvergenceWarning: Maximum Likelihood optimization failed to converge. Check mle_retvals\n",
      "  warnings.warn(\"Maximum Likelihood optimization failed to \"\n"
     ]
    },
    {
     "name": "stdout",
     "output_type": "stream",
     "text": [
      "AR: 2, MA: 3, AIC: -4540; resid stationarity check: 0\n"
     ]
    },
    {
     "name": "stderr",
     "output_type": "stream",
     "text": [
      "C:\\Users\\Kimbeomjoon.DESKTOP-5T6FIPU\\AppData\\Roaming\\Python\\Python39\\site-packages\\statsmodels\\base\\model.py:604: ConvergenceWarning: Maximum Likelihood optimization failed to converge. Check mle_retvals\n",
      "  warnings.warn(\"Maximum Likelihood optimization failed to \"\n"
     ]
    },
    {
     "name": "stdout",
     "output_type": "stream",
     "text": [
      "AR: 2, MA: 4, AIC: -4543; resid stationarity check: 0\n",
      "AR: 3, MA: 0, AIC: -4334; resid stationarity check: 0\n"
     ]
    },
    {
     "name": "stderr",
     "output_type": "stream",
     "text": [
      "C:\\Users\\Kimbeomjoon.DESKTOP-5T6FIPU\\AppData\\Roaming\\Python\\Python39\\site-packages\\statsmodels\\base\\model.py:604: ConvergenceWarning: Maximum Likelihood optimization failed to converge. Check mle_retvals\n",
      "  warnings.warn(\"Maximum Likelihood optimization failed to \"\n",
      "C:\\Users\\Kimbeomjoon.DESKTOP-5T6FIPU\\AppData\\Roaming\\Python\\Python39\\site-packages\\statsmodels\\tsa\\statespace\\sarimax.py:966: UserWarning: Non-stationary starting autoregressive parameters found. Using zeros as starting parameters.\n",
      "  warn('Non-stationary starting autoregressive parameters'\n",
      "C:\\Users\\Kimbeomjoon.DESKTOP-5T6FIPU\\AppData\\Roaming\\Python\\Python39\\site-packages\\statsmodels\\tsa\\statespace\\sarimax.py:978: UserWarning: Non-invertible starting MA parameters found. Using zeros as starting parameters.\n",
      "  warn('Non-invertible starting MA parameters found.'\n"
     ]
    },
    {
     "name": "stdout",
     "output_type": "stream",
     "text": [
      "AR: 3, MA: 1, AIC: -4549; resid stationarity check: 0\n"
     ]
    },
    {
     "name": "stderr",
     "output_type": "stream",
     "text": [
      "C:\\Users\\Kimbeomjoon.DESKTOP-5T6FIPU\\AppData\\Roaming\\Python\\Python39\\site-packages\\statsmodels\\base\\model.py:604: ConvergenceWarning: Maximum Likelihood optimization failed to converge. Check mle_retvals\n",
      "  warnings.warn(\"Maximum Likelihood optimization failed to \"\n"
     ]
    },
    {
     "name": "stdout",
     "output_type": "stream",
     "text": [
      "AR: 3, MA: 2, AIC: -4548; resid stationarity check: 0\n"
     ]
    },
    {
     "name": "stderr",
     "output_type": "stream",
     "text": [
      "C:\\Users\\Kimbeomjoon.DESKTOP-5T6FIPU\\AppData\\Roaming\\Python\\Python39\\site-packages\\statsmodels\\base\\model.py:604: ConvergenceWarning: Maximum Likelihood optimization failed to converge. Check mle_retvals\n",
      "  warnings.warn(\"Maximum Likelihood optimization failed to \"\n"
     ]
    },
    {
     "name": "stdout",
     "output_type": "stream",
     "text": [
      "AR: 3, MA: 3, AIC: -4543; resid stationarity check: 0\n",
      "AR: 3, MA: 4, AIC: -4543; resid stationarity check: 0\n"
     ]
    },
    {
     "name": "stderr",
     "output_type": "stream",
     "text": [
      "C:\\Users\\Kimbeomjoon.DESKTOP-5T6FIPU\\AppData\\Roaming\\Python\\Python39\\site-packages\\statsmodels\\base\\model.py:604: ConvergenceWarning: Maximum Likelihood optimization failed to converge. Check mle_retvals\n",
      "  warnings.warn(\"Maximum Likelihood optimization failed to \"\n"
     ]
    },
    {
     "name": "stdout",
     "output_type": "stream",
     "text": [
      "AR: 4, MA: 0, AIC: -4365; resid stationarity check: 0\n"
     ]
    },
    {
     "name": "stderr",
     "output_type": "stream",
     "text": [
      "C:\\Users\\Kimbeomjoon.DESKTOP-5T6FIPU\\AppData\\Roaming\\Python\\Python39\\site-packages\\statsmodels\\base\\model.py:604: ConvergenceWarning: Maximum Likelihood optimization failed to converge. Check mle_retvals\n",
      "  warnings.warn(\"Maximum Likelihood optimization failed to \"\n"
     ]
    },
    {
     "name": "stdout",
     "output_type": "stream",
     "text": [
      "AR: 4, MA: 1, AIC: -4547; resid stationarity check: 0\n"
     ]
    },
    {
     "name": "stderr",
     "output_type": "stream",
     "text": [
      "C:\\Users\\Kimbeomjoon.DESKTOP-5T6FIPU\\AppData\\Roaming\\Python\\Python39\\site-packages\\statsmodels\\base\\model.py:604: ConvergenceWarning: Maximum Likelihood optimization failed to converge. Check mle_retvals\n",
      "  warnings.warn(\"Maximum Likelihood optimization failed to \"\n"
     ]
    },
    {
     "name": "stdout",
     "output_type": "stream",
     "text": [
      "AR: 4, MA: 2, AIC: -4544; resid stationarity check: 0\n",
      "AR: 4, MA: 3, AIC: -4543; resid stationarity check: 0\n",
      "AR: 4, MA: 4, AIC: -4543; resid stationarity check: 0\n",
      "the following function prints AIC criteria and finds the paramters for minimum AIC criteria\n",
      "best AR: 0, best MA: 3, best AIC: -4551;  resid stationarity check:0\n"
     ]
    },
    {
     "name": "stderr",
     "output_type": "stream",
     "text": [
      "C:\\Users\\Kimbeomjoon.DESKTOP-5T6FIPU\\AppData\\Roaming\\Python\\Python39\\site-packages\\statsmodels\\base\\model.py:604: ConvergenceWarning: Maximum Likelihood optimization failed to converge. Check mle_retvals\n",
      "  warnings.warn(\"Maximum Likelihood optimization failed to \"\n"
     ]
    }
   ],
   "source": [
    "best_AR_MA_checker(orion_log, 0, 5)"
   ]
  },
  {
   "cell_type": "code",
   "execution_count": 181,
   "metadata": {},
   "outputs": [
    {
     "name": "stdout",
     "output_type": "stream",
     "text": [
      "                               SARIMAX Results                                \n",
      "==============================================================================\n",
      "Dep. Variable:                      y   No. Observations:                  933\n",
      "Model:                 ARIMA(1, 0, 1)   Log Likelihood                2285.794\n",
      "Date:                Sun, 11 Dec 2022   AIC                          -4563.588\n",
      "Time:                        15:27:32   BIC                          -4544.235\n",
      "Sample:                             0   HQIC                         -4556.208\n",
      "                                - 933                                         \n",
      "Covariance Type:                  opg                                         \n",
      "==============================================================================\n",
      "                 coef    std err          z      P>|z|      [0.025      0.975]\n",
      "------------------------------------------------------------------------------\n",
      "const       7.866e-05      0.001      0.141      0.888      -0.001       0.001\n",
      "ar.L1          0.6120      0.200      3.055      0.002       0.219       1.005\n",
      "ma.L1         -0.6846      0.184     -3.716      0.000      -1.046      -0.324\n",
      "sigma2         0.0004   1.55e-05     28.091      0.000       0.000       0.000\n",
      "===================================================================================\n",
      "Ljung-Box (L1) (Q):                   0.01   Jarque-Bera (JB):                85.59\n",
      "Prob(Q):                              0.94   Prob(JB):                         0.00\n",
      "Heteroskedasticity (H):               0.66   Skew:                             0.14\n",
      "Prob(H) (two-sided):                  0.00   Kurtosis:                         4.46\n",
      "===================================================================================\n",
      "\n",
      "Warnings:\n",
      "[1] Covariance matrix calculated using the outer product of gradients (complex-step).\n"
     ]
    }
   ],
   "source": [
    "orion_arma = sm.tsa.ARIMA(orion_log, order=(1,0,1))\n",
    "orion_arma_res = orion_arma.fit()\n",
    "print(orion_arma_res.summary())"
   ]
  },
  {
   "cell_type": "code",
   "execution_count": 182,
   "metadata": {},
   "outputs": [
    {
     "name": "stdout",
     "output_type": "stream",
     "text": [
      "AR: 0, MA: 0, AIC: -3469; resid stationarity check: 0\n",
      "AR: 0, MA: 1, AIC: -4154; resid stationarity check: 0\n",
      "AR: 0, MA: 2, AIC: -4154; resid stationarity check: 0\n",
      "AR: 0, MA: 3, AIC: -4153; resid stationarity check: 0\n"
     ]
    },
    {
     "name": "stderr",
     "output_type": "stream",
     "text": [
      "C:\\Users\\Kimbeomjoon.DESKTOP-5T6FIPU\\AppData\\Roaming\\Python\\Python39\\site-packages\\statsmodels\\tsa\\statespace\\sarimax.py:978: UserWarning: Non-invertible starting MA parameters found. Using zeros as starting parameters.\n",
      "  warn('Non-invertible starting MA parameters found.'\n",
      "C:\\Users\\Kimbeomjoon.DESKTOP-5T6FIPU\\AppData\\Roaming\\Python\\Python39\\site-packages\\statsmodels\\base\\model.py:604: ConvergenceWarning: Maximum Likelihood optimization failed to converge. Check mle_retvals\n",
      "  warnings.warn(\"Maximum Likelihood optimization failed to \"\n"
     ]
    },
    {
     "name": "stdout",
     "output_type": "stream",
     "text": [
      "AR: 0, MA: 4, AIC: -4152; resid stationarity check: 0\n",
      "AR: 1, MA: 0, AIC: -3752; resid stationarity check: 0\n",
      "AR: 1, MA: 1, AIC: -4154; resid stationarity check: 0\n",
      "AR: 1, MA: 2, AIC: -4150; resid stationarity check: 0\n",
      "AR: 1, MA: 3, AIC: -4152; resid stationarity check: 0\n"
     ]
    },
    {
     "name": "stderr",
     "output_type": "stream",
     "text": [
      "C:\\Users\\Kimbeomjoon.DESKTOP-5T6FIPU\\AppData\\Roaming\\Python\\Python39\\site-packages\\statsmodels\\base\\model.py:604: ConvergenceWarning: Maximum Likelihood optimization failed to converge. Check mle_retvals\n",
      "  warnings.warn(\"Maximum Likelihood optimization failed to \"\n"
     ]
    },
    {
     "name": "stdout",
     "output_type": "stream",
     "text": [
      "AR: 1, MA: 4, AIC: -4150; resid stationarity check: 0\n",
      "AR: 2, MA: 0, AIC: -3866; resid stationarity check: 0\n",
      "AR: 2, MA: 1, AIC: -4153; resid stationarity check: 0\n",
      "AR: 2, MA: 2, AIC: -4152; resid stationarity check: 0\n",
      "AR: 2, MA: 3, AIC: -4150; resid stationarity check: 0\n",
      "AR: 2, MA: 4, AIC: -4147; resid stationarity check: 0\n",
      "AR: 3, MA: 0, AIC: -3912; resid stationarity check: 0\n"
     ]
    },
    {
     "name": "stderr",
     "output_type": "stream",
     "text": [
      "C:\\Users\\Kimbeomjoon.DESKTOP-5T6FIPU\\AppData\\Roaming\\Python\\Python39\\site-packages\\statsmodels\\base\\model.py:604: ConvergenceWarning: Maximum Likelihood optimization failed to converge. Check mle_retvals\n",
      "  warnings.warn(\"Maximum Likelihood optimization failed to \"\n"
     ]
    },
    {
     "name": "stdout",
     "output_type": "stream",
     "text": [
      "AR: 3, MA: 1, AIC: -4151; resid stationarity check: 0\n",
      "AR: 3, MA: 2, AIC: -4149; resid stationarity check: 0\n",
      "AR: 3, MA: 3, AIC: -4147; resid stationarity check: 0\n",
      "AR: 3, MA: 4, AIC: -4145; resid stationarity check: 0\n",
      "AR: 4, MA: 0, AIC: -3961; resid stationarity check: 0\n"
     ]
    },
    {
     "name": "stderr",
     "output_type": "stream",
     "text": [
      "C:\\Users\\Kimbeomjoon.DESKTOP-5T6FIPU\\AppData\\Roaming\\Python\\Python39\\site-packages\\statsmodels\\base\\model.py:604: ConvergenceWarning: Maximum Likelihood optimization failed to converge. Check mle_retvals\n",
      "  warnings.warn(\"Maximum Likelihood optimization failed to \"\n",
      "C:\\Users\\Kimbeomjoon.DESKTOP-5T6FIPU\\AppData\\Roaming\\Python\\Python39\\site-packages\\statsmodels\\tsa\\statespace\\sarimax.py:978: UserWarning: Non-invertible starting MA parameters found. Using zeros as starting parameters.\n",
      "  warn('Non-invertible starting MA parameters found.'\n"
     ]
    },
    {
     "name": "stdout",
     "output_type": "stream",
     "text": [
      "AR: 4, MA: 1, AIC: -4153; resid stationarity check: 0\n"
     ]
    },
    {
     "name": "stderr",
     "output_type": "stream",
     "text": [
      "C:\\Users\\Kimbeomjoon.DESKTOP-5T6FIPU\\AppData\\Roaming\\Python\\Python39\\site-packages\\statsmodels\\base\\model.py:604: ConvergenceWarning: Maximum Likelihood optimization failed to converge. Check mle_retvals\n",
      "  warnings.warn(\"Maximum Likelihood optimization failed to \"\n"
     ]
    },
    {
     "name": "stdout",
     "output_type": "stream",
     "text": [
      "AR: 4, MA: 2, AIC: -4150; resid stationarity check: 0\n"
     ]
    },
    {
     "name": "stderr",
     "output_type": "stream",
     "text": [
      "C:\\Users\\Kimbeomjoon.DESKTOP-5T6FIPU\\AppData\\Roaming\\Python\\Python39\\site-packages\\statsmodels\\base\\model.py:604: ConvergenceWarning: Maximum Likelihood optimization failed to converge. Check mle_retvals\n",
      "  warnings.warn(\"Maximum Likelihood optimization failed to \"\n"
     ]
    },
    {
     "name": "stdout",
     "output_type": "stream",
     "text": [
      "AR: 4, MA: 3, AIC: -4146; resid stationarity check: 0\n",
      "AR: 4, MA: 4, AIC: -4145; resid stationarity check: 0\n",
      "the following function prints AIC criteria and finds the paramters for minimum AIC criteria\n",
      "best AR: 0, best MA: 2, best AIC: -4154;  resid stationarity check:0\n"
     ]
    },
    {
     "name": "stderr",
     "output_type": "stream",
     "text": [
      "C:\\Users\\Kimbeomjoon.DESKTOP-5T6FIPU\\AppData\\Roaming\\Python\\Python39\\site-packages\\statsmodels\\base\\model.py:604: ConvergenceWarning: Maximum Likelihood optimization failed to converge. Check mle_retvals\n",
      "  warnings.warn(\"Maximum Likelihood optimization failed to \"\n"
     ]
    }
   ],
   "source": [
    "best_AR_MA_checker(nova_log, 0, 5)"
   ]
  },
  {
   "cell_type": "code",
   "execution_count": 187,
   "metadata": {},
   "outputs": [
    {
     "name": "stdout",
     "output_type": "stream",
     "text": [
      "                               SARIMAX Results                                \n",
      "==============================================================================\n",
      "Dep. Variable:                      y   No. Observations:                  933\n",
      "Model:               SARIMAX(4, 1, 1)   Log Likelihood                2082.649\n",
      "Date:                Sun, 11 Dec 2022   AIC                          -4153.297\n",
      "Time:                        15:31:37   BIC                          -4124.273\n",
      "Sample:                             0   HQIC                         -4142.228\n",
      "                                - 933                                         \n",
      "Covariance Type:                  opg                                         \n",
      "==============================================================================\n",
      "                 coef    std err          z      P>|z|      [0.025      0.975]\n",
      "------------------------------------------------------------------------------\n",
      "ar.L1         -0.0618      0.029     -2.133      0.033      -0.119      -0.005\n",
      "ar.L2         -0.0182      0.030     -0.598      0.550      -0.078       0.041\n",
      "ar.L3         -0.0568      0.030     -1.906      0.057      -0.115       0.002\n",
      "ar.L4         -0.0791      0.029     -2.707      0.007      -0.136      -0.022\n",
      "ma.L1         -0.9860      0.008   -128.906      0.000      -1.001      -0.971\n",
      "sigma2         0.0007    2.1e-05     32.012      0.000       0.001       0.001\n",
      "===================================================================================\n",
      "Ljung-Box (L1) (Q):                   0.04   Jarque-Bera (JB):               329.14\n",
      "Prob(Q):                              0.84   Prob(JB):                         0.00\n",
      "Heteroskedasticity (H):               0.67   Skew:                             0.07\n",
      "Prob(H) (two-sided):                  0.00   Kurtosis:                         5.91\n",
      "===================================================================================\n",
      "\n",
      "Warnings:\n",
      "[1] Covariance matrix calculated using the outer product of gradients (complex-step).\n"
     ]
    }
   ],
   "source": [
    "nova_arma2 = pmdarima.auto_arima(nova_log)\n",
    "print(nova_arma2.summary())"
   ]
  },
  {
   "cell_type": "code",
   "execution_count": 188,
   "metadata": {},
   "outputs": [
    {
     "name": "stdout",
     "output_type": "stream",
     "text": [
      "Iteration:      1,   Func. Count:      6,   Neg. LLF: 937030782260995.8\n",
      "Iteration:      2,   Func. Count:     18,   Neg. LLF: 3246532683684.658\n",
      "Optimization terminated successfully    (Exit mode 0)\n",
      "            Current function value: -2305.585436324787\n",
      "            Iterations: 2\n",
      "            Function evaluations: 28\n",
      "            Gradient evaluations: 2\n",
      "                     Constant Mean - GARCH Model Results                      \n",
      "==============================================================================\n",
      "Dep. Variable:                      y   R-squared:                       0.000\n",
      "Mean Model:             Constant Mean   Adj. R-squared:                  0.000\n",
      "Vol Model:                      GARCH   Log-Likelihood:                2305.59\n",
      "Distribution:                  Normal   AIC:                          -4603.17\n",
      "Method:            Maximum Likelihood   BIC:                          -4583.82\n",
      "                                        No. Observations:                  933\n",
      "Date:                Sun, Dec 11 2022   Df Residuals:                      932\n",
      "Time:                        15:35:53   Df Model:                            1\n",
      "                                  Mean Model                                 \n",
      "=============================================================================\n",
      "                 coef    std err          t      P>|t|       95.0% Conf. Int.\n",
      "-----------------------------------------------------------------------------\n",
      "mu         1.0262e-04  6.501e-04      0.158      0.875 [-1.172e-03,1.377e-03]\n",
      "                              Volatility Model                              \n",
      "============================================================================\n",
      "                 coef    std err          t      P>|t|      95.0% Conf. Int.\n",
      "----------------------------------------------------------------------------\n",
      "omega      8.7151e-06  3.322e-11  2.624e+05      0.000 [8.715e-06,8.715e-06]\n",
      "alpha[1]       0.0500  2.082e-02      2.401  1.633e-02 [9.193e-03,9.081e-02]\n",
      "beta[1]        0.9300  1.971e-02     47.181      0.000     [  0.891,  0.969]\n",
      "============================================================================\n",
      "\n",
      "Covariance estimator: robust\n"
     ]
    },
    {
     "name": "stderr",
     "output_type": "stream",
     "text": [
      "c:\\ProgramData\\Anaconda3\\lib\\site-packages\\arch\\univariate\\base.py:309: DataScaleWarning: y is poorly scaled, which may affect convergence of the optimizer when\n",
      "estimating the model parameters. The scale of y is 0.0004358. Parameter\n",
      "estimation work better when this value is between 1 and 1000. The recommended\n",
      "rescaling is 100 * y.\n",
      "\n",
      "This warning can be disabled by either rescaling y before initializing the\n",
      "model or by setting rescale=False.\n",
      "\n",
      "  warnings.warn(\n"
     ]
    }
   ],
   "source": [
    "orion_arima = pmdarima.auto_arima(orion_log)\n",
    "orion_residual = orion_arima.arima_res_.resid\n",
    "orion_garch = arch_model(orion_residual, p=1, q=1)\n",
    "orion_garch_fitted = orion_garch.fit()\n",
    "print(orion_garch_fitted.summary())"
   ]
  },
  {
   "cell_type": "code",
   "execution_count": 189,
   "metadata": {},
   "outputs": [
    {
     "name": "stderr",
     "output_type": "stream",
     "text": [
      "c:\\ProgramData\\Anaconda3\\lib\\site-packages\\arch\\__future__\\_utility.py:11: FutureWarning: \n",
      "The default for reindex is True. After September 2021 this will change to\n",
      "False. Set reindex to True or False to silence this message. Alternatively,\n",
      "you can use the import comment\n",
      "\n",
      "from arch.__future__ import reindexing\n",
      "\n",
      "to globally set reindex to True and silence this warning.\n",
      "\n",
      "  warnings.warn(\n"
     ]
    }
   ],
   "source": [
    "orion_vol = orion_garch_fitted.forecast(horizon=20)"
   ]
  },
  {
   "cell_type": "code",
   "execution_count": 190,
   "metadata": {},
   "outputs": [
    {
     "data": {
      "image/png": "[encoded data removed]",
      "text/plain": [
       "<Figure size 432x288 with 1 Axes>"
      ]
     },
     "metadata": {
      "needs_background": "light"
     },
     "output_type": "display_data"
    }
   ],
   "source": [
    "plt.plot(orion_vol.variance.values[-1, :])\n",
    "plt.show()"
   ]
  },
  {
   "cell_type": "code",
   "execution_count": 192,
   "metadata": {},
   "outputs": [
    {
     "name": "stdout",
     "output_type": "stream",
     "text": [
      "Iteration:      1,   Func. Count:      6,   Neg. LLF: 5.970381005200974e+16\n",
      "Iteration:      2,   Func. Count:     17,   Neg. LLF: 3058525.3162045684\n",
      "Iteration:      3,   Func. Count:     28,   Neg. LLF: 88827.55038772147\n",
      "Iteration:      4,   Func. Count:     39,   Neg. LLF: 1252736878819554.2\n",
      "Iteration:      5,   Func. Count:     49,   Neg. LLF: -2125.6817536119083\n",
      "Optimization terminated successfully    (Exit mode 0)\n",
      "            Current function value: -2125.6817568087054\n",
      "            Iterations: 9\n",
      "            Function evaluations: 49\n",
      "            Gradient evaluations: 5\n",
      "                     Constant Mean - GARCH Model Results                      \n",
      "==============================================================================\n",
      "Dep. Variable:                      y   R-squared:                       0.000\n",
      "Mean Model:             Constant Mean   Adj. R-squared:                  0.000\n",
      "Vol Model:                      GARCH   Log-Likelihood:                2125.68\n",
      "Distribution:                  Normal   AIC:                          -4243.36\n",
      "Method:            Maximum Likelihood   BIC:                          -4224.01\n",
      "                                        No. Observations:                  933\n",
      "Date:                Sun, Dec 11 2022   Df Residuals:                      932\n",
      "Time:                        15:40:38   Df Model:                            1\n",
      "                                  Mean Model                                  \n",
      "==============================================================================\n",
      "                  coef    std err          t      P>|t|       95.0% Conf. Int.\n",
      "------------------------------------------------------------------------------\n",
      "mu         -8.5324e-04  7.892e-04     -1.081      0.280 [-2.400e-03,6.936e-04]\n",
      "                              Volatility Model                              \n",
      "============================================================================\n",
      "                 coef    std err          t      P>|t|      95.0% Conf. Int.\n",
      "----------------------------------------------------------------------------\n",
      "omega      1.3521e-05  2.896e-11  4.668e+05      0.000 [1.352e-05,1.352e-05]\n",
      "alpha[1]       0.0500  3.050e-02      1.639      0.101  [-9.774e-03,  0.110]\n",
      "beta[1]        0.9300  2.482e-02     37.468 3.039e-307     [  0.881,  0.979]\n",
      "============================================================================\n",
      "\n",
      "Covariance estimator: robust\n"
     ]
    },
    {
     "name": "stderr",
     "output_type": "stream",
     "text": [
      "c:\\ProgramData\\Anaconda3\\lib\\site-packages\\arch\\univariate\\base.py:309: DataScaleWarning: y is poorly scaled, which may affect convergence of the optimizer when\n",
      "estimating the model parameters. The scale of y is 0.0006752. Parameter\n",
      "estimation work better when this value is between 1 and 1000. The recommended\n",
      "rescaling is 100 * y.\n",
      "\n",
      "This warning can be disabled by either rescaling y before initializing the\n",
      "model or by setting rescale=False.\n",
      "\n",
      "  warnings.warn(\n"
     ]
    }
   ],
   "source": [
    "nova_arima = pmdarima.auto_arima(nova_log)\n",
    "nova_residual = nova_arima.arima_res_.resid\n",
    "nova_garch = arch_model(nova_residual, p=1, q=1)\n",
    "nova_garch_fitted = nova_garch.fit()\n",
    "print(nova_garch_fitted.summary())"
   ]
  },
  {
   "cell_type": "code",
   "execution_count": 194,
   "metadata": {},
   "outputs": [
    {
     "name": "stderr",
     "output_type": "stream",
     "text": [
      "c:\\ProgramData\\Anaconda3\\lib\\site-packages\\arch\\__future__\\_utility.py:11: FutureWarning: \n",
      "The default for reindex is True. After September 2021 this will change to\n",
      "False. Set reindex to True or False to silence this message. Alternatively,\n",
      "you can use the import comment\n",
      "\n",
      "from arch.__future__ import reindexing\n",
      "\n",
      "to globally set reindex to True and silence this warning.\n",
      "\n",
      "  warnings.warn(\n"
     ]
    },
    {
     "data": {
      "image/png": "[encoded data removed]",
      "text/plain": [
       "<Figure size 432x288 with 1 Axes>"
      ]
     },
     "metadata": {
      "needs_background": "light"
     },
     "output_type": "display_data"
    }
   ],
   "source": [
    "nova_vol = nova_garch_fitted.forecast(horizon=20)\n",
    "plt.plot(nova_vol.variance.values[-1, :])\n",
    "plt.show()"
   ]
  }
 ],
 "metadata": {
  "kernelspec": {
   "display_name": "Python 3 (ipykernel)",
   "language": "python",
   "name": "python3"
  },
  "language_info": {
   "codemirror_mode": {
    "name": "ipython",
    "version": 3
   },
   "file_extension": ".py",
   "mimetype": "text/x-python",
   "name": "python",
   "nbconvert_exporter": "python",
   "pygments_lexer": "ipython3",
   "version": "3.9.7"
  },
  "vscode": {
   "interpreter": {
    "hash": "ad2bdc8ecc057115af97d19610ffacc2b4e99fae6737bb82f5d7fb13d2f2c186"
   }
  }
 },
 "nbformat": 4,
 "nbformat_minor": 2
}
