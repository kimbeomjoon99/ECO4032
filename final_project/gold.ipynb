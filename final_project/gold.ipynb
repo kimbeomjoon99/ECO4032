{
 "cells": [
  {
   "cell_type": "code",
   "execution_count": 25,
   "metadata": {},
   "outputs": [],
   "source": [
    "import numpy as np\n",
    "import pandas as pd\n",
    "import matplotlib.pyplot as plt\n",
    "import statsmodels.api as sm\n",
    "from statsmodels.tsa import stattools\n",
    "import pmdarima\n",
    "import itertools\n",
    "from arch import arch_model"
   ]
  },
  {
   "cell_type": "code",
   "execution_count": 44,
   "metadata": {},
   "outputs": [
    {
     "data": {
      "text/html": [
       "<div>\n",
       "<style scoped>\n",
       "    .dataframe tbody tr th:only-of-type {\n",
       "        vertical-align: middle;\n",
       "    }\n",
       "\n",
       "    .dataframe tbody tr th {\n",
       "        vertical-align: top;\n",
       "    }\n",
       "\n",
       "    .dataframe thead th {\n",
       "        text-align: right;\n",
       "    }\n",
       "</style>\n",
       "<table border=\"1\" class=\"dataframe\">\n",
       "  <thead>\n",
       "    <tr style=\"text-align: right;\">\n",
       "      <th></th>\n",
       "      <th>Unnamed: 2</th>\n",
       "    </tr>\n",
       "    <tr>\n",
       "      <th>Unnamed: 1</th>\n",
       "      <th></th>\n",
       "    </tr>\n",
       "  </thead>\n",
       "  <tbody>\n",
       "    <tr>\n",
       "      <th>2014-03-20</th>\n",
       "      <td>1327</td>\n",
       "    </tr>\n",
       "    <tr>\n",
       "      <th>2014-03-21</th>\n",
       "      <td>1336</td>\n",
       "    </tr>\n",
       "    <tr>\n",
       "      <th>2014-03-24</th>\n",
       "      <td>1310.75</td>\n",
       "    </tr>\n",
       "    <tr>\n",
       "      <th>2014-03-25</th>\n",
       "      <td>1313.5</td>\n",
       "    </tr>\n",
       "    <tr>\n",
       "      <th>2014-03-26</th>\n",
       "      <td>1304</td>\n",
       "    </tr>\n",
       "    <tr>\n",
       "      <th>...</th>\n",
       "      <td>...</td>\n",
       "    </tr>\n",
       "    <tr>\n",
       "      <th>2022-11-11</th>\n",
       "      <td>1759.35</td>\n",
       "    </tr>\n",
       "    <tr>\n",
       "      <th>2022-11-14</th>\n",
       "      <td>1768.9</td>\n",
       "    </tr>\n",
       "    <tr>\n",
       "      <th>2022-11-15</th>\n",
       "      <td>1771.35</td>\n",
       "    </tr>\n",
       "    <tr>\n",
       "      <th>2022-11-16</th>\n",
       "      <td>1773</td>\n",
       "    </tr>\n",
       "    <tr>\n",
       "      <th>2022-11-17</th>\n",
       "      <td>1758.6</td>\n",
       "    </tr>\n",
       "  </tbody>\n",
       "</table>\n",
       "<p>2181 rows × 1 columns</p>\n",
       "</div>"
      ],
      "text/plain": [
       "           Unnamed: 2\n",
       "Unnamed: 1           \n",
       "2014-03-20       1327\n",
       "2014-03-21       1336\n",
       "2014-03-24    1310.75\n",
       "2014-03-25     1313.5\n",
       "2014-03-26       1304\n",
       "...               ...\n",
       "2022-11-11    1759.35\n",
       "2022-11-14     1768.9\n",
       "2022-11-15    1771.35\n",
       "2022-11-16       1773\n",
       "2022-11-17     1758.6\n",
       "\n",
       "[2181 rows x 1 columns]"
      ]
     },
     "execution_count": 44,
     "metadata": {},
     "output_type": "execute_result"
    }
   ],
   "source": [
    "GOLD = pd.read_excel(\"금가격.xls\")\n",
    "#GOLD\n",
    "tmp_df = GOLD.loc[:, 'Unnamed: 1':'Unnamed: 2']\n",
    "tmp_df.iloc[9:]\n",
    "GOLD_value = tmp_df.iloc[9:]\n",
    "GOLD_value = GOLD_value.set_index('Unnamed: 1')\n",
    "GOLD_value"
   ]
  },
  {
   "cell_type": "code",
   "execution_count": 45,
   "metadata": {},
   "outputs": [
    {
     "name": "stdout",
     "output_type": "stream",
     "text": [
      "Iteration:      1,   Func. Count:      6,   Neg. LLF: 101691.34241391692\n",
      "Iteration:      2,   Func. Count:     12,   Neg. LLF: 100917.12374124551\n",
      "Iteration:      3,   Func. Count:     20,   Neg. LLF: 8986.17109761744\n",
      "Iteration:      4,   Func. Count:     26,   Neg. LLF: 8909.178653564239\n",
      "Iteration:      5,   Func. Count:     32,   Neg. LLF: 8675.331146482262\n",
      "Iteration:      6,   Func. Count:     38,   Neg. LLF: 8652.976316172339\n",
      "Iteration:      7,   Func. Count:     43,   Neg. LLF: 8650.217349389575\n",
      "Iteration:      8,   Func. Count:     48,   Neg. LLF: 8651.65136884257\n",
      "Iteration:      9,   Func. Count:     54,   Neg. LLF: 8649.302425991285\n",
      "Iteration:     10,   Func. Count:     59,   Neg. LLF: 8649.28975353518\n",
      "Iteration:     11,   Func. Count:     64,   Neg. LLF: 8649.289693591665\n",
      "Iteration:     12,   Func. Count:     69,   Neg. LLF: 8649.289676193173\n",
      "Iteration:     13,   Func. Count:     73,   Neg. LLF: 8649.289676192679\n",
      "Optimization terminated successfully    (Exit mode 0)\n",
      "            Current function value: 8649.289676193173\n",
      "            Iterations: 13\n",
      "            Function evaluations: 73\n",
      "            Gradient evaluations: 13\n",
      "                     Constant Mean - GARCH Model Results                      \n",
      "==============================================================================\n",
      "Dep. Variable:                   None   R-squared:                       0.000\n",
      "Mean Model:             Constant Mean   Adj. R-squared:                  0.000\n",
      "Vol Model:                      GARCH   Log-Likelihood:               -8649.29\n",
      "Distribution:                  Normal   AIC:                           17306.6\n",
      "Method:            Maximum Likelihood   BIC:                           17329.3\n",
      "                                        No. Observations:                 2181\n",
      "Date:                Sat, Nov 19 2022   Df Residuals:                     2180\n",
      "Time:                        16:57:44   Df Model:                            1\n",
      "                               Mean Model                               \n",
      "========================================================================\n",
      "                 coef    std err          t      P>|t|  95.0% Conf. Int.\n",
      "------------------------------------------------------------------------\n",
      "mu             0.0412      0.245      0.168      0.866 [ -0.438,  0.521]\n",
      "                            Volatility Model                            \n",
      "========================================================================\n",
      "                 coef    std err          t      P>|t|  95.0% Conf. Int.\n",
      "------------------------------------------------------------------------\n",
      "omega         10.1939      3.358      3.035  2.403e-03 [  3.612, 16.776]\n",
      "alpha[1]       0.1351  1.763e-02      7.665  1.782e-14 [  0.101,  0.170]\n",
      "beta[1]        0.8112  2.939e-02     27.597 1.207e-167 [  0.754,  0.869]\n",
      "========================================================================\n",
      "\n",
      "Covariance estimator: robust\n"
     ]
    }
   ],
   "source": [
    "gold_arima = pmdarima.auto_arima(GOLD_value)\n",
    "gold_residual = gold_arima.arima_res_.resid\n",
    "gold_garch = arch_model(gold_residual, p=1, q=1)\n",
    "gold_garch_fitted = gold_garch.fit()\n",
    "print(gold_garch_fitted.summary())"
   ]
  },
  {
   "cell_type": "code",
   "execution_count": 46,
   "metadata": {},
   "outputs": [
    {
     "data": {
      "text/plain": [
       "(2, 1, 2)"
      ]
     },
     "execution_count": 46,
     "metadata": {},
     "output_type": "execute_result"
    }
   ],
   "source": [
    "gold_arima.order"
   ]
  },
  {
   "cell_type": "code",
   "execution_count": 47,
   "metadata": {},
   "outputs": [
    {
     "name": "stdout",
     "output_type": "stream",
     "text": [
      "                               SARIMAX Results                                \n",
      "==============================================================================\n",
      "Dep. Variable:                      y   No. Observations:                 2181\n",
      "Model:               SARIMAX(2, 1, 2)   Log Likelihood               -8775.166\n",
      "Date:                Sat, 19 Nov 2022   AIC                          17560.332\n",
      "Time:                        16:57:50   BIC                          17588.767\n",
      "Sample:                             0   HQIC                         17570.727\n",
      "                               - 2181                                         \n",
      "Covariance Type:                  opg                                         \n",
      "==============================================================================\n",
      "                 coef    std err          z      P>|z|      [0.025      0.975]\n",
      "------------------------------------------------------------------------------\n",
      "ar.L1          0.5746      0.030     19.013      0.000       0.515       0.634\n",
      "ar.L2         -0.9028      0.029    -31.356      0.000      -0.959      -0.846\n",
      "ma.L1         -0.5884      0.024    -24.356      0.000      -0.636      -0.541\n",
      "ma.L2          0.9451      0.023     40.596      0.000       0.899       0.991\n",
      "sigma2       183.5800      2.985     61.493      0.000     177.729     189.431\n",
      "===================================================================================\n",
      "Ljung-Box (L1) (Q):                   0.02   Jarque-Bera (JB):              2863.14\n",
      "Prob(Q):                              0.90   Prob(JB):                         0.00\n",
      "Heteroskedasticity (H):               2.74   Skew:                            -0.32\n",
      "Prob(H) (two-sided):                  0.00   Kurtosis:                         8.58\n",
      "===================================================================================\n",
      "\n",
      "Warnings:\n",
      "[1] Covariance matrix calculated using the outer product of gradients (complex-step).\n"
     ]
    }
   ],
   "source": [
    "print(gold_arima.summary())"
   ]
  },
  {
   "cell_type": "code",
   "execution_count": 50,
   "metadata": {},
   "outputs": [
    {
     "data": {
      "text/plain": [
       "<arch.univariate.base.ARCHModelForecast at 0x222b5b2a460>"
      ]
     },
     "execution_count": 50,
     "metadata": {},
     "output_type": "execute_result"
    }
   ],
   "source": [
    "\n",
    "gold_garch_fitted.forecast()"
   ]
  }
 ],
 "metadata": {
  "kernelspec": {
   "display_name": "Python 3.9.7 ('base')",
   "language": "python",
   "name": "python3"
  },
  "language_info": {
   "codemirror_mode": {
    "name": "ipython",
    "version": 3
   },
   "file_extension": ".py",
   "mimetype": "text/x-python",
   "name": "python",
   "nbconvert_exporter": "python",
   "pygments_lexer": "ipython3",
   "version": "3.9.7"
  },
  "orig_nbformat": 4,
  "vscode": {
   "interpreter": {
    "hash": "ad2bdc8ecc057115af97d19610ffacc2b4e99fae6737bb82f5d7fb13d2f2c186"
   }
  }
 },
 "nbformat": 4,
 "nbformat_minor": 2
}
